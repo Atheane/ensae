{
 "cells": [
  {
   "cell_type": "markdown",
   "metadata": {},
   "source": [
    "# TD 3 - Mise en pratique des séances 1 et 2 - Utilisation de pandas et visualisation\n",
    "\n",
    "## Exercice 1 - manipulation des textes\n",
    "\n",
    "Durée : 20 minutes\n",
    "\n",
    "1) Importer la base de données relatives aux joueurs de la Coupe du Monde 2014 >> Players_WC2014.xlsx\n",
    " \n",
    "2) Déterminer le nombre de joueurs dans chaque équipe et créer un dictionnaire { équipe : Nombre de joueurs}\n",
    "\n",
    "3) Déterminer quels sont les 3 joueurs qui ont couvert le plus de distance. Y a t il un biais de sélection ?\n",
    "\n",
    "4) Parmis les joueurs qui sont dans le premier décile des joueurs plus rapides, qui a passé le plus clair de son temps à courrir sans la balle ?"
   ]
  },
  {
   "cell_type": "markdown",
   "metadata": {},
   "source": [
    "## Exercice 2 - Les villes\n",
    "\n",
    "Durée : 40 minutes\n",
    "\n",
    "1) Importer la base des villes villes.xls\n",
    "\n",
    "2) Les noms de variables et les observations contiennent des espaces inutiles (exemple : 'MAJ   ') : commnecer par nettoyer l'ensemble des chaines de caractères (à la fois dans les noms de colonnes et dans les observations)\n",
    "\n",
    "3) Trouver le nombre de codes INSEE différents (attention aux doublons)\n",
    "\n",
    "4) Comment calculer rapidement la moyenne, le nombre et le maximum pour chaque variable numérique ? (une ligne de code)\n",
    "\n",
    "5) Compter le nombre de villes dans chaque Region et en faire un dictionnaire où la clé est la région et la valeur le nombre de villes\n",
    "\n",
    "6) Représenter les communes en utilisant  \n",
    "\n",
    "    a) matplotlib   \n",
    "    \n",
    "    b) une librairie de cartographie (ex : folium) "
   ]
  },
  {
   "cell_type": "markdown",
   "metadata": {},
   "source": [
    "## Exercice 3 - Disponibilité des vélibs\n",
    "\n",
    "Durée : 30 minutes\n",
    "\n",
    "1) Importer les données sous la forme d'un dataFrame \n",
    "    - velib_t1.txt - avec les données des stations à un instant t\n",
    "    - velib_t2.txt - avec les données des stations à un instant t + 1\n",
    "\n",
    "2) Représenter la localisation des stations vélib dans Paris\n",
    "    - représenter les stations en fonction du nombre de places avec un gradient\n",
    "\n",
    "3) Comparer pour une station donnée l'évolution de la disponibilité (en fusionnant les deux bases t et t+1)\n",
    "    - représenter les stations qui ont connu une évolution significative (plus de 5 changements) avec un gradient de couleurs "
   ]
  }
 ],
 "metadata": {
  "kernelspec": {
   "display_name": "Python 3",
   "language": "python",
   "name": "python3"
  },
  "language_info": {
   "codemirror_mode": {
    "name": "ipython",
    "version": 3
   },
   "file_extension": ".py",
   "mimetype": "text/x-python",
   "name": "python",
   "nbconvert_exporter": "python",
   "pygments_lexer": "ipython3",
   "version": "3.6.1"
  }
 },
 "nbformat": 4,
 "nbformat_minor": 2
}
