{
  "cells": [
    {
      "cell_type": "markdown",
      "metadata": {},
      "source": [
        "# Web Scrapping et API avec Pocket - correction\n",
        "\n",
        "Le notebook revient sur le webscrapping et l'utilisation d'API avec [pocket](https://getpocket.com/)."
      ]
    },
    {
      "cell_type": "code",
      "execution_count": null,
      "metadata": {},
      "outputs": [
        {
          "data": {
            "text/html": [
              "<div id=\"my_id_menu_nb\">run previous cell, wait for 2 seconds</div>\n",
              "<script>\n",
              "function repeat_indent_string(n){\n",
              "    var a = \"\" ;\n",
              "    for ( ; n > 0 ; --n)\n",
              "        a += \"    \";\n",
              "    return a;\n",
              "}\n",
              "var update_menu_string = function(begin, lfirst, llast, sformat, send, keep_item, begin_format, end_format) {\n",
              "    var anchors = document.getElementsByClassName(\"section\");\n",
              "    if (anchors.length == 0) {\n",
              "        anchors = document.getElementsByClassName(\"text_cell_render rendered_html\");\n",
              "    }\n",
              "    var i,t;\n",
              "    var text_menu = begin;\n",
              "    var text_memo = \"<pre>\\nlength:\" + anchors.length + \"\\n\";\n",
              "    var ind = \"\";\n",
              "    var memo_level = 1;\n",
              "    var href;\n",
              "    var tags = [];\n",
              "    var main_item = 0;\n",
              "    var format_open = 0;\n",
              "    for (i = 0; i <= llast; i++)\n",
              "        tags.push(\"h\" + i);\n",
              "\n",
              "    for (i = 0; i < anchors.length; i++) {\n",
              "        text_memo += \"**\" + anchors[i].id + \"--\\n\";\n",
              "\n",
              "        var child = null;\n",
              "        for(t = 0; t < tags.length; t++) {\n",
              "            var r = anchors[i].getElementsByTagName(tags[t]);\n",
              "            if (r.length > 0) {\n",
              "child = r[0];\n",
              "break;\n",
              "            }\n",
              "        }\n",
              "        if (child == null) {\n",
              "            text_memo += \"null\\n\";\n",
              "            continue;\n",
              "        }\n",
              "        if (anchors[i].hasAttribute(\"id\")) {\n",
              "            // when converted in RST\n",
              "            href = anchors[i].id;\n",
              "            text_memo += \"#1-\" + href;\n",
              "            // passer \u00e0 child suivant (le chercher)\n",
              "        }\n",
              "        else if (child.hasAttribute(\"id\")) {\n",
              "            // in a notebook\n",
              "            href = child.id;\n",
              "            text_memo += \"#2-\" + href;\n",
              "        }\n",
              "        else {\n",
              "            text_memo += \"#3-\" + \"*\" + \"\\n\";\n",
              "            continue;\n",
              "        }\n",
              "        var title = child.textContent;\n",
              "        var level = parseInt(child.tagName.substring(1,2));\n",
              "\n",
              "        text_memo += \"--\" + level + \"?\" + lfirst + \"--\" + title + \"\\n\";\n",
              "\n",
              "        if ((level < lfirst) || (level > llast)) {\n",
              "            continue ;\n",
              "        }\n",
              "        if (title.endsWith('\u00b6')) {\n",
              "            title = title.substring(0,title.length-1).replace(\"<\", \"&lt;\")\n",
              "         .replace(\">\", \"&gt;\").replace(\"&\", \"&amp;\");\n",
              "        }\n",
              "        if (title.length == 0) {\n",
              "            continue;\n",
              "        }\n",
              "\n",
              "        while (level < memo_level) {\n",
              "            text_menu += end_format + \"</ul>\\n\";\n",
              "            format_open -= 1;\n",
              "            memo_level -= 1;\n",
              "        }\n",
              "        if (level == lfirst) {\n",
              "            main_item += 1;\n",
              "        }\n",
              "        if (keep_item != -1 && main_item != keep_item + 1) {\n",
              "            // alert(main_item + \" - \" + level + \" - \" + keep_item);\n",
              "            continue;\n",
              "        }\n",
              "        while (level > memo_level) {\n",
              "            text_menu += \"<ul>\\n\";\n",
              "            memo_level += 1;\n",
              "        }\n",
              "        text_menu += repeat_indent_string(level-2);\n",
              "        text_menu += begin_format + sformat.replace(\"__HREF__\", href).replace(\"__TITLE__\", title);\n",
              "        format_open += 1;\n",
              "    }\n",
              "    while (1 < memo_level) {\n",
              "        text_menu += end_format + \"</ul>\\n\";\n",
              "        memo_level -= 1;\n",
              "        format_open -= 1;\n",
              "    }\n",
              "    text_menu += send;\n",
              "    //text_menu += \"\\n\" + text_memo;\n",
              "\n",
              "    while (format_open > 0) {\n",
              "        text_menu += end_format;\n",
              "        format_open -= 1;\n",
              "    }\n",
              "    return text_menu;\n",
              "};\n",
              "var update_menu = function() {\n",
              "    var sbegin = \"\";\n",
              "    var sformat = '<a href=\"#__HREF__\">__TITLE__</a>';\n",
              "    var send = \"\";\n",
              "    var begin_format = '<li>';\n",
              "    var end_format = '</li>';\n",
              "    var keep_item = -1;\n",
              "    var text_menu = update_menu_string(sbegin, 2, 4, sformat, send, keep_item,\n",
              "       begin_format, end_format);\n",
              "    var menu = document.getElementById(\"my_id_menu_nb\");\n",
              "    menu.innerHTML=text_menu;\n",
              "};\n",
              "window.setTimeout(update_menu,2000);\n",
              "            </script>"
            ],
            "text/plain": [
              "<IPython.core.display.HTML object>"
            ]
          },
          "execution_count": null,
          "metadata": {},
          "output_type": "execute_result"
        }
      ],
      "source": [
        "from jyquickhelper import add_notebook_menu\n",
        "add_notebook_menu()"
      ]
    },
    {
      "cell_type": "markdown",
      "metadata": {},
      "source": [
        "## Objectifs des prochaines s\u00e9ances"
      ]
    },
    {
      "cell_type": "markdown",
      "metadata": {},
      "source": [
        "Connaissez-vous l'application [Pocket](https://getpocket.com/) ? C'est une application qui simplifie le bookmarking. Elle prend la forme d'une extension Chrome / Firefox. Quand on tombe sur un site int\u00e9ressant, on peut le bookmaker, et ajouter, ou non, des tags pour \"qualifier\" le contenu. Cette application r\u00e9pond au besoin de conserver le contenu web pertinent et de le classer."
      ]
    },
    {
      "cell_type": "markdown",
      "metadata": {},
      "source": [
        "Au cours des prochaines s\u00e9ances, nous allons construire un outil de machine learning qui :\n",
        "- se connecte \u00e0 un compte pocket\n",
        "- r\u00e9cup\u00e8re les sites bookmarqu\u00e9s et les tags \u00e9ventuels\n",
        "- \u00e0 partir des articles tagg\u00e9s, pr\u00e9dit les meilleurs tags des sites non-tagg\u00e9s\n",
        "- tag les articles non tagg\u00e9s"
      ]
    },
    {
      "cell_type": "markdown",
      "metadata": {},
      "source": [
        "Bref, nous allons concevoir un programme de classification automatique des articles !"
      ]
    },
    {
      "cell_type": "markdown",
      "metadata": {},
      "source": [
        "## Objectif de la s\u00e9ance"
      ]
    },
    {
      "cell_type": "markdown",
      "metadata": {},
      "source": [
        "- Cr\u00e9er un compte Pocket\n",
        "- S'authentifier aupr\u00e8s de l'API\n",
        "- Populer le compte avec des donn\u00e9es via l'API\n",
        "- R\u00e9cup\u00e9rer les donn\u00e9es via l'API\n",
        "- Scraper les sites bookmarqu\u00e9s pour enrichir les donn\u00e9es"
      ]
    },
    {
      "cell_type": "markdown",
      "metadata": {},
      "source": [
        "## Mais c'est quoi une API ?"
      ]
    },
    {
      "cell_type": "markdown",
      "metadata": {},
      "source": [
        "On vous explique tout ici :  \n",
        "- [D\u00e9finition](http://www.xavierdupre.fr/app/ensae_teaching_cs/helpsphinx/notebooks/TD2A_eco_les_API.html#definition)\n",
        "- [Les API qui existent](http://www.xavierdupre.fr/app/ensae_teaching_cs/helpsphinx/notebooks/TD2A_eco_les_API.html#les-api-qui-existent)\n",
        "- [Comment parler \u00e0 une API ?](http://www.xavierdupre.fr/app/ensae_teaching_cs/helpsphinx/notebooks/TD2A_eco_les_API.html#comment-parler-a-une-api)"
      ]
    },
    {
      "cell_type": "markdown",
      "metadata": {},
      "source": [
        "Donc un API est une interface permettant de _communiquer_ avec une application. En g\u00e9n\u00e9ral, on veut r\u00e9cup\u00e9rer des donn\u00e9es. Donc la communication consiste \u00e0 envoyer une requete HTTP (le plus souvent GET ou POST) et \u00e0 r\u00e9cup\u00e9rer des donn\u00e9es, souvent au format json. Ici nous voulons r\u00e9cup\u00e9rer des donn\u00e9es d'un compte utilisateur pocket. \n",
        "\n",
        "Pour savoir comment on communique pr\u00e9cis\u00e9ment avec l'API de pocket, il n'y a pas de secret : il faut lire la doc de ceux qui l'ont cod\u00e9e. On vous a simplifi\u00e9 un peu les \u00e9tapes ci-apr\u00e8s."
      ]
    },
    {
      "cell_type": "markdown",
      "metadata": {},
      "source": [
        "## Cr\u00e9ation d'un compte Pocket"
      ]
    },
    {
      "cell_type": "markdown",
      "metadata": {},
      "source": [
        "Cr\u00e9er un compte sur https://getpocket.com/signup?ep=4. Il n'y a pas de v\u00e9rification d'email, donc vous pouvez mettre un faux mail."
      ]
    },
    {
      "cell_type": "markdown",
      "metadata": {},
      "source": [
        "Aller sur la _console developer_ de pocket: https://getpocket.com/developer/apps/index.php"
      ]
    },
    {
      "cell_type": "markdown",
      "metadata": {},
      "source": [
        "<img src=\"./images/console_developer_pocket.png\" width=\"450\"/>"
      ]
    },
    {
      "cell_type": "markdown",
      "metadata": {},
      "source": [
        "Cliquer sur CREATE AN APPLICATION"
      ]
    },
    {
      "cell_type": "markdown",
      "metadata": {},
      "source": [
        "Compl\u00e9ter le formulaire comme suit (vous pouvez changer le nom de l'application et la description)"
      ]
    },
    {
      "cell_type": "markdown",
      "metadata": {},
      "source": [
        "<img src=\"./images/screen_consumer_key.png\" width=\"450\"/>"
      ]
    },
    {
      "cell_type": "markdown",
      "metadata": {},
      "source": [
        "Cliquer sur CREATE APPLICATION"
      ]
    },
    {
      "cell_type": "code",
      "execution_count": null,
      "metadata": {
        "collapsed": true
      },
      "outputs": [],
      "source": [
        "import keyring\n",
        "import os\n",
        "CONSUMER_KEY = keyring.get_password(\"web\", os.environ[\"COMPUTERNAME\"] + \"pocket\")"
      ]
    },
    {
      "cell_type": "markdown",
      "metadata": {},
      "source": [
        "<img src=\"./images/screen_consumer_key2.png\" width=\"450\"/>"
      ]
    },
    {
      "cell_type": "markdown",
      "metadata": {},
      "source": [
        "Vous en aurez besoin pour vous connecter \u00e0 l'API de pocket."
      ]
    },
    {
      "cell_type": "markdown",
      "metadata": {},
      "source": [
        "## Authentification"
      ]
    },
    {
      "cell_type": "markdown",
      "metadata": {},
      "source": [
        "D'abord il faut s'[authentifier](https://getpocket.com/developer/docs/authentication)"
      ]
    },
    {
      "cell_type": "markdown",
      "metadata": {},
      "source": [
        "Protocole utilis\u00e9 ici : [OAUTH2](https://tools.ietf.org/html/rfc6749) (tr\u00e8s classique). "
      ]
    },
    {
      "cell_type": "markdown",
      "metadata": {},
      "source": [
        "<img src=\"./images/screen_oauth2.png\"/>"
      ]
    },
    {
      "cell_type": "markdown",
      "metadata": {},
      "source": [
        "6 \u00e9tapes donc avant d'avoir le droit de r\u00e9cup\u00e9rer les donn\u00e9es. De temps en temps, il existe une librairie python. C'est notre cas : https://github.com/tapanpandita/pocket. On va s'en servir pour s'authentifier. Mais pas pour r\u00e9cup\u00e9rer les donn\u00e9es (elle n'est plus \u00e0 jour pour faire \u00e7a)."
      ]
    },
    {
      "cell_type": "markdown",
      "metadata": {},
      "source": [
        "### Etape 1 : Obtenir un code d'authorisation => get_request_token"
      ]
    },
    {
      "cell_type": "code",
      "execution_count": null,
      "metadata": {},
      "outputs": [],
      "source": [
        "import pocket\n",
        "from pocket import Pocket\n",
        "\n",
        "REDIRECT_URI = \"http://localhost:8888/redirect\"\n",
        "# c'est l'url \u00e0 laquelle vous allez rediriger l'utilisateur (ici, vous) apr\u00e8s que pocket a authentifi\u00e9 l'utilisateur (vous)\n",
        "REQUEST_TOKEN = Pocket.get_request_token(consumer_key=CONSUMER_KEY, redirect_uri=REDIRECT_URI)"
      ]
    },
    {
      "cell_type": "markdown",
      "metadata": {},
      "source": [
        "### Etape 2: Authoriser l'acc\u00e8s\n",
        "\n",
        "Il faut le faire \u00e0 chaque ex\u00e9cution du notebook."
      ]
    },
    {
      "cell_type": "code",
      "execution_count": null,
      "metadata": {},
      "outputs": [
        {
          "name": "stdout",
          "output_type": "stream",
          "text": [
            "Aller \u00e0 l'url : \n",
            "https://getpocket.com/auth/authorize?request_token=REQUEST_TOKEN&redirect_uri=http://localhost:8888/redirect\n"
          ]
        }
      ],
      "source": [
        "# Enlever les guillemets autour de REQUEST_TOKEN\n",
        "url = \"https://getpocket.com/auth/authorize?request_token={0}&redirect_uri={1}\".format(\"REQUEST_TOKEN\", REDIRECT_URI)\n",
        "print(\"Aller \u00e0 l'url : \\n\" + url)"
      ]
    },
    {
      "cell_type": "markdown",
      "metadata": {},
      "source": [
        "<img src=\"./images/screen_authorization_pocket.png\" width=\"450\"/>"
      ]
    },
    {
      "cell_type": "markdown",
      "metadata": {},
      "source": [
        "Cliquer sur Autoriser."
      ]
    },
    {
      "cell_type": "markdown",
      "metadata": {},
      "source": [
        "### Etape 3: R\u00e9cup\u00e9rer le token d'acc\u00e8s"
      ]
    },
    {
      "cell_type": "code",
      "execution_count": null,
      "metadata": {},
      "outputs": [],
      "source": [
        "try:\n",
        "    USER_CREDENTIALS = Pocket.get_credentials(consumer_key=CONSUMER_KEY, code=REQUEST_TOKEN)\n",
        "except Exception as e:\n",
        "    print(e)\n",
        "# print(USER_CREDENTIALS)"
      ]
    },
    {
      "cell_type": "code",
      "execution_count": null,
      "metadata": {
        "collapsed": true
      },
      "outputs": [],
      "source": [
        "ACCESS_TOKEN = USER_CREDENTIALS['access_token']\n",
        "# print(ACCESS_TOKEN)"
      ]
    },
    {
      "cell_type": "markdown",
      "metadata": {},
      "source": [
        "## Chargement de donn\u00e9es sur le nouveau compte"
      ]
    },
    {
      "cell_type": "markdown",
      "metadata": {},
      "source": [
        "Comme vous venez de cr\u00e9er un compte, vous n'avez pas encore d'articles sauvegard\u00e9s. On vous a pr\u00e9par\u00e9 un peu moins de 500 articles (format json). Un tiers de ces articles sont tagg\u00e9s (cat\u00e9goris\u00e9s). Un article peut comprendre un ou plusieurs tags.\n",
        "\n",
        "On vous rappelle que l'objectif \u00e0 termes sera de pr\u00e9dire les meilleurs tags pour les articles non tagg\u00e9s, \u00e9tant donn\u00e9s les mots qui caract\u00e9risent ces articles (titre, r\u00e9sum\u00e9, et ensemble des mots pr\u00e9sents dans le html de la page)."
      ]
    },
    {
      "cell_type": "markdown",
      "metadata": {},
      "source": [
        "### Chargement du fichier json en m\u00e9moire"
      ]
    },
    {
      "cell_type": "code",
      "execution_count": null,
      "metadata": {
        "collapsed": true
      },
      "outputs": [],
      "source": [
        "import json\n",
        "\n",
        "with open('./images/data_pocket.json') as fp:    \n",
        "    data = json.load(fp)"
      ]
    },
    {
      "cell_type": "markdown",
      "metadata": {},
      "source": [
        "On affiche le premier \u00e9l\u00e9ment."
      ]
    },
    {
      "cell_type": "code",
      "execution_count": null,
      "metadata": {},
      "outputs": [
        {
          "name": "stdout",
          "output_type": "stream",
          "text": [
            "{'authors': {'2832761': {'author_id': '2832761',\n",
            "                         'item_id': '1883956314',\n",
            "                         'name': 'float',\n",
            "                         'url': ''}},\n",
            " 'excerpt': 'Il est impossible d\u2019\u00e9crire un programme sans utiliser de '\n",
            "            'variable. Ce terme d\u00e9signe le fait d\u2019attribuer un nom ou '\n",
            "            'identificateur \u00e0 des informations : en les nommant, on peut '\n",
            "            'manipuler ces informations beaucoup plus facilement.',\n",
            " 'favorite': '0',\n",
            " 'given_title': 'Types et variables du langage python \u2014 Programmation avec le '\n",
            "                'langage Python',\n",
            " 'given_url': 'http://www.xavierdupre.fr/app/teachpyx/helpsphinx/c_lang/types.html',\n",
            " 'has_image': '1',\n",
            " 'has_video': '0',\n",
            " 'image': {'height': '0',\n",
            "           'item_id': '1883956314',\n",
            "           'src': 'http://www.xavierdupre.fr/app/teachpyx/helpsphinx/_images/math/a283b6104f42fc7a8bf845790aa022ac525329f0.png',\n",
            "           'width': '0'},\n",
            " 'images': {'1': {'caption': '',\n",
            "                  'credit': '',\n",
            "                  'height': '0',\n",
            "                  'image_id': '1',\n",
            "                  'item_id': '1883956314',\n",
            "                  'src': 'http://www.xavierdupre.fr/app/teachpyx/helpsphinx/_images/math/a283b6104f42fc7a8bf845790aa022ac525329f0.png',\n",
            "                  'width': '0'},\n",
            "            '2': {'caption': '',\n",
            "                  'credit': '',\n",
            "                  'height': '0',\n",
            "                  'image_id': '2',\n",
            "                  'item_id': '1883956314',\n",
            "                  'src': 'http://www.xavierdupre.fr/app/teachpyx/helpsphinx/_images/math/d88bf614100dc9561ab4b951b22f965c77da355d.png',\n",
            "                  'width': '0'},\n",
            "            '3': {'caption': '',\n",
            "                  'credit': '',\n",
            "                  'height': '0',\n",
            "                  'image_id': '3',\n",
            "                  'item_id': '1883956314',\n",
            "                  'src': 'http://www.xavierdupre.fr/app/teachpyx/helpsphinx/_images/math/e39ddf05c56c382e29aa91aaceca2d5de5c4bd29.png',\n",
            "                  'width': '0'}},\n",
            " 'is_article': '0',\n",
            " 'is_index': '0',\n",
            " 'item_id': '1883956314',\n",
            " 'resolved_id': '1883956314',\n",
            " 'resolved_title': 'Types et variables du langage python\u00b6',\n",
            " 'resolved_url': 'http://www.xavierdupre.fr/app/teachpyx/helpsphinx/c_lang/types.html',\n",
            " 'sort_id': 0,\n",
            " 'status': '0',\n",
            " 'tags': {'python': {'item_id': '1883956314', 'tag': 'python'}},\n",
            " 'time_added': '1507548626',\n",
            " 'time_favorited': '0',\n",
            " 'time_read': '0',\n",
            " 'time_updated': '1507548631',\n",
            " 'word_count': '7921'}\n"
          ]
        }
      ],
      "source": [
        "from pprint import pprint\n",
        "keys = list(data.keys())\n",
        "pprint(data[keys[0]])"
      ]
    },
    {
      "cell_type": "markdown",
      "metadata": {},
      "source": [
        "### Exercice 1"
      ]
    },
    {
      "cell_type": "markdown",
      "metadata": {},
      "source": [
        "Chargement des donn\u00e9es du json dans le compte nouvellement cr\u00e9\u00e9."
      ]
    },
    {
      "cell_type": "markdown",
      "metadata": {},
      "source": [
        "Pour communiquer avec une API, il faut envoyer des requ\u00eates HTTP. Ici on veut ajouter les donn\u00e9es du fichier json (\"given_url\" et \"tags\") dans le compte Pocket.\n",
        "\n",
        "Que nous dit la doc ? Consulter https://getpocket.com/developer/docs/v3/add.\n",
        "\n",
        "Par exemple, pour l'ajout d'un seul item, la doc nous donne l'url \u00e0 laquelle il faut envoyer une requ\u00eate (https://getpocket.com/v3/add), et la m\u00e9thode qu'il faut employer. Ici, il s'agit d'une m\u00e9thode [POST](https://en.wikipedia.org/wiki/POST_(HTTP)). Pour l'ajout de plusieurs items, il faut consulter https://getpocket.com/developer/docs/v3/modify. Il faut aussi une m\u00e9thode POST. \n",
        "\n",
        "Pour envoyer une requ\u00eate en python, il y a plusieurs solutions. Un des plus simples consiste \u00e0 utiliser la librairie [requests](http://docs.python-requests.org/en/master/user/quickstart/#make-a-request).\n",
        "\n",
        "A vous de jouer ! Commencez par un seul (par exemple http://docs.python-requests.org/en/master/user/quickstart/ avec les tags \"python, requests\"), puis si cela a fonctionn\u00e9, vous pouvez uploader tout le json. Indice pour passer plusieurs items : penser \u00e0 encoder les donn\u00e9es de la requete en JSON, comme indiqu\u00e9 dans la doc. La documentation de requests indique comment faire ici : http://docs.python-requests.org/en/master/user/quickstart/#more-complicated-post-requests, json = ...\n",
        "\n",
        "Pour voir si cela a march\u00e9, il suffit d'aller sur votre compte Pocket :)"
      ]
    },
    {
      "cell_type": "markdown",
      "metadata": {},
      "source": [
        "### Exercice 1 - correction "
      ]
    },
    {
      "cell_type": "markdown",
      "metadata": {},
      "source": [
        "#### Ajouter un seul item"
      ]
    },
    {
      "cell_type": "code",
      "execution_count": null,
      "metadata": {
        "collapsed": true
      },
      "outputs": [],
      "source": [
        "import requests\n",
        "\n",
        "data_test = {\"consumer_key\":CONSUMER_KEY,\n",
        "\"access_token\":ACCESS_TOKEN,\n",
        "\"url\":\"http://docs.python-requests.org/en/master/user/quickstart/\",\n",
        "\"tags\": \"python, requests\"}\n",
        "\n",
        "one_item = requests.post('https://getpocket.com/v3/add', data = data_test)"
      ]
    },
    {
      "cell_type": "markdown",
      "metadata": {},
      "source": [
        "#### Ajouter l'ensemble des items"
      ]
    },
    {
      "cell_type": "code",
      "execution_count": null,
      "metadata": {},
      "outputs": [
        {
          "data": {
            "text/plain": [
              "[{'action': 'add',\n",
              "  'tags': ['python'],\n",
              "  'url': 'http://www.xavierdupre.fr/app/teachpyx/helpsphinx/c_lang/types.html'},\n",
              " {'action': 'add',\n",
              "  'tags': ['boilerplate', 'lewagon', 'react', 'redux', 'router'],\n",
              "  'url': 'https://github.com/lewagon/redux-router-boilerplate'},\n",
              " {'action': 'add',\n",
              "  'tags': ['boilerplate', 'lewagon', 'react', 'redux'],\n",
              "  'url': 'https://github.com/lewagon/redux-boilerplate'},\n",
              " {'action': 'add',\n",
              "  'tags': ['boilerplate', 'lewagon', 'react'],\n",
              "  'url': 'https://github.com/lewagon/react-boilerplate'},\n",
              " {'action': 'add',\n",
              "  'tags': ['api', 'isomorphic'],\n",
              "  'url': 'https://www.safaribooksonline.com/library/view/building-isomorphic-javascript/9781491932926/ch04.html'},\n",
              " {'action': 'add',\n",
              "  'tags': ['lewagon', 'react', 'setup'],\n",
              "  'url': 'https://github.com/lewagon/react-redux-challenges/tree/master/01-Tooling/01-Setup'},\n",
              " {'action': 'add',\n",
              "  'tags': ['mailoop'],\n",
              "  'url': 'https://console.cloud.google.com/apis/api/gmail.googleapis.com/overview?project=parking-spot-161222'},\n",
              " {'action': 'add',\n",
              "  'tags': ['as_json', 'rails'],\n",
              "  'url': 'http://jonathanjulian.com/2010/04/rails-to_json-or-as_json/'},\n",
              " {'action': 'add',\n",
              "  'tags': ['lewagon', 'react'],\n",
              "  'url': 'https://github.com/lewagon/react-redux-challenges'},\n",
              " {'action': 'add',\n",
              "  'tags': ['api', 'type of connections'],\n",
              "  'url': 'https://www.codecademy.com/programs/ac3626878e13008ae7184c69089aab0c/items/42276cdf573c1ac09591a0465853af34'}]"
            ]
          },
          "execution_count": null,
          "metadata": {},
          "output_type": "execute_result"
        }
      ],
      "source": [
        "list_action_add = []\n",
        "for k,v in data.items():\n",
        "    if  'tags' in v:\n",
        "        list_action_add.append({'action':'add', \n",
        "                                'url': v['given_url'], \n",
        "                                'tags': list(v['tags'].keys())\n",
        "                               })\n",
        "list_action_add[0:10]"
      ]
    },
    {
      "cell_type": "code",
      "execution_count": null,
      "metadata": {
        "collapsed": true
      },
      "outputs": [],
      "source": [
        "payload = {'consumer_key':CONSUMER_KEY, \n",
        "           'access_token':ACCESS_TOKEN,\n",
        "           'actions': list_action_add}"
      ]
    },
    {
      "cell_type": "code",
      "execution_count": null,
      "metadata": {},
      "outputs": [
        {
          "data": {
            "text/plain": [
              "<Response [200]>"
            ]
          },
          "execution_count": null,
          "metadata": {},
          "output_type": "execute_result"
        }
      ],
      "source": [
        "r = requests.post('https://getpocket.com/v3/send', json = payload)\n",
        "r"
      ]
    },
    {
      "cell_type": "markdown",
      "metadata": {},
      "source": [
        "Vous pouvez aller voir votre compte, presque 500 items \u00e0 analyser :)"
      ]
    },
    {
      "cell_type": "markdown",
      "metadata": {},
      "source": [
        "## R\u00e9cup\u00e9ration des donn\u00e9es disponibles dans l'API"
      ]
    },
    {
      "cell_type": "markdown",
      "metadata": {},
      "source": [
        "### Exercice 2"
      ]
    },
    {
      "cell_type": "markdown",
      "metadata": {},
      "source": [
        "R\u00e9cup\u00e9rer les urls et les tags des items qui contiennent le tag \"python\"."
      ]
    },
    {
      "cell_type": "markdown",
      "metadata": {},
      "source": [
        "C'est par ici : https://getpocket.com/developer/docs/v3/retrieve. A vous de jouer !"
      ]
    },
    {
      "cell_type": "markdown",
      "metadata": {},
      "source": [
        "### Exercice 2 - correction"
      ]
    },
    {
      "cell_type": "code",
      "execution_count": null,
      "metadata": {
        "collapsed": true
      },
      "outputs": [],
      "source": [
        "import requests\n",
        "items = {\"consumer_key\":CONSUMER_KEY,\n",
        "\"access_token\":ACCESS_TOKEN,\n",
        "\"tag\": \"python\",\n",
        "\"detailType\":\"complete\"}\n",
        "\n",
        "exo2_items = requests.post('https://getpocket.com/v3/get', data = items)\n",
        "exo2_list = [v for k,v in exo2_items.json()['list'].items()]"
      ]
    },
    {
      "cell_type": "code",
      "execution_count": null,
      "metadata": {},
      "outputs": [
        {
          "data": {
            "text/plain": [
              "['https://pythonprogramming.net/',\n",
              " 'http://www.mikesboyle.com/post/117202964694/python-nltk-wtf-chapter-1-notes-on-things-that',\n",
              " 'https://jakevdp.github.io/blog/2013/06/15/numba-vs-cython-take-2/',\n",
              " 'https://blog.rstudio.org/2016/03/29/feather/',\n",
              " 'http://nbviewer.jupyter.org/github/ptwobrussell/Mining-the-Social-Web-2nd-Edition/tree/master/ipynb/',\n",
              " 'https://marcobonzanini.com/2015/06/16/mining-twitter-data-with-python-and-js-part-7-geolocation-and-interactive-maps/',\n",
              " 'http://www.nltk.org/book/ch03.html',\n",
              " 'http://blog.fouadhamdi.com/introduction-a-nltk/',\n",
              " 'https://qbox.io/blog/building-an-elasticsearch-index-with-python',\n",
              " 'https://tryolabs.com/blog/2015/02/17/python-elasticsearch-first-steps/',\n",
              " 'http://www.xavierdupre.fr/app/teachpyx/helpsphinx/c_lang/types.html',\n",
              " 'http://docs.python-requests.org/en/master/user/quickstart/']"
            ]
          },
          "execution_count": null,
          "metadata": {},
          "output_type": "execute_result"
        }
      ],
      "source": [
        "[v['given_url'] for k,v in exo2_items.json()['list'].items()]"
      ]
    },
    {
      "cell_type": "code",
      "execution_count": null,
      "metadata": {},
      "outputs": [
        {
          "data": {
            "text/plain": [
              "['python',\n",
              " 'nlp, python',\n",
              " 'python',\n",
              " 'python',\n",
              " 'python',\n",
              " 'python, tagerstreet',\n",
              " 'nltk, python, tokenize',\n",
              " 'french, nlp, nltk, python, tokenize, tokenizer',\n",
              " 'elastic-search, python',\n",
              " 'elastic-search, elasticsearch, python, tutorial',\n",
              " 'python',\n",
              " 'python, requests']"
            ]
          },
          "execution_count": null,
          "metadata": {},
          "output_type": "execute_result"
        }
      ],
      "source": [
        "[', '.join(list(v['tags'].keys())) for k,v in exo2_items.json()['list'].items()]"
      ]
    },
    {
      "cell_type": "markdown",
      "metadata": {},
      "source": [
        "### Exercice 3"
      ]
    },
    {
      "cell_type": "markdown",
      "metadata": {},
      "source": [
        "R\u00e9cup\u00e9rer les urls et les titres des items qui contiennent le mot \"python\" dans le titre ou l'url"
      ]
    },
    {
      "cell_type": "markdown",
      "metadata": {},
      "source": [
        "### Exercice 3 - correction"
      ]
    },
    {
      "cell_type": "code",
      "execution_count": null,
      "metadata": {
        "collapsed": true
      },
      "outputs": [],
      "source": [
        "items = {\"consumer_key\":CONSUMER_KEY,\n",
        "\"access_token\":ACCESS_TOKEN,\n",
        "\"search\": \"python\",\n",
        "\"detailType\":\"complete\"}\n",
        "\n",
        "exo3_items = requests.post('https://getpocket.com/v3/get', data = items)\n",
        "exo3_list = [v for k,v in exo3_items.json()['list'].items()]"
      ]
    },
    {
      "cell_type": "code",
      "execution_count": null,
      "metadata": {},
      "outputs": [
        {
          "data": {
            "text/plain": [
              "['http://stackoverflow.com/questions/9663918/how-can-i-tag-and-chunk-french-text-using-nltk-and-python',\n",
              " 'https://jakevdp.github.io/blog/2015/08/14/out-of-core-dataframes-in-python/',\n",
              " 'https://pythonprogramming.net/',\n",
              " 'https://pypi.python.org/pypi/munkres/',\n",
              " 'http://www.mikesboyle.com/post/117202964694/python-nltk-wtf-chapter-1-notes-on-things-that',\n",
              " 'https://blog.rstudio.org/2016/03/29/feather/',\n",
              " 'https://realpython.com/blog/python/setting-up-sublime-text-3-for-full-stack-python-development/',\n",
              " 'https://marcobonzanini.com/2015/06/16/mining-twitter-data-with-python-and-js-part-7-geolocation-and-interactive-maps/',\n",
              " 'http://okomestudio.net/biboroku/?p=2375',\n",
              " 'https://qbox.io/blog/building-an-elasticsearch-index-with-python',\n",
              " 'https://tryolabs.com/blog/2015/02/17/python-elasticsearch-first-steps/',\n",
              " 'https://blog.dominodatalab.com/ab-testing-with-hierarchical-models-in-python/',\n",
              " 'http://www.xavierdupre.fr/app/teachpyx/helpsphinx/c_lang/types.html',\n",
              " 'http://docs.python-requests.org/en/master/user/quickstart/']"
            ]
          },
          "execution_count": null,
          "metadata": {},
          "output_type": "execute_result"
        }
      ],
      "source": [
        "[v['given_url'] for k,v in exo3_items.json()['list'].items()]"
      ]
    },
    {
      "cell_type": "code",
      "execution_count": null,
      "metadata": {},
      "outputs": [
        {
          "data": {
            "text/plain": [
              "['How can I tag and chunk French text using NLTK and Python?',\n",
              " 'Out-of-Core Dataframes in Python: Dask and OpenStreetMap',\n",
              " 'Python Programming Tutorials',\n",
              " 'munkres 1.0.9',\n",
              " 'Python NLTK WTF, Chapter 1: Notes on things that don\u2019t work right',\n",
              " 'Feather: A Fast On-Disk Format for Data Frames for R and Python, powered by Apache Arrow',\n",
              " 'Setting Up Sublime Text 3 for Full Stack Python Development',\n",
              " 'Mining Twitter Data with Python (and JS) \u2013 Part 7: Geolocation and Interactive Maps',\n",
              " 'Interpreting A/B Test using Python',\n",
              " 'Build an Elasticsearch Index with Python\u2014Machine Learning Series, Part 1',\n",
              " 'Python + Elasticsearch. First steps.',\n",
              " 'A/B Testing with Hierarchical Models in Python',\n",
              " 'Types et variables du langage python\u00b6',\n",
              " 'Quickstart\u00b6']"
            ]
          },
          "execution_count": null,
          "metadata": {},
          "output_type": "execute_result"
        }
      ],
      "source": [
        "[v['resolved_title'] for k,v in exo3_items.json()['list'].items()]"
      ]
    },
    {
      "cell_type": "markdown",
      "metadata": {},
      "source": [
        "Dans le fichier qui servira \u00e0 la cat\u00e9gorisation automatique, nous allons avoir besoin : de l'url, du titre, de l'extrait, des tags et du contenu.\n",
        "    \n",
        "L'api ne permet pas d'acc\u00e9der au contenu des sites \u00e9pingl\u00e9s. Mais nous pouvons le r\u00e9cup\u00e9rer gr\u00e2ce \u00e0 l'url."
      ]
    },
    {
      "cell_type": "markdown",
      "metadata": {},
      "source": [
        "### Exercice 4"
      ]
    },
    {
      "cell_type": "markdown",
      "metadata": {},
      "source": [
        "Constituer d'abord un DataFrame avec les champs resolved_url, resolved_title, excerpt, et les tags des items comprenant le terme python."
      ]
    },
    {
      "cell_type": "markdown",
      "metadata": {},
      "source": [
        "### Exercice 4 - correction"
      ]
    },
    {
      "cell_type": "code",
      "execution_count": null,
      "metadata": {},
      "outputs": [
        {
          "data": {
            "text/plain": [
              "296"
            ]
          },
          "execution_count": null,
          "metadata": {},
          "output_type": "execute_result"
        }
      ],
      "source": [
        "items = {\"consumer_key\":CONSUMER_KEY,\n",
        "\"access_token\":ACCESS_TOKEN,\n",
        "\"detailType\":\"complete\"}\n",
        "\n",
        "exo4_items = requests.post('https://getpocket.com/v3/get', data = items)\n",
        "len(exo4_items.json()['list'])"
      ]
    },
    {
      "cell_type": "code",
      "execution_count": null,
      "metadata": {
        "collapsed": true
      },
      "outputs": [],
      "source": [
        "exo4_list = [v for k,v in exo4_items.json()['list'].items() if 'Python' in v['excerpt']]"
      ]
    },
    {
      "cell_type": "code",
      "execution_count": null,
      "metadata": {
        "collapsed": true
      },
      "outputs": [],
      "source": [
        "import pandas as p\n",
        "\n",
        "df2 = p.DataFrame(exo2_list)[['item_id','resolved_url','resolved_title','excerpt','tags']]\n",
        "df3 = p.DataFrame(exo3_list)[['item_id','resolved_url','resolved_title','excerpt','tags']]\n",
        "df4 = p.DataFrame(exo4_list)[['item_id','resolved_url','resolved_title','excerpt','tags']]"
      ]
    },
    {
      "cell_type": "code",
      "execution_count": null,
      "metadata": {},
      "outputs": [
        {
          "data": {
            "text/html": [
              "<div>\n",
              "<style>\n",
              "    .dataframe thead tr:only-child th {\n",
              "        text-align: right;\n",
              "    }\n",
              "\n",
              "    .dataframe thead th {\n",
              "        text-align: left;\n",
              "    }\n",
              "\n",
              "    .dataframe tbody tr th {\n",
              "        vertical-align: top;\n",
              "    }\n",
              "</style>\n",
              "<table border=\"1\" class=\"dataframe\">\n",
              "  <thead>\n",
              "    <tr style=\"text-align: right;\">\n",
              "      <th></th>\n",
              "      <th>item_id</th>\n",
              "      <th>url</th>\n",
              "      <th>title</th>\n",
              "      <th>excerpt</th>\n",
              "      <th>tags</th>\n",
              "    </tr>\n",
              "  </thead>\n",
              "  <tbody>\n",
              "    <tr>\n",
              "      <th>0</th>\n",
              "      <td>680797791</td>\n",
              "      <td>https://pythonprogramming.net/</td>\n",
              "      <td>Python Programming Tutorials</td>\n",
              "      <td>Learn how to use Python with Pandas, Matplotli...</td>\n",
              "      <td>python</td>\n",
              "    </tr>\n",
              "    <tr>\n",
              "      <th>1</th>\n",
              "      <td>1072497525</td>\n",
              "      <td>http://www.mikesboyle.com/post/117202964694/py...</td>\n",
              "      <td>Python NLTK WTF, Chapter 1: Notes on things th...</td>\n",
              "      <td>If you\u2019re reading this post, you\u2019re probably a...</td>\n",
              "      <td>nlp,python</td>\n",
              "    </tr>\n",
              "    <tr>\n",
              "      <th>2</th>\n",
              "      <td>378831480</td>\n",
              "      <td>https://jakevdp.github.io/blog/2013/06/15/numb...</td>\n",
              "      <td>Numba vs. Cython: Take 2</td>\n",
              "      <td>Last summer I wrote a post comparing the perfo...</td>\n",
              "      <td>python</td>\n",
              "    </tr>\n",
              "    <tr>\n",
              "      <th>3</th>\n",
              "      <td>1240472260</td>\n",
              "      <td>https://blog.rstudio.org/2016/03/29/feather/</td>\n",
              "      <td>Feather: A Fast On-Disk Format for Data Frames...</td>\n",
              "      <td>This past January, we (Hadley and Wes) met and...</td>\n",
              "      <td>python</td>\n",
              "    </tr>\n",
              "    <tr>\n",
              "      <th>4</th>\n",
              "      <td>1056127688</td>\n",
              "      <td>http://nbviewer.jupyter.org/github/ptwobrussel...</td>\n",
              "      <td>Jupyter Notebook Viewer</td>\n",
              "      <td>Delivered by Fastly, Rendered by Rackspace nbv...</td>\n",
              "      <td>python</td>\n",
              "    </tr>\n",
              "    <tr>\n",
              "      <th>5</th>\n",
              "      <td>957402029</td>\n",
              "      <td>https://marcobonzanini.com/2015/06/16/mining-t...</td>\n",
              "      <td>Mining Twitter Data with Python (and JS) \u2013 Par...</td>\n",
              "      <td>Geolocation is the process of identifying the ...</td>\n",
              "      <td>python,tagerstreet</td>\n",
              "    </tr>\n",
              "    <tr>\n",
              "      <th>6</th>\n",
              "      <td>241420475</td>\n",
              "      <td>http://www.nltk.org/book/ch03.html</td>\n",
              "      <td>3 Processing Raw Text</td>\n",
              "      <td>The most important source of texts is undoubte...</td>\n",
              "      <td>nltk,python,tokenize</td>\n",
              "    </tr>\n",
              "    <tr>\n",
              "      <th>7</th>\n",
              "      <td>1057169119</td>\n",
              "      <td>http://blog.fouadhamdi.com/introduction-a-nltk/</td>\n",
              "      <td>Introduction \u00e0 l'analyse de texte avec nltk - ...</td>\n",
              "      <td>nltk est une librairie python tr\u00e8s utile pour ...</td>\n",
              "      <td>french,nlp,nltk,python,tokenize,tokenizer</td>\n",
              "    </tr>\n",
              "    <tr>\n",
              "      <th>8</th>\n",
              "      <td>1064802343</td>\n",
              "      <td>https://qbox.io/blog/building-an-elasticsearch...</td>\n",
              "      <td>Build an Elasticsearch Index with Python\u2014Machi...</td>\n",
              "      <td>In this first article, we're going to set up s...</td>\n",
              "      <td>elastic-search,python</td>\n",
              "    </tr>\n",
              "    <tr>\n",
              "      <th>9</th>\n",
              "      <td>1395948696</td>\n",
              "      <td>https://tryolabs.com/blog/2015/02/17/python-el...</td>\n",
              "      <td>Python + Elasticsearch. First steps.</td>\n",
              "      <td>Lately, here at Tryolabs, we started gaining i...</td>\n",
              "      <td>elastic-search,elasticsearch,python,tutorial</td>\n",
              "    </tr>\n",
              "    <tr>\n",
              "      <th>10</th>\n",
              "      <td>1883956314</td>\n",
              "      <td>http://www.xavierdupre.fr/app/teachpyx/helpsph...</td>\n",
              "      <td>Types et variables du langage python\u00b6</td>\n",
              "      <td>Il est impossible d\u2019\u00e9crire un programme sans u...</td>\n",
              "      <td>python</td>\n",
              "    </tr>\n",
              "    <tr>\n",
              "      <th>11</th>\n",
              "      <td>427014788</td>\n",
              "      <td>http://docs.python-requests.org/en/master/user...</td>\n",
              "      <td>Quickstart\u00b6</td>\n",
              "      <td>Eager to get started? This page gives a good i...</td>\n",
              "      <td>python,requests</td>\n",
              "    </tr>\n",
              "    <tr>\n",
              "      <th>12</th>\n",
              "      <td>295141437</td>\n",
              "      <td>http://stackoverflow.com/questions/9663918/how...</td>\n",
              "      <td>How can I tag and chunk French text using NLTK...</td>\n",
              "      <td>If I were to do (1), I imagine I would need to...</td>\n",
              "      <td>nlp</td>\n",
              "    </tr>\n",
              "    <tr>\n",
              "      <th>13</th>\n",
              "      <td>1011618630</td>\n",
              "      <td>https://jakevdp.github.io/blog/2015/08/14/out-...</td>\n",
              "      <td>Out-of-Core Dataframes in Python: Dask and Ope...</td>\n",
              "      <td>In recent months, a host of new tools and pack...</td>\n",
              "      <td>data science</td>\n",
              "    </tr>\n",
              "    <tr>\n",
              "      <th>14</th>\n",
              "      <td>833287792</td>\n",
              "      <td>https://pypi.python.org/pypi/munkres/</td>\n",
              "      <td>munkres 1.0.9</td>\n",
              "      <td>The Munkres module provides an implementation ...</td>\n",
              "      <td>data science</td>\n",
              "    </tr>\n",
              "    <tr>\n",
              "      <th>15</th>\n",
              "      <td>687517654</td>\n",
              "      <td>https://realpython.com/blog/python/setting-up-...</td>\n",
              "      <td>Setting Up Sublime Text 3 for Full Stack Pytho...</td>\n",
              "      <td>Sublime Text 3 (ST3) is lightweight, cross-pla...</td>\n",
              "      <td>sublime</td>\n",
              "    </tr>\n",
              "    <tr>\n",
              "      <th>16</th>\n",
              "      <td>829788447</td>\n",
              "      <td>http://okomestudio.net/biboroku/?p=2375</td>\n",
              "      <td>Interpreting A/B Test using Python</td>\n",
              "      <td>Suppose we ran an A/B test with two different ...</td>\n",
              "      <td>abtest</td>\n",
              "    </tr>\n",
              "    <tr>\n",
              "      <th>17</th>\n",
              "      <td>1014684096</td>\n",
              "      <td>https://blog.dominodatalab.com/ab-testing-with...</td>\n",
              "      <td>A/B Testing with Hierarchical Models in Python</td>\n",
              "      <td>In this post, I discuss a method for A/B testi...</td>\n",
              "      <td>abtest</td>\n",
              "    </tr>\n",
              "    <tr>\n",
              "      <th>18</th>\n",
              "      <td>241420549</td>\n",
              "      <td>http://www.nltk.org/book/ch04.html</td>\n",
              "      <td></td>\n",
              "      <td>By now you will have a sense of the capabiliti...</td>\n",
              "      <td>nlp</td>\n",
              "    </tr>\n",
              "    <tr>\n",
              "      <th>19</th>\n",
              "      <td>952475069</td>\n",
              "      <td>https://people.duke.edu/~ccc14/sta-663/Optimiz...</td>\n",
              "      <td>Optimization bake-off\u00b6</td>\n",
              "      <td>Python is a high-level interpreted language, w...</td>\n",
              "      <td>nlp</td>\n",
              "    </tr>\n",
              "    <tr>\n",
              "      <th>20</th>\n",
              "      <td>163291612</td>\n",
              "      <td>https://blog.miguelgrinberg.com/post/the-flask...</td>\n",
              "      <td>The Flask Mega-Tutorial, Part I: Hello, World!</td>\n",
              "      <td>This is the first article in a series where I ...</td>\n",
              "      <td>web dev</td>\n",
              "    </tr>\n",
              "    <tr>\n",
              "      <th>21</th>\n",
              "      <td>415947413</td>\n",
              "      <td>http://xavierdupre.fr/</td>\n",
              "      <td>Xavier Dupr\u00e9, ENSAE, Microsoft Bing</td>\n",
              "      <td>Blog  Enseignements ENSAE / Teachings More mat...</td>\n",
              "      <td>NaN</td>\n",
              "    </tr>\n",
              "  </tbody>\n",
              "</table>\n",
              "</div>"
            ],
            "text/plain": [
              "       item_id                                                url  \\\n",
              "0    680797791                     https://pythonprogramming.net/   \n",
              "1   1072497525  http://www.mikesboyle.com/post/117202964694/py...   \n",
              "2    378831480  https://jakevdp.github.io/blog/2013/06/15/numb...   \n",
              "3   1240472260       https://blog.rstudio.org/2016/03/29/feather/   \n",
              "4   1056127688  http://nbviewer.jupyter.org/github/ptwobrussel...   \n",
              "5    957402029  https://marcobonzanini.com/2015/06/16/mining-t...   \n",
              "6    241420475                 http://www.nltk.org/book/ch03.html   \n",
              "7   1057169119    http://blog.fouadhamdi.com/introduction-a-nltk/   \n",
              "8   1064802343  https://qbox.io/blog/building-an-elasticsearch...   \n",
              "9   1395948696  https://tryolabs.com/blog/2015/02/17/python-el...   \n",
              "10  1883956314  http://www.xavierdupre.fr/app/teachpyx/helpsph...   \n",
              "11   427014788  http://docs.python-requests.org/en/master/user...   \n",
              "12   295141437  http://stackoverflow.com/questions/9663918/how...   \n",
              "13  1011618630  https://jakevdp.github.io/blog/2015/08/14/out-...   \n",
              "14   833287792              https://pypi.python.org/pypi/munkres/   \n",
              "15   687517654  https://realpython.com/blog/python/setting-up-...   \n",
              "16   829788447            http://okomestudio.net/biboroku/?p=2375   \n",
              "17  1014684096  https://blog.dominodatalab.com/ab-testing-with...   \n",
              "18   241420549                 http://www.nltk.org/book/ch04.html   \n",
              "19   952475069  https://people.duke.edu/~ccc14/sta-663/Optimiz...   \n",
              "20   163291612  https://blog.miguelgrinberg.com/post/the-flask...   \n",
              "21   415947413                             http://xavierdupre.fr/   \n",
              "\n",
              "                                                title  \\\n",
              "0                        Python Programming Tutorials   \n",
              "1   Python NLTK WTF, Chapter 1: Notes on things th...   \n",
              "2                            Numba vs. Cython: Take 2   \n",
              "3   Feather: A Fast On-Disk Format for Data Frames...   \n",
              "4                             Jupyter Notebook Viewer   \n",
              "5   Mining Twitter Data with Python (and JS) \u2013 Par...   \n",
              "6                               3 Processing Raw Text   \n",
              "7   Introduction \u00e0 l'analyse de texte avec nltk - ...   \n",
              "8   Build an Elasticsearch Index with Python\u2014Machi...   \n",
              "9                Python + Elasticsearch. First steps.   \n",
              "10              Types et variables du langage python\u00b6   \n",
              "11                                        Quickstart\u00b6   \n",
              "12  How can I tag and chunk French text using NLTK...   \n",
              "13  Out-of-Core Dataframes in Python: Dask and Ope...   \n",
              "14                                      munkres 1.0.9   \n",
              "15  Setting Up Sublime Text 3 for Full Stack Pytho...   \n",
              "16                 Interpreting A/B Test using Python   \n",
              "17     A/B Testing with Hierarchical Models in Python   \n",
              "18                                                      \n",
              "19                             Optimization bake-off\u00b6   \n",
              "20     The Flask Mega-Tutorial, Part I: Hello, World!   \n",
              "21                Xavier Dupr\u00e9, ENSAE, Microsoft Bing   \n",
              "\n",
              "                                              excerpt  \\\n",
              "0   Learn how to use Python with Pandas, Matplotli...   \n",
              "1   If you\u2019re reading this post, you\u2019re probably a...   \n",
              "2   Last summer I wrote a post comparing the perfo...   \n",
              "3   This past January, we (Hadley and Wes) met and...   \n",
              "4   Delivered by Fastly, Rendered by Rackspace nbv...   \n",
              "5   Geolocation is the process of identifying the ...   \n",
              "6   The most important source of texts is undoubte...   \n",
              "7   nltk est une librairie python tr\u00e8s utile pour ...   \n",
              "8   In this first article, we're going to set up s...   \n",
              "9   Lately, here at Tryolabs, we started gaining i...   \n",
              "10  Il est impossible d\u2019\u00e9crire un programme sans u...   \n",
              "11  Eager to get started? This page gives a good i...   \n",
              "12  If I were to do (1), I imagine I would need to...   \n",
              "13  In recent months, a host of new tools and pack...   \n",
              "14  The Munkres module provides an implementation ...   \n",
              "15  Sublime Text 3 (ST3) is lightweight, cross-pla...   \n",
              "16  Suppose we ran an A/B test with two different ...   \n",
              "17  In this post, I discuss a method for A/B testi...   \n",
              "18  By now you will have a sense of the capabiliti...   \n",
              "19  Python is a high-level interpreted language, w...   \n",
              "20  This is the first article in a series where I ...   \n",
              "21  Blog  Enseignements ENSAE / Teachings More mat...   \n",
              "\n",
              "                                            tags  \n",
              "0                                         python  \n",
              "1                                     nlp,python  \n",
              "2                                         python  \n",
              "3                                         python  \n",
              "4                                         python  \n",
              "5                             python,tagerstreet  \n",
              "6                           nltk,python,tokenize  \n",
              "7      french,nlp,nltk,python,tokenize,tokenizer  \n",
              "8                          elastic-search,python  \n",
              "9   elastic-search,elasticsearch,python,tutorial  \n",
              "10                                        python  \n",
              "11                               python,requests  \n",
              "12                                           nlp  \n",
              "13                                  data science  \n",
              "14                                  data science  \n",
              "15                                       sublime  \n",
              "16                                        abtest  \n",
              "17                                        abtest  \n",
              "18                                           nlp  \n",
              "19                                           nlp  \n",
              "20                                       web dev  \n",
              "21                                           NaN  "
            ]
          },
          "execution_count": null,
          "metadata": {},
          "output_type": "execute_result"
        }
      ],
      "source": [
        "import numpy as np\n",
        "df = p.merge(df2, df3, on='item_id', how='outer', suffixes=('', '_df3'))\n",
        "df = p.merge(df,  df4, on='item_id', how='outer', suffixes=('', '_df4'))\n",
        "\n",
        "def complete_data(x,y,z):\n",
        "    if x != x:\n",
        "        if y != y:\n",
        "            return z\n",
        "        else:\n",
        "            return y\n",
        "    else:\n",
        "        return x\n",
        "\n",
        "df['url'] = np.vectorize(complete_data)(df['resolved_url'], df['resolved_url_df3'], df['resolved_url_df4'])\n",
        "df['title'] = np.vectorize(complete_data)(df['resolved_title'], df['resolved_title_df3'], df['resolved_title_df4'])\n",
        "df['excerpt'] = np.vectorize(complete_data)(df['excerpt'], df['excerpt_df3'], df['excerpt_df4'])\n",
        "df['tags'] = np.vectorize(complete_data)(df['tags'], df['tags_df3'], df['tags_df4'])\n",
        "df = df[['item_id','url','title','excerpt', 'tags']]\n",
        "df['tags'] = df['tags'].apply(lambda x: ','.join(list(x.keys())) if x==x else x)\n",
        "df"
      ]
    },
    {
      "cell_type": "markdown",
      "metadata": {},
      "source": [
        "## Compl\u00e9ter les donn\u00e9es avec du webscraping"
      ]
    },
    {
      "cell_type": "markdown",
      "metadata": {},
      "source": [
        "### Mais c'est quoi le webscraping ? "
      ]
    },
    {
      "cell_type": "markdown",
      "metadata": {},
      "source": [
        "On vous explique tout ici :  \n",
        "- [D\u00e9finition](http://www.xavierdupre.fr/app/ensae_teaching_cs/helpsphinx/notebooks/TD2A_Eco_Web_Scraping.html#a-eco-web-scraping)\n",
        "- [Un d\u00e9tour par le Web : comment fonctionne un site ?](http://www.xavierdupre.fr/app/ensae_teaching_cs/helpsphinx/notebooks/TD2A_Eco_Web_Scraping.html#un-detour-par-le-web-comment-fonctionne-un-site)\n",
        "- [Scrapper avec python](http://www.xavierdupre.fr/app/ensae_teaching_cs/helpsphinx/notebooks/TD2A_Eco_Web_Scraping.html#scrapper-avec-python)"
      ]
    },
    {
      "cell_type": "markdown",
      "metadata": {},
      "source": [
        "### Beautiful Soup \n",
        "\n",
        "Reprenons notre liste de sites sur python et analysons le contenu HTML."
      ]
    },
    {
      "cell_type": "code",
      "execution_count": null,
      "metadata": {
        "collapsed": true
      },
      "outputs": [],
      "source": [
        "from bs4 import BeautifulSoup"
      ]
    },
    {
      "cell_type": "code",
      "execution_count": null,
      "metadata": {
        "scrolled": false
      },
      "outputs": [
        {
          "name": "stdout",
          "output_type": "stream",
          "text": [
            "https://pythonprogramming.net/\n",
            "('<html>\\n'\n",
            " '\\t<head>\\n'\n",
            " '\\t\\t\\n'\n",
            " '\\t\\t<!-- \\n'\n",
            " '\\t\\tpalette:\\n'\n",
            " '\\t\\tdark blue: #003F72\\n'\n",
            " '\\t\\tyellow: #FFD166\\n'\n",
            " '\\t\\tsalmon: #EF476F\\n'\n",
            " '\\t\\toffwhite: #e7d7d7\\n'\n",
            " '\\t\\tLight Blue: #118AB2\\n'\n",
            " '\\t\\tLight green: #7DDF64\\n'\n",
            " '\\t\\t-->\\n'\n",
            " '\\n'\n",
            " '\\t\\t<meta name=\"viewport\" content = \"width=device-width, '\n",
            " 'initial-scale=1.0\">\\n'\n",
            " '\\t\\t<title>Python Programming Tutorials</title>\\n'\n",
            " '\\n'\n",
            " '\\t\\t<meta name=\"description\" content=\"Python Programming tutorials from '\n",
            " 'beginner to advanced on a massive variety of topics. All video and text '\n",
            " 'tutorials are free.\">\\n'\n",
            " '\\n'\n",
            " '\\t\\t<link rel=\"shortcut icon\" href=\"/static/favicon.ico\">\\n'\n",
            " '\\t\\t<link rel=\"stylesheet\" href=\"/static/css/materialize.min.css\">\\n'\n",
            " '        <link href=\"https://fonts.googleapis.com/icon?family=Material+Icons\" '\n",
            " 'rel=\"stylesheet\">\\n'\n",
            " '        <meta name=\"google-site-verification\" '\n",
            " 'content=\"3fLok05gk5gGtWd_VSXbSSSH27F2kr1QqcxYz9vYq2k\" />\\n'\n",
            " '        <link rel=\"stylesheet\" type=\"text/css\" '\n",
            " 'href=\"/static/css/bootstrap.css\">\\n'\n",
            " '\\n'\n",
            " '\\t\\t\\n'\n",
            " '\\t\\t  <!-- Compiled and minified CSS -->\\n'\n",
            " '\\n'\n",
            " '\\t\\t<!-- Compiled and minified JavaScript -->\\n'\n",
            " '\\n'\n",
            " '\\t\\t<script src=\"https://code.jquery.com/jquery-2.1.4.min.js\\n'\n",
            " '...')\n"
          ]
        }
      ],
      "source": [
        "from pprint import pprint\n",
        "\n",
        "#premi\u00e8re url de la liste\n",
        "url = df['url'].iloc[0]\n",
        "print(url)\n",
        "\n",
        "# r\u00e9cup\u00e9ration du contenu (m\u00eame librairie que pour les requetes api => \n",
        "#requests est une librairie qui permet de faire des requetes http, que cela soit pour des api ou du webscraping)\n",
        "\n",
        "r = requests.get(url)\n",
        "\n",
        "#pprint : librairie pour \"pretty print\" (essayer sans : on voit pas grand chose)\n",
        "text = r.text if len(r.text) < 1000 else r.text[:1000] + \"\\n...\"\n",
        "pprint(text)"
      ]
    },
    {
      "cell_type": "code",
      "execution_count": null,
      "metadata": {
        "scrolled": true
      },
      "outputs": [
        {
          "data": {
            "text/plain": [
              "<html><head>\n",
              "\t\t\n",
              "\t\t<!-- \n",
              "\t\tpalette:\n",
              "\t\tdark blue: #003F72\n",
              "\t\tyellow: #FFD166\n",
              "\t\tsalmon: #EF476F\n",
              "\t\toffwhite: #e7d7d7\n",
              "\t\tLight Blue: #118AB2\n",
              "\t\tLight green: #7DDF64\n",
              "\t\t-->\n",
              "\n",
              "\t\t<meta content=\"width=device-width, initial-scale=1.0\" name=\"viewport\"/>\n",
              "\t\t<title>Python Programming Tutorials</title>\n",
              "\n",
              "\t\t<meta content=\"Python Programming tutorials from beginner to advanced on a massive variety of topics. All video and text tutorials are free.\" name=\"description\"/>\n",
              "\n",
              "\t\t<link href=\"/static/favicon.ico\" rel=\"shortcut icon\"/>\n",
              "\t\t<link href=\"/static/css/materialize.min.css\" rel=\"stylesheet\"/>\n",
              "        <link href=\"https://fonts.googleapis.com/icon?family=Material+Icons\" rel=\"stylesheet\"/>\n",
              "        <meta content=\"3fLok05gk5gGtWd_VSXbSSSH27F2kr1QqcxYz9vYq2k\" name=\"google-site-verification\"/>\n",
              "        <link href=\"/static/css/bootstrap.css\" rel=\"stylesheet\" type=\"text/css\"/>\n",
              "\n",
              "\t\t\n",
              "\t\t  <!-- Compiled and minified CSS -->\n",
              "\n",
              "\t\t<!-- Compiled and minified JavaScript -->\n",
              "\n",
              "\t\t<script src=\"https://code.jquery.com/jquery-2.1.4.min.js\"></script>\n",
              "\t\t<script src=\"https://cdnjs.cloudflare.com/ajax/libs/materialize/0.97.3/js/materialize.min.js\"></script>\n",
              "\n",
              "\t\t\n",
              "\n",
              "        <style>\n",
              "\t\t@media (min-width:992px) {\n",
              "\t\t#aside {\n",
              "\t\t\twidth:250px;\n",
              "\t\t}\n",
              "\t\tpre { tab-size: 4;}\n",
              "\t\t.btn {background-color:#FFD166;\n",
              "\t\t\t  color:#000;\n",
              "\t\t      height:auto;\n",
              "\t\t\t  font-color:#000;\n",
              "\t\t\t  }\n",
              "\t\t.btn:hover {background-color:#FFD166;\n",
              "\t\t\t\t\t}\n",
              "\n",
              "\n",
              "\t\t</style>\n",
              "\t\t\t\t\n",
              "\t\t<!-- Google Tracking -->\n",
              "\t\t<script>\n",
              "\t\t\t  (function(i,s,o,g,r,a,m){i['GoogleAnalyticsObject']=r;i[r]=i[r]||function(){\n",
              "\t\t\t  (i[r].q=i[r].q||[]).push(arguments)},i[r].l=1*new Date();a=s.createElement(o),\n",
              "\t\t\t  m=s.getElementsByTagName(o)[0];a.async=1;a.src=g;m.parentNode.insertBefore(a,m)\n",
              "\t\t\t  })(window,document,'script','//www.google-analytics.com/analytics.js','ga');\n",
              "\n",
              "\t\t\t  ga('create', 'UA-51891827-1', 'auto');\n",
              "\t\t\t  ga('send', 'pageview');\n",
              "\n",
              "\t\t</script>\n",
              "\n",
              "\n",
              "\n",
              "\t\n",
              "\t</head>\n",
              "\t\n",
              "\t<body>\n",
              "\n",
              "\t\t<div class=\"navbar-fixed\">\n",
              "\t\t\t<nav style=\"background-color:#003F72\">\n",
              "\t\t\t\t<div class=\"nav-wrapper container\">\n",
              "\t\t\t\t\t<a class=\"brand-logo\" href=\"/\"><img class=\"img-responsive\" src=\"/static/images/mainlogowhitethick.jpg\" style=\"width:50px; height;50px; margin-top:5px\"/></a>\n",
              "\t\t\t\t\t<a class=\"button-collapse\" data-activates=\"navsidebar\" href=\"#\"><i class=\"mdi-navigation-menu\"></i></a>\n",
              "\t\t\t\t\t<ul class=\"right hide-on-med-and-down\">\n",
              "\t\t\t\t\t<li><i class=\"material-icons\">search</i></li>\n",
              "\t\t\t\t\t<li>\n",
              "\t\t\t\t\t\t<form action=\"/search/?l=hi\" id=\"searchform\" method=\"get\" style=\"height:50px; padding-top:10px\">\n",
              "\t\t\t\t\t\t\t<input id=\"search\" name=\"q\" placeholder=\"search\" style=\"font-size:16px\" type=\"search\"/>\n",
              "\t\t\t\t\t\t</form>\n",
              "\t\t\t\t\t</li>\n",
              "\t\t\t\t\t\t\n",
              "\t\t\t<li><a href=\"/\">Home</a></li>\n",
              "\t\t\t<li><a class=\"tooltipped\" data-delay=\"50\" data-position=\"bottom\" data-tooltip=\"sudo apt-get upgrade\" href=\"/+=1/\">+=1</a></li>\n",
              "\t\t\t<li><a href=\"/store/python-hoodie/\">Store</a></li>\n",
              "\t\t\t\n",
              "\t\t\t<li><a href=\"/community/\">Community</a></li>\n",
              "\t\t\t\t<li><a href=\"/login/\">Log in</a></li>\n",
              "                <li><a href=\"/register/\">Sign up</a></li>\n",
              "\t\t\t\n",
              "\n",
              "\t\t\t\t\t</ul>\n",
              "\t\t\t\t\t<ul class=\"side-nav\" id=\"navsidebar\">\n",
              "\t\t\t\t\t<li>\n",
              "\t\t\t\t\t\t<form action=\"/search/?l=hi\" id=\"searchform\" method=\"get\" style=\"height:50px; padding-top:10px\">\n",
              "\t\t\t\t\t\t\t<input id=\"search\" name=\"q\" placeholder=\"search\" style=\"font-size:16px\" type=\"search\"/>\n",
              "\t\t\t\t\t\t</form>\n",
              "\t\t\t\t\t</li>\n",
              "\t\t\t\t\t\t\n",
              "\t\t\t<li><a href=\"/\">Home</a></li>\n",
              "\t\t\t<li><a class=\"tooltipped\" data-delay=\"50\" data-position=\"bottom\" data-tooltip=\"sudo apt-get upgrade\" href=\"/+=1/\">+=1</a></li>\n",
              "\t\t\t<li><a href=\"/store/python-hoodie/\">Store</a></li>\n",
              "\t\t\t\n",
              "\t\t\t<li><a href=\"/community/\">Community</a></li>\n",
              "\t\t\t\t<li><a href=\"/login/\">Log in</a></li>\n",
              "                <li><a href=\"/register/\">Sign up</a></li>\n",
              "\t\t\t\n",
              "\n",
              "\t\t\t\t\t</ul>\n",
              "\t\t\t\t</div>\n",
              "\t\t\t</nav>\n",
              "\t\t</div>\n",
              "\n",
              "\t\t<!-- main content -->\n",
              "\t\t<div class=\"container\" style=\"max-width:1500px; min-height:100%\">\n",
              "\t\t\t\t\t\n",
              "\t\t\t\t\t\n",
              "\t\t\t\t\t  \n",
              "\t\t\t\t\t\n",
              "\t\t\t\t\n",
              "\t\t\t\t\t\n",
              "\t<div class=\"row\">\n",
              "\t<!-- size 4 on a large screen, 12 on a small, 6 on a med -->\n",
              "\t\t<div class=\"col l4 s12 m6\">\n",
              "\t\t\t<a class=\"waves-effect waves-light\" href=\"/data-analysis-tutorials/\" style=\"color:#000\">\n",
              "\t\t\t</a><div class=\"card-panel hoverable\" style=\"height:360px; background-color:#FFFFFF;\"><a class=\"waves-effect waves-light\" href=\"/data-analysis-tutorials/\" style=\"color:#000\">\n",
              "\t\t\t\t<div class=\"card-image\">\n",
              "\t\t\t\t  <img class=\"responsive-img\" src=\"/static/images/categories/3D-Matplotlib.png\" style=\"width:250px\"/>\n",
              "\t\t\t\t  <br/><span class=\"card-title\"><strong>Data Analysis</strong></span>\n",
              "\t\t\t\t</div>\n",
              "\t\t\t\t<div class=\"card-content\">\n",
              "\t\t\t\t  <p>Learn how to use Python with Pandas, Matplotlib, and other modules to gather insights from and about your data.</p>\n",
              "\t\t\t\t</div>\n",
              "\t\t\t\t</a><div class=\"card-action right-align\"><a class=\"waves-effect waves-light\" href=\"/data-analysis-tutorials/\" style=\"color:#000\">\n",
              "\t\t\t\t  </a><a class=\"waves-effect waves-light btn\" href=\"/data-analysis-tutorials/\" style=\"color:#000000; background-color:#FFD166\">View</a>\n",
              "\t\t\t\t</div>\n",
              "            </div>\n",
              "            \n",
              "\t\t</div>\n",
              "\t\t\n",
              "\t\t<div class=\"col l4 s12 m6\">\n",
              "\t\t\t<a class=\"waves-effect waves-light\" href=\"/robotics-tutorials/\" style=\"color:#000\">\n",
              "\t\t\t</a><div class=\"card-panel hoverable\" style=\"height:360px; background-color:#FFFFFF;\"><a class=\"waves-effect waves-light\" href=\"/robotics-tutorials/\" style=\"color:#000\">\n",
              "\t\t\t\t<div class=\"card-image\">\n",
              "\t\t\t\t  <img class=\"responsive-img\" src=\"/static/images/categories/robotics_with_raspberry_pi_gopigo.jpg\" style=\"width:250px\"/>\n",
              "\t\t\t\t  <br/><span class=\"card-title\"><strong>Robotics</strong></span>\n",
              "\t\t\t\t</div>\n",
              "\t\t\t\t<div class=\"card-content\">\n",
              "\t\t\t\t  <p>Control hardware with Python programming and the Raspberry Pi.</p>\n",
              "\t\t\t\t</div>\n",
              "\t\t\t\t</a><div class=\"card-action right-align\"><a class=\"waves-effect waves-light\" href=\"/robotics-tutorials/\" style=\"color:#000\">\n",
              "\t\t\t\t  </a><a class=\"waves-effect waves-light btn\" href=\"/robotics-tutorials/\" style=\"color:#000000; background-color:#FFD166\">View</a>\n",
              "\t\t\t\t</div>\n",
              "            </div>\n",
              "            \n",
              "\t\t</div>\n",
              "\t\t\n",
              "\t\t<div class=\"col l4 s12 m6\">\n",
              "\t\t\t<a class=\"waves-effect waves-light\" href=\"/web-development-tutorials/\" style=\"color:#000\">\n",
              "\t\t\t</a><div class=\"card-panel hoverable\" style=\"height:360px; background-color:#FFFFFF;\"><a class=\"waves-effect waves-light\" href=\"/web-development-tutorials/\" style=\"color:#000\">\n",
              "\t\t\t\t<div class=\"card-image\">\n",
              "\t\t\t\t  <img class=\"responsive-img\" src=\"/static/images/categories/webdev.png\" style=\"width:250px\"/>\n",
              "\t\t\t\t  <br/><span class=\"card-title\"><strong>Web Development</strong></span>\n",
              "\t\t\t\t</div>\n",
              "\t\t\t\t<div class=\"card-content\">\n",
              "\t\t\t\t  <p>How to develop websites with either the Flask or Django frameworks for Python.</p>\n",
              "\t\t\t\t</div>\n",
              "\t\t\t\t</a><div class=\"card-action right-align\"><a class=\"waves-effect waves-light\" href=\"/web-development-tutorials/\" style=\"color:#000\">\n",
              "\t\t\t\t  </a><a class=\"waves-effect waves-light btn\" href=\"/web-development-tutorials/\" style=\"color:#000000; background-color:#FFD166\">View</a>\n",
              "\t\t\t\t</div>\n",
              "            </div>\n",
              "            \n",
              "\t\t</div>\n",
              "\n",
              "\t\n",
              "\n",
              "\t\t<div class=\"col l4 s12 m6\">\n",
              "\t\t\t<a class=\"waves-effect waves-light\" href=\"/game-development-tutorials/\" style=\"color:#000\">\n",
              "\t\t\t</a><div class=\"card-panel hoverable\" style=\"height:360px; background-color:#FFFFFF;\"><a class=\"waves-effect waves-light\" href=\"/game-development-tutorials/\" style=\"color:#000\">\n",
              "\t\t\t\t<div class=\"card-image\">\n",
              "\t\t\t\t  <img class=\"responsive-img\" src=\"/static/images/categories/pygame-tutorials.png\" style=\"width:250px\"/>\n",
              "\t\t\t\t  <br/><span class=\"card-title\"><strong>Game Development</strong></span>\n",
              "\t\t\t\t</div>\n",
              "\t\t\t\t<div class=\"card-content\">\n",
              "\t\t\t\t  <p>Create your own games with Python's PyGame library, or check out the multi-platform Kivy.</p>\n",
              "\t\t\t\t</div>\n",
              "\t\t\t\t</a><div class=\"card-action right-align\"><a class=\"waves-effect waves-light\" href=\"/game-development-tutorials/\" style=\"color:#000\">\n",
              "\t\t\t\t  </a><a class=\"waves-effect waves-light btn\" href=\"/game-development-tutorials/\" style=\"color:#000000; background-color:#FFD166\">View</a>\n",
              "\t\t\t\t</div>\n",
              "            </div>\n",
              "            \n",
              "\t\t</div>\n",
              "\n",
              "\n",
              "\n",
              "\t\t<div class=\"col l4 s12 m6\">\n",
              "\t\t\t<a class=\"waves-effect waves-light\" href=\"/python-fundamental-tutorials/\" style=\"color:#000\">\n",
              "\t\t\t</a><div class=\"card-panel hoverable\" style=\"height:360px; background-color:#FFFFFF;\"><a class=\"waves-effect waves-light\" href=\"/python-fundamental-tutorials/\" style=\"color:#000\">\n",
              "\t\t\t\t<div class=\"card-image\">\n",
              "\t\t\t\t  <img class=\"responsive-img\" src=\"/static/images/categories/python-3-basics.png\" style=\"width:250px\"/>\n",
              "\t\t\t\t  <br/><span class=\"card-title\"><strong>Python Fundamentals</strong></span>\n",
              "\t\t\t\t</div>\n",
              "\t\t\t\t<div class=\"card-content\">\n",
              "\t\t\t\t  <p>Learn the basic and intermediate Python fundamentals.</p>\n",
              "\t\t\t\t</div>\n",
              "\t\t\t\t</a><div class=\"card-action right-align\"><a class=\"waves-effect waves-light\" href=\"/python-fundamental-tutorials/\" style=\"color:#000\">\n",
              "\t\t\t\t  </a><a class=\"waves-effect waves-light btn\" href=\"/python-fundamental-tutorials/\" style=\"color:#000000; background-color:#FFD166\">View</a>\n",
              "\t\t\t\t</div>\n",
              "            </div>\n",
              "            \n",
              "\t\t</div>\n",
              "\n",
              "\n",
              "\n",
              "\t\t\n",
              "\t\t<!--<div class=\"col l4 s12 m6\">\n",
              "\t\t\t\n",
              "\t\t\t<div class=\"card-panel hoverable\" style=\"height:360px; background-color:#FFFFFF;\">\n",
              "\t\t\t<a href=\"/introduction-to-python-programming/\" class=\"waves-effect waves-light\" style=\"color:#000\">\n",
              "\t\t\t\t<div class=\"card-image\">\n",
              "\t\t\t\t  <img class=\"responsive-img\" src=\"/static/images/categories/python-3-basics.png\" style=\"width:250px\">\n",
              "\t\t\t\t  <br><span class=\"card-title\"><strong>Basics</strong></span>\n",
              "\t\t\t\t</div>\n",
              "\t\t\t\t<div class=\"card-content\">\n",
              "\t\t\t\t  <p>Just getting started?</p> \n",
              "\t\t\t\t  <p>Not a problem, learn the basics of programming with Python 3 here!</p>\n",
              "\t\t\t\t</div>\n",
              "\t\t\t\t<div class=\"card-action right-align\">\n",
              "\t\t\t\t  <a href=\"/introduction-to-python-programming/\" class=\"waves-effect waves-light btn\" style=\"color:#000000; background-color:#FFD166\">Start</a>\n",
              "\t\t\t\t</div>\n",
              "\t\t\t\t</a>\n",
              "            </div>\n",
              "\n",
              "\n",
              "\t\t</div>-->\n",
              "\t\t\n",
              "\t\t<div class=\"col l4 s12 m6\">\n",
              "\t\t\t<a class=\"waves-effect waves-light\" href=\"/gui-development-tutorials/\" style=\"color:#000\">\n",
              "\t\t\t</a><div class=\"card-panel hoverable\" style=\"height:360px; background-color:#FFFFFF;\"><a class=\"waves-effect waves-light\" href=\"/gui-development-tutorials/\" style=\"color:#000\">\n",
              "\t\t\t\t<div class=\"card-image\">\n",
              "\t\t\t\t  <img class=\"responsive-img\" src=\"/static/images/categories/tkinter-gui-tutorial-with-python-3.png\" style=\"width:250px\"/>\n",
              "\t\t\t\t  <br/><span class=\"card-title\"><strong>GUIs</strong></span>\n",
              "\t\t\t\t</div>\n",
              "\t\t\t\t<div class=\"card-content\">\n",
              "\t\t\t\t  <p>Create software with a user interface using Tkinter, PyQt, or Kivy.</p>\n",
              "\t\t\t\t</div>\n",
              "\t\t\t\t</a><div class=\"card-action right-align\"><a class=\"waves-effect waves-light\" href=\"/gui-development-tutorials/\" style=\"color:#000\">\n",
              "\t\t\t\t  </a><a class=\"waves-effect waves-light btn\" href=\"/gui-development-tutorials/\" style=\"color:#000000; background-color:#FFD166\">View</a>\n",
              "\t\t\t\t</div>\n",
              "            </div>\n",
              "            \n",
              "\t\t</div>\n",
              "\t</div>\n",
              "\n",
              "\n",
              "\t\t\t</div>\n",
              "\t\t\n",
              "\n",
              "\t\t<!--login modal-->\n",
              "\t\t\n",
              "<div class=\"modal\" id=\"modalLogin\">\n",
              "\t\t\t<div class=\"modal-content\">\n",
              "\t\t\t\t<h2 class=\"center-align\">Login</h2>\n",
              "\t\t\t\t<div class=\"center-align\">\n",
              "\t\t\t\t\t<div class=\"divider\"></div>\n",
              "\t\t\t\t\t\n",
              "\t\t\t\t\t<form class=\"col s12\">\n",
              "\t\t\t\t\t\t<div class=\"row center-align\">\n",
              "\t\t\t\t\t\t\t<div class=\"input-field col m10\">\n",
              "\t\t\t\t\t\t\t\t<input class=\"validate\" id=\"icon_prefix\" type=\"text\"/>\n",
              "\t\t\t\t\t\t\t\t<label for=\"icon_prefix\">Username</label>\n",
              "\t\t\t\t\t\t\t</div>\n",
              "\t\t\t\t\t\t\t<div class=\"input-field col m10\">\n",
              "\t\t\t\t\t\t\t\t<input class=\"validate\" id=\"icon_password\" type=\"password\"/>\n",
              "\t\t\t\t\t\t\t\t<label for=\"icon_password\">Password</label>\n",
              "\t\t\t\t\t\t\t</div>\n",
              "\t\t\t\t\t\t</div>\n",
              "\t\t\t\t\t</form>\n",
              "\t\t\t\t\t\n",
              "\t\t\t\t\t\n",
              "\t\t\t\t\t<div class=\"divider\"></div>\n",
              "\t\t\t\t\t<p>\n",
              "\t\t\t\t\t\t<a class=\"btn btn-flat white modal-close\" href=\"#\">Cancel</a> \u00a0\n",
              "\t\t\t\t\t\t<a class=\"waves-effect waves-blue blue btn btn-flat modal-action modal-close\" href=\"#\">Login</a>\n",
              "\t\t\t\t\t</p>\n",
              "\t\t\t\t\t\n",
              "\t\t\t\t\t\n",
              "\t\t\t\t</div>\n",
              "\t\t\t</div>\n",
              "\t\t</div>\n",
              "\n",
              "\n",
              "\t\t\n",
              "\t\t<!--Register modal-->\n",
              "\t\t\n",
              "\t\t<div class=\"modal\" id=\"modalRegister\">\n",
              "\t\t\t<div class=\"modal-content\">\n",
              "\t\t\t\t<h2 class=\"center-align\">Sign up</h2>\n",
              "\t\t\t\t<div class=\"center-align\">\n",
              "\t\t\t\t\t<div class=\"divider\"></div>\n",
              "\t\t\t\t\t\n",
              "\t\t\t\t\t<form action=\"/register/\" method=\"post\">\n",
              "\t\t\t\t\t\t\t<div class=\"input-field col\">\n",
              "\t\t\t\t\t\t\t\t<input class=\"validate\" id=\"username\" type=\"text\"/>\n",
              "\t\t\t\t\t\t\t\t<label for=\"username\">Username</label>\n",
              "\t\t\t\t\t\t\t</div>\n",
              "\t\t\t\t\t\t\t<div class=\"input-field col\">\n",
              "\t\t\t\t\t\t\t\t<input class=\"validate\" id=\"password\" type=\"password\"/>\n",
              "\t\t\t\t\t\t\t\t<label for=\"password\">Password</label>\n",
              "\t\t\t\t\t\t\t</div>\n",
              "\t\t\t\t\t\t\t<div class=\"input-field col\">\n",
              "\t\t\t\t\t\t\t\t<input class=\"validate\" id=\"confirm\" type=\"password\"/>\n",
              "\t\t\t\t\t\t\t\t<label for=\"confirm\">Repeat Password</label>\n",
              "\t\t\t\t\t\t\t</div>\n",
              "\t\t\t\t\t\t\t\n",
              "\t\t\t\t\t\t\t<div class=\"input-field col\">\n",
              "\t\t\t\t\t\t\t\t<input class=\"validate\" id=\"email\" type=\"text\"/>\n",
              "\t\t\t\t\t\t\t\t<label for=\"email\">Email</label>\n",
              "\t\t\t\t\t\t\t</div>\n",
              "\n",
              "\t\t\t\t\t\t\t<div class=\"divider\"></div>\n",
              "\t\t\t\t\t\t\t<p>\n",
              "\t\t\t\t\t\t\t\t<a class=\"btn btn-flat white modal-close\" href=\"#\">Cancel</a> \u00a0\n",
              "\t\t\t\t\t\t\t\t<button class=\"btn\" type=\"submit\" value=\"Register\">Sign Up</button>\n",
              "\t\t\t\t\t\t\t</p>\n",
              "\n",
              "\t\t\t\t\t</form>\n",
              "\n",
              "\t\t\t\t\t\n",
              "\n",
              "\t\t\t\t</div>\n",
              "\t\t\t</div>\n",
              "\t\t</div>\n",
              "\n",
              "\n",
              "\n",
              "\t\t\n",
              "\t\t<script>\n",
              "\t\t\t$(document).ready(function(){\n",
              "\t\t\t\t$(\".button-collapse\").sideNav();\n",
              "\t\t\t\t$('.modal-trigger').leanModal();\n",
              "\t\t\t\t$('.collapsible').collapsible({\n",
              "\t\t\t\t  accordion : false // A setting that changes the collapsible behavior to expandable instead of the default accordion style\n",
              "\t\t\t\t});\n",
              "\t\t\t\t$('#aside').pushpin({ top:110, bottom:500 });\n",
              "\t\t  });\n",
              "\t\t</script>\n",
              "\t\t<script>\n",
              "\t\t  $(document).ready(function(){\n",
              "\t\t\t$('.collapsible').collapsible({\n",
              "\t\t\t  accordion : false // A setting that changes the collapsible behavior to expandable instead of the default accordion style\n",
              "\t\t\t});\n",
              "\t\t\t$('select').material_select();\n",
              "\t\t  });\n",
              "\t  </script>\n",
              "\t  <script>\n",
              "\t\tfunction goBack() {\n",
              "\t\t\twindow.history.back()\n",
              "\t\t}\n",
              "\t</script>\n",
              "\t\t<script src=\"/static/js/run_prettify.js\" type=\"text/javascript\"></script>\n",
              "\t  \n",
              "\t\n",
              "\n",
              "<footer class=\"page-footer\">\n",
              "          <div class=\"container\">\n",
              "            <div class=\"row\">\n",
              "              <div class=\"col l6 s12\">\n",
              "                <h5 class=\"white-text\">You've reached the end!</h5>\n",
              "                \n",
              "                <p class=\"grey-text text-lighten-4\">Contact: Harrison@pythonprogramming.net.</p>\n",
              "                <ul>\n",
              "                  <li><a class=\"grey-text text-lighten-3\" href=\"/support-donate/\">Support this Website!</a></li>\n",
              "                  <li><a class=\"grey-text text-lighten-3\" href=\"/consulting/\">Hire me</a></li>\n",
              "                  <li><a class=\"grey-text text-lighten-3\" href=\"https://www.facebook.com/pythonprogramming.net/\">Facebook</a></li>\n",
              "                  <li><a class=\"grey-text text-lighten-3\" href=\"https://twitter.com/sentdex\">Twitter</a></li>\n",
              "                  <li><a class=\"grey-text text-lighten-3\" href=\"https://plus.google.com/+sentdex\">Google+</a></li>\n",
              "                </ul>\n",
              "              </div>\n",
              "              <div class=\"col l4 offset-l2 s12\">\n",
              "                <h6 class=\"white-text\">Legal stuff:</h6>\n",
              "                <ul>\n",
              "                  <li><a class=\"grey-text text-lighten-3\" href=\"/about/tos/\">Terms and Conditions</a></li>\n",
              "                  <li><a class=\"grey-text text-lighten-3\" href=\"/about/privacy-policy/\">Privacy Policy</a></li>\n",
              "\n",
              "                </ul>\n",
              "              </div>\n",
              "            </div>\n",
              "          </div>\n",
              "          <a href=\"https://xkcd.com/353/\" target=\"blank\"><p class=\"grey-text right\" style=\"padding-right:10px\">Programming is a superpower.</p></a>\n",
              "          <div class=\"footer-copyright\">\n",
              "            <div class=\"container\">\n",
              "            \u00a9 OVER 9000! PythonProgramming.net\n",
              "            \n",
              "            </div>\n",
              "\n",
              "          </div>\n",
              "        </footer>\n",
              "\n",
              "\n",
              "\n",
              "\n",
              "\n",
              "\n",
              "\n",
              "\n",
              "\n",
              "\n",
              "\n",
              "\n",
              "\n",
              "\n",
              "\n",
              "\n",
              "</body></html>"
            ]
          },
          "execution_count": null,
          "metadata": {},
          "output_type": "execute_result"
        }
      ],
      "source": [
        "# on stock le contenu html dans la variable html\n",
        "html = r.text\n",
        "\n",
        "# on \"parse\" le html gr\u00e2ce \u00e0 la librairie beautiful soup\n",
        "soup = BeautifulSoup(html, \"html5lib\")\n",
        "\n",
        "# c'est plus \"joli\" encore que pprint et surtout, \n",
        "# il y a plein de m\u00e9thodes pour extraire les informations que l'on souhaite\n",
        "soup"
      ]
    },
    {
      "cell_type": "code",
      "execution_count": null,
      "metadata": {},
      "outputs": [
        {
          "data": {
            "text/plain": [
              "bs4.BeautifulSoup"
            ]
          },
          "execution_count": null,
          "metadata": {},
          "output_type": "execute_result"
        }
      ],
      "source": [
        "type(soup)"
      ]
    },
    {
      "cell_type": "markdown",
      "metadata": {},
      "source": [
        "_soup_ est une instance de la classe BeautifulSoup (que l'on a import\u00e9 de la librairie bs4). C'est une repr\u00e9sentation du code html avec des m\u00e9thodes pratiques, telles que __find__. __find__ permet de trouver la premi\u00e8re occurence d'une balise html qu'on lui passe. Par exemple le 1er lien de la page :"
      ]
    },
    {
      "cell_type": "code",
      "execution_count": null,
      "metadata": {},
      "outputs": [
        {
          "data": {
            "text/plain": [
              "<a class=\"brand-logo\" href=\"/\"><img class=\"img-responsive\" src=\"/static/images/mainlogowhitethick.jpg\" style=\"width:50px; height;50px; margin-top:5px\"/></a>"
            ]
          },
          "execution_count": null,
          "metadata": {},
          "output_type": "execute_result"
        }
      ],
      "source": [
        "soup.find(\"a\")"
      ]
    },
    {
      "cell_type": "markdown",
      "metadata": {},
      "source": [
        "Si on veut tous les liens, il faut utiliser __findAll__. Cela renvoie une objet qui se comporte comme une liste. On peut it\u00e9rer dessus, ou facilement le transformer en objet \"list\" (en faisant list())"
      ]
    },
    {
      "cell_type": "code",
      "execution_count": null,
      "metadata": {},
      "outputs": [
        {
          "name": "stdout",
          "output_type": "stream",
          "text": [
            "<class 'bs4.element.ResultSet'>\n"
          ]
        },
        {
          "data": {
            "text/plain": [
              "[<a class=\"brand-logo\" href=\"/\"><img class=\"img-responsive\" src=\"/static/images/mainlogowhitethick.jpg\" style=\"width:50px; height;50px; margin-top:5px\"/></a>,\n",
              " <a class=\"button-collapse\" data-activates=\"navsidebar\" href=\"#\"><i class=\"mdi-navigation-menu\"></i></a>,\n",
              " <a href=\"/\">Home</a>,\n",
              " <a class=\"tooltipped\" data-delay=\"50\" data-position=\"bottom\" data-tooltip=\"sudo apt-get upgrade\" href=\"/+=1/\">+=1</a>,\n",
              " <a href=\"/store/python-hoodie/\">Store</a>,\n",
              " <a href=\"/community/\">Community</a>,\n",
              " <a href=\"/login/\">Log in</a>,\n",
              " <a href=\"/register/\">Sign up</a>,\n",
              " <a href=\"/\">Home</a>,\n",
              " <a class=\"tooltipped\" data-delay=\"50\" data-position=\"bottom\" data-tooltip=\"sudo apt-get upgrade\" href=\"/+=1/\">+=1</a>,\n",
              " <a href=\"/store/python-hoodie/\">Store</a>,\n",
              " <a href=\"/community/\">Community</a>,\n",
              " <a href=\"/login/\">Log in</a>,\n",
              " <a href=\"/register/\">Sign up</a>,\n",
              " <a class=\"waves-effect waves-light\" href=\"/data-analysis-tutorials/\" style=\"color:#000\">\n",
              " \t\t\t</a>,\n",
              " <a class=\"waves-effect waves-light\" href=\"/data-analysis-tutorials/\" style=\"color:#000\">\n",
              " \t\t\t\t<div class=\"card-image\">\n",
              " \t\t\t\t  <img class=\"responsive-img\" src=\"/static/images/categories/3D-Matplotlib.png\" style=\"width:250px\"/>\n",
              " \t\t\t\t  <br/><span class=\"card-title\"><strong>Data Analysis</strong></span>\n",
              " \t\t\t\t</div>\n",
              " \t\t\t\t<div class=\"card-content\">\n",
              " \t\t\t\t  <p>Learn how to use Python with Pandas, Matplotlib, and other modules to gather insights from and about your data.</p>\n",
              " \t\t\t\t</div>\n",
              " \t\t\t\t</a>,\n",
              " <a class=\"waves-effect waves-light\" href=\"/data-analysis-tutorials/\" style=\"color:#000\">\n",
              " \t\t\t\t  </a>,\n",
              " <a class=\"waves-effect waves-light btn\" href=\"/data-analysis-tutorials/\" style=\"color:#000000; background-color:#FFD166\">View</a>,\n",
              " <a class=\"waves-effect waves-light\" href=\"/robotics-tutorials/\" style=\"color:#000\">\n",
              " \t\t\t</a>,\n",
              " <a class=\"waves-effect waves-light\" href=\"/robotics-tutorials/\" style=\"color:#000\">\n",
              " \t\t\t\t<div class=\"card-image\">\n",
              " \t\t\t\t  <img class=\"responsive-img\" src=\"/static/images/categories/robotics_with_raspberry_pi_gopigo.jpg\" style=\"width:250px\"/>\n",
              " \t\t\t\t  <br/><span class=\"card-title\"><strong>Robotics</strong></span>\n",
              " \t\t\t\t</div>\n",
              " \t\t\t\t<div class=\"card-content\">\n",
              " \t\t\t\t  <p>Control hardware with Python programming and the Raspberry Pi.</p>\n",
              " \t\t\t\t</div>\n",
              " \t\t\t\t</a>,\n",
              " <a class=\"waves-effect waves-light\" href=\"/robotics-tutorials/\" style=\"color:#000\">\n",
              " \t\t\t\t  </a>,\n",
              " <a class=\"waves-effect waves-light btn\" href=\"/robotics-tutorials/\" style=\"color:#000000; background-color:#FFD166\">View</a>,\n",
              " <a class=\"waves-effect waves-light\" href=\"/web-development-tutorials/\" style=\"color:#000\">\n",
              " \t\t\t</a>,\n",
              " <a class=\"waves-effect waves-light\" href=\"/web-development-tutorials/\" style=\"color:#000\">\n",
              " \t\t\t\t<div class=\"card-image\">\n",
              " \t\t\t\t  <img class=\"responsive-img\" src=\"/static/images/categories/webdev.png\" style=\"width:250px\"/>\n",
              " \t\t\t\t  <br/><span class=\"card-title\"><strong>Web Development</strong></span>\n",
              " \t\t\t\t</div>\n",
              " \t\t\t\t<div class=\"card-content\">\n",
              " \t\t\t\t  <p>How to develop websites with either the Flask or Django frameworks for Python.</p>\n",
              " \t\t\t\t</div>\n",
              " \t\t\t\t</a>,\n",
              " <a class=\"waves-effect waves-light\" href=\"/web-development-tutorials/\" style=\"color:#000\">\n",
              " \t\t\t\t  </a>,\n",
              " <a class=\"waves-effect waves-light btn\" href=\"/web-development-tutorials/\" style=\"color:#000000; background-color:#FFD166\">View</a>,\n",
              " <a class=\"waves-effect waves-light\" href=\"/game-development-tutorials/\" style=\"color:#000\">\n",
              " \t\t\t</a>,\n",
              " <a class=\"waves-effect waves-light\" href=\"/game-development-tutorials/\" style=\"color:#000\">\n",
              " \t\t\t\t<div class=\"card-image\">\n",
              " \t\t\t\t  <img class=\"responsive-img\" src=\"/static/images/categories/pygame-tutorials.png\" style=\"width:250px\"/>\n",
              " \t\t\t\t  <br/><span class=\"card-title\"><strong>Game Development</strong></span>\n",
              " \t\t\t\t</div>\n",
              " \t\t\t\t<div class=\"card-content\">\n",
              " \t\t\t\t  <p>Create your own games with Python's PyGame library, or check out the multi-platform Kivy.</p>\n",
              " \t\t\t\t</div>\n",
              " \t\t\t\t</a>,\n",
              " <a class=\"waves-effect waves-light\" href=\"/game-development-tutorials/\" style=\"color:#000\">\n",
              " \t\t\t\t  </a>,\n",
              " <a class=\"waves-effect waves-light btn\" href=\"/game-development-tutorials/\" style=\"color:#000000; background-color:#FFD166\">View</a>,\n",
              " <a class=\"waves-effect waves-light\" href=\"/python-fundamental-tutorials/\" style=\"color:#000\">\n",
              " \t\t\t</a>,\n",
              " <a class=\"waves-effect waves-light\" href=\"/python-fundamental-tutorials/\" style=\"color:#000\">\n",
              " \t\t\t\t<div class=\"card-image\">\n",
              " \t\t\t\t  <img class=\"responsive-img\" src=\"/static/images/categories/python-3-basics.png\" style=\"width:250px\"/>\n",
              " \t\t\t\t  <br/><span class=\"card-title\"><strong>Python Fundamentals</strong></span>\n",
              " \t\t\t\t</div>\n",
              " \t\t\t\t<div class=\"card-content\">\n",
              " \t\t\t\t  <p>Learn the basic and intermediate Python fundamentals.</p>\n",
              " \t\t\t\t</div>\n",
              " \t\t\t\t</a>,\n",
              " <a class=\"waves-effect waves-light\" href=\"/python-fundamental-tutorials/\" style=\"color:#000\">\n",
              " \t\t\t\t  </a>,\n",
              " <a class=\"waves-effect waves-light btn\" href=\"/python-fundamental-tutorials/\" style=\"color:#000000; background-color:#FFD166\">View</a>,\n",
              " <a class=\"waves-effect waves-light\" href=\"/gui-development-tutorials/\" style=\"color:#000\">\n",
              " \t\t\t</a>,\n",
              " <a class=\"waves-effect waves-light\" href=\"/gui-development-tutorials/\" style=\"color:#000\">\n",
              " \t\t\t\t<div class=\"card-image\">\n",
              " \t\t\t\t  <img class=\"responsive-img\" src=\"/static/images/categories/tkinter-gui-tutorial-with-python-3.png\" style=\"width:250px\"/>\n",
              " \t\t\t\t  <br/><span class=\"card-title\"><strong>GUIs</strong></span>\n",
              " \t\t\t\t</div>\n",
              " \t\t\t\t<div class=\"card-content\">\n",
              " \t\t\t\t  <p>Create software with a user interface using Tkinter, PyQt, or Kivy.</p>\n",
              " \t\t\t\t</div>\n",
              " \t\t\t\t</a>,\n",
              " <a class=\"waves-effect waves-light\" href=\"/gui-development-tutorials/\" style=\"color:#000\">\n",
              " \t\t\t\t  </a>,\n",
              " <a class=\"waves-effect waves-light btn\" href=\"/gui-development-tutorials/\" style=\"color:#000000; background-color:#FFD166\">View</a>,\n",
              " <a class=\"btn btn-flat white modal-close\" href=\"#\">Cancel</a>,\n",
              " <a class=\"waves-effect waves-blue blue btn btn-flat modal-action modal-close\" href=\"#\">Login</a>,\n",
              " <a class=\"btn btn-flat white modal-close\" href=\"#\">Cancel</a>,\n",
              " <a class=\"grey-text text-lighten-3\" href=\"/support-donate/\">Support this Website!</a>,\n",
              " <a class=\"grey-text text-lighten-3\" href=\"/consulting/\">Hire me</a>,\n",
              " <a class=\"grey-text text-lighten-3\" href=\"https://www.facebook.com/pythonprogramming.net/\">Facebook</a>,\n",
              " <a class=\"grey-text text-lighten-3\" href=\"https://twitter.com/sentdex\">Twitter</a>,\n",
              " <a class=\"grey-text text-lighten-3\" href=\"https://plus.google.com/+sentdex\">Google+</a>,\n",
              " <a class=\"grey-text text-lighten-3\" href=\"/about/tos/\">Terms and Conditions</a>,\n",
              " <a class=\"grey-text text-lighten-3\" href=\"/about/privacy-policy/\">Privacy Policy</a>,\n",
              " <a href=\"https://xkcd.com/353/\" target=\"blank\"><p class=\"grey-text right\" style=\"padding-right:10px\">Programming is a superpower.</p></a>]"
            ]
          },
          "execution_count": null,
          "metadata": {},
          "output_type": "execute_result"
        }
      ],
      "source": [
        "print(type(soup.findAll(\"a\")))\n",
        "soup.findAll(\"a\")"
      ]
    },
    {
      "cell_type": "markdown",
      "metadata": {},
      "source": [
        "On peut s\u00e9lectionner des tags qui ont certains attributs css. Par exemple ici, on peut vouloir seulement les liens internes du site. Ils ont la classe \"internal\". Les autres \"external\"."
      ]
    },
    {
      "cell_type": "code",
      "execution_count": null,
      "metadata": {},
      "outputs": [
        {
          "data": {
            "text/plain": [
              "[]"
            ]
          },
          "execution_count": null,
          "metadata": {},
          "output_type": "execute_result"
        }
      ],
      "source": [
        "list(soup.findAll(\"a\", {\"class\": \"internal\"}))"
      ]
    },
    {
      "cell_type": "markdown",
      "metadata": {},
      "source": [
        "Ce n'est pas toujours comme \u00e7a, la plupart du temps, il faudra la forme de la valeur de l'attribut href. les liens externes pourront etre identifi\u00e9s parce qu'ils sont absolus (on indique l'ensemble du lien comme href=\"https://docs.python.org/3/reference/expressions.html etc. et non pas un lien relatif comme href=\"../c_exception/exception.html ('..' signifie \"le r\u00e9pertoire parent)."
      ]
    },
    {
      "cell_type": "markdown",
      "metadata": {},
      "source": [
        "On peut lister toutes les balises h1 et h2 de cette page, en une ligne."
      ]
    },
    {
      "cell_type": "code",
      "execution_count": null,
      "metadata": {},
      "outputs": [
        {
          "data": {
            "text/plain": [
              "[<h2 class=\"center-align\">Login</h2>, <h2 class=\"center-align\">Sign up</h2>]"
            ]
          },
          "execution_count": null,
          "metadata": {},
          "output_type": "execute_result"
        }
      ],
      "source": [
        "list(soup.findAll({\"h1\", \"h2\"}))"
      ]
    },
    {
      "cell_type": "markdown",
      "metadata": {},
      "source": [
        "Naviguer vers les enfants"
      ]
    },
    {
      "cell_type": "code",
      "execution_count": null,
      "metadata": {},
      "outputs": [],
      "source": [
        "child = soup.find(\"h2\").a\n",
        "child"
      ]
    },
    {
      "cell_type": "markdown",
      "metadata": {},
      "source": [
        "Retrouver le parent"
      ]
    },
    {
      "cell_type": "code",
      "execution_count": null,
      "metadata": {},
      "outputs": [],
      "source": [
        "parent = child.parent if child else None\n",
        "parent"
      ]
    },
    {
      "cell_type": "markdown",
      "metadata": {},
      "source": [
        "R\u00e9cup\u00e9rer tous les enfants"
      ]
    },
    {
      "cell_type": "code",
      "execution_count": null,
      "metadata": {},
      "outputs": [
        {
          "data": {
            "text/plain": [
              "[]"
            ]
          },
          "execution_count": null,
          "metadata": {},
          "output_type": "execute_result"
        }
      ],
      "source": [
        "children = soup.find(\"h2\").findAll(\"a\")\n",
        "children"
      ]
    },
    {
      "cell_type": "markdown",
      "metadata": {},
      "source": [
        "R\u00e9cup\u00e9rer les attributs des \u00e9l\u00e9ments html"
      ]
    },
    {
      "cell_type": "code",
      "execution_count": null,
      "metadata": {},
      "outputs": [
        {
          "data": {
            "text/plain": [
              "[]"
            ]
          },
          "execution_count": null,
          "metadata": {},
          "output_type": "execute_result"
        }
      ],
      "source": [
        "[c.attrs for c in children]"
      ]
    },
    {
      "cell_type": "markdown",
      "metadata": {},
      "source": [
        "Acc\u00e9der \u00e0 la valeur d'un attribut en particulier"
      ]
    },
    {
      "cell_type": "code",
      "execution_count": null,
      "metadata": {},
      "outputs": [
        {
          "data": {
            "text/plain": [
              "[]"
            ]
          },
          "execution_count": null,
          "metadata": {},
          "output_type": "execute_result"
        }
      ],
      "source": [
        "[c.attrs['href'] for c in children]"
      ]
    },
    {
      "cell_type": "markdown",
      "metadata": {},
      "source": [
        "Jusqu'ici, on passe syst\u00e9matiquement par une balise html. Comment faire si on veut r\u00e9cup\u00e9rer les \u00e9lements qui ont une class css, quelle que soit la balise html ?"
      ]
    },
    {
      "cell_type": "code",
      "execution_count": null,
      "metadata": {},
      "outputs": [
        {
          "data": {
            "text/plain": [
              "[]"
            ]
          },
          "execution_count": null,
          "metadata": {},
          "output_type": "execute_result"
        }
      ],
      "source": [
        "internals = soup.findAll(\"\", {\"class\": \"internal\"})\n",
        "internals"
      ]
    },
    {
      "cell_type": "markdown",
      "metadata": {},
      "source": [
        "On a presque fini de passer en revue la librairie. Il reste la notion de \"sibling\", pratique pour parcourir un tableau. nextSibling : permet de r\u00e9cup\u00e9rer l'\u00e9l\u00e9ment html suivant et \"de m\u00eame niveau\" dans l'arbre (le prochain fr\u00e8re), previousSibling, le pr\u00e9c\u00e9dent. findChildren permet de trouver tous les enfants."
      ]
    },
    {
      "cell_type": "markdown",
      "metadata": {},
      "source": [
        "Enfin la m\u00e9thode \"get_text()\" pour r\u00e9cup\u00e9rer le contenu des balises html. A appliquer en dernier ! En effet, une fois appliquer, on perd toute trace \u00e0 l'arbre html. SI vous voulez aller plus loin, la doc est bien faite : https://www.crummy.com/software/BeautifulSoup/bs4/doc/"
      ]
    },
    {
      "cell_type": "markdown",
      "metadata": {},
      "source": [
        "### Exercice 5"
      ]
    },
    {
      "cell_type": "markdown",
      "metadata": {},
      "source": [
        "R\u00e9cup\u00e9rer le contenu des code snippets de la page : http://www.xavierdupre.fr/app/teachpyx/helpsphinx/c_lang/types.html"
      ]
    },
    {
      "cell_type": "markdown",
      "metadata": {},
      "source": [
        "### Exercice 5 - correction"
      ]
    },
    {
      "cell_type": "code",
      "execution_count": null,
      "metadata": {},
      "outputs": [
        {
          "data": {
            "text/plain": [
              "''"
            ]
          },
          "execution_count": null,
          "metadata": {},
          "output_type": "execute_result"
        }
      ],
      "source": [
        "code_snippets = soup.findAll('pre')\n",
        "if code_snippets:\n",
        "    t = code_snippets[0].get_text()\n",
        "else:\n",
        "    t = \"\"\n",
        "t"
      ]
    },
    {
      "cell_type": "markdown",
      "metadata": {},
      "source": [
        "### Exercice 6"
      ]
    },
    {
      "cell_type": "markdown",
      "metadata": {},
      "source": [
        "R\u00e9cup\u00e9rer la 3\u00e8me colonne (intitul\u00e9e \"exemples\") du tableau des op\u00e9rateurs : http://www.xavierdupre.fr/app/teachpyx/helpsphinx/c_lang/types.html"
      ]
    },
    {
      "cell_type": "markdown",
      "metadata": {},
      "source": [
        "Astuce : explorer les CSS selectors : https://www.crummy.com/software/BeautifulSoup/bs4/doc/."
      ]
    },
    {
      "cell_type": "markdown",
      "metadata": {},
      "source": [
        "### Exercice 6 - correction"
      ]
    },
    {
      "cell_type": "code",
      "execution_count": null,
      "metadata": {},
      "outputs": [
        {
          "data": {
            "text/plain": [
              "'rien du tout'"
            ]
          },
          "execution_count": null,
          "metadata": {},
          "output_type": "execute_result"
        }
      ],
      "source": [
        "table = soup.find('tbody')\n",
        "if table is not None:\n",
        "    rows = table.findAll('tr')\n",
        "    res = [r.select_one(\"td:nth-of-type(3)\").get_text() for r in rows]\n",
        "else:\n",
        "    res = \"rien du tout\"\n",
        "res"
      ]
    },
    {
      "cell_type": "markdown",
      "metadata": {},
      "source": [
        "### Exercice 7"
      ]
    },
    {
      "cell_type": "markdown",
      "metadata": {},
      "source": [
        "R\u00e9cup\u00e9rer le contenu des titres (h1, h2, h3, etc.) et des balise p de l'ensemble des liens de notre liste et compter le nombre d'occurences du mot python, et la porportion que cela repr\u00e9sente dans l'ensemble des mots"
      ]
    },
    {
      "cell_type": "markdown",
      "metadata": {},
      "source": [
        "### Exercice 7 - correction "
      ]
    },
    {
      "cell_type": "code",
      "execution_count": null,
      "metadata": {
        "collapsed": true
      },
      "outputs": [],
      "source": [
        "def nb_words(url):\n",
        "    print(url)\n",
        "    try: \n",
        "        html = requests.get(url).text\n",
        "        soup = BeautifulSoup(html, \"html5lib\")\n",
        "        nb_python = 0\n",
        "        nb_words = 0\n",
        "        for e in soup.findAll({'h1', 'h2', 'h3', 'h4', 'h5', 'h6', 'p'}):\n",
        "            text = e.get_text()\n",
        "            words = text.split(' ')\n",
        "            nb_words += len(words)\n",
        "            python_words = [w for w in words if \"python\" in w.lower()]\n",
        "            nb_python += len(python_words)\n",
        "        return (nb_python, nb_words)\n",
        "    except:\n",
        "        return \"scraper banned\""
      ]
    },
    {
      "cell_type": "code",
      "execution_count": null,
      "metadata": {},
      "outputs": [
        {
          "name": "stdout",
          "output_type": "stream",
          "text": [
            "https://pythonprogramming.net/\n",
            "http://www.mikesboyle.com/post/117202964694/python-nltk-wtf-chapter-1-notes-on-things-that\n",
            "https://jakevdp.github.io/blog/2013/06/15/numba-vs-cython-take-2/\n",
            "https://blog.rstudio.org/2016/03/29/feather/\n",
            "http://nbviewer.jupyter.org/github/ptwobrussell/Mining-the-Social-Web-2nd-Edition/tree/master/ipynb/\n",
            "https://marcobonzanini.com/2015/06/16/mining-twitter-data-with-python-and-js-part-7-geolocation-and-interactive-maps/\n",
            "http://www.nltk.org/book/ch03.html\n",
            "http://blog.fouadhamdi.com/introduction-a-nltk/\n",
            "https://qbox.io/blog/building-an-elasticsearch-index-with-python\n",
            "https://tryolabs.com/blog/2015/02/17/python-elasticsearch-first-steps/\n",
            "http://www.xavierdupre.fr/app/teachpyx/helpsphinx/c_lang/types.html\n",
            "http://docs.python-requests.org/en/master/user/quickstart/\n",
            "http://stackoverflow.com/questions/9663918/how-can-i-tag-and-chunk-french-text-using-nltk-and-python\n",
            "https://jakevdp.github.io/blog/2015/08/14/out-of-core-dataframes-in-python/\n",
            "https://pypi.python.org/pypi/munkres/\n",
            "https://realpython.com/blog/python/setting-up-sublime-text-3-for-full-stack-python-development\n",
            "http://okomestudio.net/biboroku/?p=2375\n",
            "https://blog.dominodatalab.com/ab-testing-with-hierarchical-models-in-python/\n",
            "http://www.nltk.org/book/ch04.html\n",
            "https://people.duke.edu/~ccc14/sta-663/Optimization_Bakeoff.html\n",
            "https://blog.miguelgrinberg.com/post/the-flask-mega-tutorial-part-i-hello-world\n",
            "http://xavierdupre.fr/\n"
          ]
        }
      ],
      "source": [
        "df['python_occ'] = df['url'].apply(lambda x: nb_words(x))"
      ]
    },
    {
      "cell_type": "code",
      "execution_count": null,
      "metadata": {},
      "outputs": [
        {
          "data": {
            "text/html": [
              "<div>\n",
              "<style>\n",
              "    .dataframe thead tr:only-child th {\n",
              "        text-align: right;\n",
              "    }\n",
              "\n",
              "    .dataframe thead th {\n",
              "        text-align: left;\n",
              "    }\n",
              "\n",
              "    .dataframe tbody tr th {\n",
              "        vertical-align: top;\n",
              "    }\n",
              "</style>\n",
              "<table border=\"1\" class=\"dataframe\">\n",
              "  <thead>\n",
              "    <tr style=\"text-align: right;\">\n",
              "      <th></th>\n",
              "      <th>item_id</th>\n",
              "      <th>url</th>\n",
              "      <th>title</th>\n",
              "      <th>excerpt</th>\n",
              "      <th>tags</th>\n",
              "      <th>python_occ</th>\n",
              "    </tr>\n",
              "  </thead>\n",
              "  <tbody>\n",
              "    <tr>\n",
              "      <th>0</th>\n",
              "      <td>680797791</td>\n",
              "      <td>https://pythonprogramming.net/</td>\n",
              "      <td>Python Programming Tutorials</td>\n",
              "      <td>Learn how to use Python with Pandas, Matplotli...</td>\n",
              "      <td>python</td>\n",
              "      <td>(6, 93)</td>\n",
              "    </tr>\n",
              "    <tr>\n",
              "      <th>1</th>\n",
              "      <td>1072497525</td>\n",
              "      <td>http://www.mikesboyle.com/post/117202964694/py...</td>\n",
              "      <td>Python NLTK WTF, Chapter 1: Notes on things th...</td>\n",
              "      <td>If you\u2019re reading this post, you\u2019re probably a...</td>\n",
              "      <td>nlp,python</td>\n",
              "      <td>(21, 1475)</td>\n",
              "    </tr>\n",
              "    <tr>\n",
              "      <th>2</th>\n",
              "      <td>378831480</td>\n",
              "      <td>https://jakevdp.github.io/blog/2013/06/15/numb...</td>\n",
              "      <td>Numba vs. Cython: Take 2</td>\n",
              "      <td>Last summer I wrote a post comparing the perfo...</td>\n",
              "      <td>python</td>\n",
              "      <td>(21, 1183)</td>\n",
              "    </tr>\n",
              "    <tr>\n",
              "      <th>3</th>\n",
              "      <td>1240472260</td>\n",
              "      <td>https://blog.rstudio.org/2016/03/29/feather/</td>\n",
              "      <td>Feather: A Fast On-Disk Format for Data Frames...</td>\n",
              "      <td>This past January, we (Hadley and Wes) met and...</td>\n",
              "      <td>python</td>\n",
              "      <td>(13, 771)</td>\n",
              "    </tr>\n",
              "    <tr>\n",
              "      <th>4</th>\n",
              "      <td>1056127688</td>\n",
              "      <td>http://nbviewer.jupyter.org/github/ptwobrussel...</td>\n",
              "      <td>Jupyter Notebook Viewer</td>\n",
              "      <td>Delivered by Fastly, Rendered by Rackspace nbv...</td>\n",
              "      <td>python</td>\n",
              "      <td>(0, 195)</td>\n",
              "    </tr>\n",
              "    <tr>\n",
              "      <th>5</th>\n",
              "      <td>957402029</td>\n",
              "      <td>https://marcobonzanini.com/2015/06/16/mining-t...</td>\n",
              "      <td>Mining Twitter Data with Python (and JS) \u2013 Par...</td>\n",
              "      <td>Geolocation is the process of identifying the ...</td>\n",
              "      <td>python,tagerstreet</td>\n",
              "      <td>(10, 2435)</td>\n",
              "    </tr>\n",
              "    <tr>\n",
              "      <th>6</th>\n",
              "      <td>241420475</td>\n",
              "      <td>http://www.nltk.org/book/ch03.html</td>\n",
              "      <td>3 Processing Raw Text</td>\n",
              "      <td>The most important source of texts is undoubte...</td>\n",
              "      <td>nltk,python,tokenize</td>\n",
              "      <td>(58, 11800)</td>\n",
              "    </tr>\n",
              "    <tr>\n",
              "      <th>7</th>\n",
              "      <td>1057169119</td>\n",
              "      <td>http://blog.fouadhamdi.com/introduction-a-nltk/</td>\n",
              "      <td>Introduction \u00e0 l'analyse de texte avec nltk - ...</td>\n",
              "      <td>nltk est une librairie python tr\u00e8s utile pour ...</td>\n",
              "      <td>french,nlp,nltk,python,tokenize,tokenizer</td>\n",
              "      <td>scraper banned</td>\n",
              "    </tr>\n",
              "    <tr>\n",
              "      <th>8</th>\n",
              "      <td>1064802343</td>\n",
              "      <td>https://qbox.io/blog/building-an-elasticsearch...</td>\n",
              "      <td>Build an Elasticsearch Index with Python\u2014Machi...</td>\n",
              "      <td>In this first article, we're going to set up s...</td>\n",
              "      <td>elastic-search,python</td>\n",
              "      <td>(11, 1901)</td>\n",
              "    </tr>\n",
              "    <tr>\n",
              "      <th>9</th>\n",
              "      <td>1395948696</td>\n",
              "      <td>https://tryolabs.com/blog/2015/02/17/python-el...</td>\n",
              "      <td>Python + Elasticsearch. First steps.</td>\n",
              "      <td>Lately, here at Tryolabs, we started gaining i...</td>\n",
              "      <td>elastic-search,elasticsearch,python,tutorial</td>\n",
              "      <td>(11, 1509)</td>\n",
              "    </tr>\n",
              "    <tr>\n",
              "      <th>10</th>\n",
              "      <td>1883956314</td>\n",
              "      <td>http://www.xavierdupre.fr/app/teachpyx/helpsph...</td>\n",
              "      <td>Types et variables du langage python\u00b6</td>\n",
              "      <td>Il est impossible d\u2019\u00e9crire un programme sans u...</td>\n",
              "      <td>python</td>\n",
              "      <td>(29, 5164)</td>\n",
              "    </tr>\n",
              "    <tr>\n",
              "      <th>11</th>\n",
              "      <td>427014788</td>\n",
              "      <td>http://docs.python-requests.org/en/master/user...</td>\n",
              "      <td>Quickstart\u00b6</td>\n",
              "      <td>Eager to get started? This page gives a good i...</td>\n",
              "      <td>python,requests</td>\n",
              "      <td>(2, 1594)</td>\n",
              "    </tr>\n",
              "    <tr>\n",
              "      <th>12</th>\n",
              "      <td>295141437</td>\n",
              "      <td>http://stackoverflow.com/questions/9663918/how...</td>\n",
              "      <td>How can I tag and chunk French text using NLTK...</td>\n",
              "      <td>If I were to do (1), I imagine I would need to...</td>\n",
              "      <td>nlp</td>\n",
              "      <td>(5, 1102)</td>\n",
              "    </tr>\n",
              "    <tr>\n",
              "      <th>13</th>\n",
              "      <td>1011618630</td>\n",
              "      <td>https://jakevdp.github.io/blog/2015/08/14/out-...</td>\n",
              "      <td>Out-of-Core Dataframes in Python: Dask and Ope...</td>\n",
              "      <td>In recent months, a host of new tools and pack...</td>\n",
              "      <td>data science</td>\n",
              "      <td>(7, 1758)</td>\n",
              "    </tr>\n",
              "    <tr>\n",
              "      <th>14</th>\n",
              "      <td>833287792</td>\n",
              "      <td>https://pypi.python.org/pypi/munkres/</td>\n",
              "      <td>munkres 1.0.9</td>\n",
              "      <td>The Munkres module provides an implementation ...</td>\n",
              "      <td>data science</td>\n",
              "      <td>(0, 42)</td>\n",
              "    </tr>\n",
              "    <tr>\n",
              "      <th>15</th>\n",
              "      <td>687517654</td>\n",
              "      <td>https://realpython.com/blog/python/setting-up-...</td>\n",
              "      <td>Setting Up Sublime Text 3 for Full Stack Pytho...</td>\n",
              "      <td>Sublime Text 3 (ST3) is lightweight, cross-pla...</td>\n",
              "      <td>sublime</td>\n",
              "      <td>(18, 2210)</td>\n",
              "    </tr>\n",
              "    <tr>\n",
              "      <th>16</th>\n",
              "      <td>829788447</td>\n",
              "      <td>http://okomestudio.net/biboroku/?p=2375</td>\n",
              "      <td>Interpreting A/B Test using Python</td>\n",
              "      <td>Suppose we ran an A/B test with two different ...</td>\n",
              "      <td>abtest</td>\n",
              "      <td>(2, 813)</td>\n",
              "    </tr>\n",
              "    <tr>\n",
              "      <th>17</th>\n",
              "      <td>1014684096</td>\n",
              "      <td>https://blog.dominodatalab.com/ab-testing-with...</td>\n",
              "      <td>A/B Testing with Hierarchical Models in Python</td>\n",
              "      <td>In this post, I discuss a method for A/B testi...</td>\n",
              "      <td>abtest</td>\n",
              "      <td>(4, 3938)</td>\n",
              "    </tr>\n",
              "    <tr>\n",
              "      <th>18</th>\n",
              "      <td>241420549</td>\n",
              "      <td>http://www.nltk.org/book/ch04.html</td>\n",
              "      <td></td>\n",
              "      <td>By now you will have a sense of the capabiliti...</td>\n",
              "      <td>nlp</td>\n",
              "      <td>(87, 12724)</td>\n",
              "    </tr>\n",
              "    <tr>\n",
              "      <th>19</th>\n",
              "      <td>952475069</td>\n",
              "      <td>https://people.duke.edu/~ccc14/sta-663/Optimiz...</td>\n",
              "      <td>Optimization bake-off\u00b6</td>\n",
              "      <td>Python is a high-level interpreted language, w...</td>\n",
              "      <td>nlp</td>\n",
              "      <td>(11, 523)</td>\n",
              "    </tr>\n",
              "    <tr>\n",
              "      <th>20</th>\n",
              "      <td>163291612</td>\n",
              "      <td>https://blog.miguelgrinberg.com/post/the-flask...</td>\n",
              "      <td>The Flask Mega-Tutorial, Part I: Hello, World!</td>\n",
              "      <td>This is the first article in a series where I ...</td>\n",
              "      <td>web dev</td>\n",
              "      <td>(38, 4358)</td>\n",
              "    </tr>\n",
              "    <tr>\n",
              "      <th>21</th>\n",
              "      <td>415947413</td>\n",
              "      <td>http://xavierdupre.fr/</td>\n",
              "      <td>Xavier Dupr\u00e9, ENSAE, Microsoft Bing</td>\n",
              "      <td>Blog  Enseignements ENSAE / Teachings More mat...</td>\n",
              "      <td>NaN</td>\n",
              "      <td>(0, 33)</td>\n",
              "    </tr>\n",
              "  </tbody>\n",
              "</table>\n",
              "</div>"
            ],
            "text/plain": [
              "       item_id                                                url  \\\n",
              "0    680797791                     https://pythonprogramming.net/   \n",
              "1   1072497525  http://www.mikesboyle.com/post/117202964694/py...   \n",
              "2    378831480  https://jakevdp.github.io/blog/2013/06/15/numb...   \n",
              "3   1240472260       https://blog.rstudio.org/2016/03/29/feather/   \n",
              "4   1056127688  http://nbviewer.jupyter.org/github/ptwobrussel...   \n",
              "5    957402029  https://marcobonzanini.com/2015/06/16/mining-t...   \n",
              "6    241420475                 http://www.nltk.org/book/ch03.html   \n",
              "7   1057169119    http://blog.fouadhamdi.com/introduction-a-nltk/   \n",
              "8   1064802343  https://qbox.io/blog/building-an-elasticsearch...   \n",
              "9   1395948696  https://tryolabs.com/blog/2015/02/17/python-el...   \n",
              "10  1883956314  http://www.xavierdupre.fr/app/teachpyx/helpsph...   \n",
              "11   427014788  http://docs.python-requests.org/en/master/user...   \n",
              "12   295141437  http://stackoverflow.com/questions/9663918/how...   \n",
              "13  1011618630  https://jakevdp.github.io/blog/2015/08/14/out-...   \n",
              "14   833287792              https://pypi.python.org/pypi/munkres/   \n",
              "15   687517654  https://realpython.com/blog/python/setting-up-...   \n",
              "16   829788447            http://okomestudio.net/biboroku/?p=2375   \n",
              "17  1014684096  https://blog.dominodatalab.com/ab-testing-with...   \n",
              "18   241420549                 http://www.nltk.org/book/ch04.html   \n",
              "19   952475069  https://people.duke.edu/~ccc14/sta-663/Optimiz...   \n",
              "20   163291612  https://blog.miguelgrinberg.com/post/the-flask...   \n",
              "21   415947413                             http://xavierdupre.fr/   \n",
              "\n",
              "                                                title  \\\n",
              "0                        Python Programming Tutorials   \n",
              "1   Python NLTK WTF, Chapter 1: Notes on things th...   \n",
              "2                            Numba vs. Cython: Take 2   \n",
              "3   Feather: A Fast On-Disk Format for Data Frames...   \n",
              "4                             Jupyter Notebook Viewer   \n",
              "5   Mining Twitter Data with Python (and JS) \u2013 Par...   \n",
              "6                               3 Processing Raw Text   \n",
              "7   Introduction \u00e0 l'analyse de texte avec nltk - ...   \n",
              "8   Build an Elasticsearch Index with Python\u2014Machi...   \n",
              "9                Python + Elasticsearch. First steps.   \n",
              "10              Types et variables du langage python\u00b6   \n",
              "11                                        Quickstart\u00b6   \n",
              "12  How can I tag and chunk French text using NLTK...   \n",
              "13  Out-of-Core Dataframes in Python: Dask and Ope...   \n",
              "14                                      munkres 1.0.9   \n",
              "15  Setting Up Sublime Text 3 for Full Stack Pytho...   \n",
              "16                 Interpreting A/B Test using Python   \n",
              "17     A/B Testing with Hierarchical Models in Python   \n",
              "18                                                      \n",
              "19                             Optimization bake-off\u00b6   \n",
              "20     The Flask Mega-Tutorial, Part I: Hello, World!   \n",
              "21                Xavier Dupr\u00e9, ENSAE, Microsoft Bing   \n",
              "\n",
              "                                              excerpt  \\\n",
              "0   Learn how to use Python with Pandas, Matplotli...   \n",
              "1   If you\u2019re reading this post, you\u2019re probably a...   \n",
              "2   Last summer I wrote a post comparing the perfo...   \n",
              "3   This past January, we (Hadley and Wes) met and...   \n",
              "4   Delivered by Fastly, Rendered by Rackspace nbv...   \n",
              "5   Geolocation is the process of identifying the ...   \n",
              "6   The most important source of texts is undoubte...   \n",
              "7   nltk est une librairie python tr\u00e8s utile pour ...   \n",
              "8   In this first article, we're going to set up s...   \n",
              "9   Lately, here at Tryolabs, we started gaining i...   \n",
              "10  Il est impossible d\u2019\u00e9crire un programme sans u...   \n",
              "11  Eager to get started? This page gives a good i...   \n",
              "12  If I were to do (1), I imagine I would need to...   \n",
              "13  In recent months, a host of new tools and pack...   \n",
              "14  The Munkres module provides an implementation ...   \n",
              "15  Sublime Text 3 (ST3) is lightweight, cross-pla...   \n",
              "16  Suppose we ran an A/B test with two different ...   \n",
              "17  In this post, I discuss a method for A/B testi...   \n",
              "18  By now you will have a sense of the capabiliti...   \n",
              "19  Python is a high-level interpreted language, w...   \n",
              "20  This is the first article in a series where I ...   \n",
              "21  Blog  Enseignements ENSAE / Teachings More mat...   \n",
              "\n",
              "                                            tags      python_occ  \n",
              "0                                         python         (6, 93)  \n",
              "1                                     nlp,python      (21, 1475)  \n",
              "2                                         python      (21, 1183)  \n",
              "3                                         python       (13, 771)  \n",
              "4                                         python        (0, 195)  \n",
              "5                             python,tagerstreet      (10, 2435)  \n",
              "6                           nltk,python,tokenize     (58, 11800)  \n",
              "7      french,nlp,nltk,python,tokenize,tokenizer  scraper banned  \n",
              "8                          elastic-search,python      (11, 1901)  \n",
              "9   elastic-search,elasticsearch,python,tutorial      (11, 1509)  \n",
              "10                                        python      (29, 5164)  \n",
              "11                               python,requests       (2, 1594)  \n",
              "12                                           nlp       (5, 1102)  \n",
              "13                                  data science       (7, 1758)  \n",
              "14                                  data science         (0, 42)  \n",
              "15                                       sublime      (18, 2210)  \n",
              "16                                        abtest        (2, 813)  \n",
              "17                                        abtest       (4, 3938)  \n",
              "18                                           nlp     (87, 12724)  \n",
              "19                                           nlp       (11, 523)  \n",
              "20                                       web dev      (38, 4358)  \n",
              "21                                           NaN         (0, 33)  "
            ]
          },
          "execution_count": null,
          "metadata": {},
          "output_type": "execute_result"
        }
      ],
      "source": [
        "df"
      ]
    },
    {
      "cell_type": "code",
      "execution_count": null,
      "metadata": {
        "collapsed": true
      },
      "outputs": [],
      "source": []
    },
    {
      "cell_type": "code",
      "execution_count": null,
      "metadata": {
        "collapsed": true
      },
      "outputs": [],
      "source": []
    }
  ],
  "metadata": {
    "anaconda-cloud": {},
    "kernelspec": {
      "display_name": "Python 3",
      "language": "python",
      "name": "python3"
    },
    "language_info": {
      "codemirror_mode": {
        "name": "ipython",
        "version": 3
      },
      "file_extension": ".py",
      "mimetype": "text/x-python",
      "name": "python",
      "nbconvert_exporter": "python",
      "pygments_lexer": "ipython3",
      "version": "3.6.1"
    }
  },
  "nbformat": 4,
  "nbformat_minor": 1
}