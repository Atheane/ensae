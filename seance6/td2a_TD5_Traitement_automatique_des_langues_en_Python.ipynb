{
 "cells": [
  {
   "cell_type": "markdown",
   "metadata": {},
   "source": [
    "# 2A.eco - Traitement automatique de la langue en Python\n",
    "\n",
    "Aperçu de ce qu'est le traitement automatique du langage naturel ([NLP](https://fr.wikipedia.org/wiki/Traitement_automatique_du_langage_naturel)) et quelques exercices."
   ]
  },
  {
   "cell_type": "code",
   "execution_count": null,
   "metadata": {
    "ExecuteTime": {
     "end_time": "2016-11-07T17:27:35.827423",
     "start_time": "2016-11-07T17:27:35.762915"
    }
   },
   "outputs": [
    {
     "data": {
      "text/html": [
       "<div id=\"my_id_menu_nb\">run previous cell, wait for 2 seconds</div>\n",
       "<script>\n",
       "function repeat_indent_string(n){\n",
       "    var a = \"\" ;\n",
       "    for ( ; n > 0 ; --n)\n",
       "        a += \"    \";\n",
       "    return a;\n",
       "}\n",
       "var update_menu_string = function(begin, lfirst, llast, sformat, send, keep_item, begin_format, end_format) {\n",
       "    var anchors = document.getElementsByClassName(\"section\");\n",
       "    if (anchors.length == 0) {\n",
       "        anchors = document.getElementsByClassName(\"text_cell_render rendered_html\");\n",
       "    }\n",
       "    var i,t;\n",
       "    var text_menu = begin;\n",
       "    var text_memo = \"<pre>\\nlength:\" + anchors.length + \"\\n\";\n",
       "    var ind = \"\";\n",
       "    var memo_level = 1;\n",
       "    var href;\n",
       "    var tags = [];\n",
       "    var main_item = 0;\n",
       "    var format_open = 0;\n",
       "    for (i = 0; i <= llast; i++)\n",
       "        tags.push(\"h\" + i);\n",
       "\n",
       "    for (i = 0; i < anchors.length; i++) {\n",
       "        text_memo += \"**\" + anchors[i].id + \"--\\n\";\n",
       "\n",
       "        var child = null;\n",
       "        for(t = 0; t < tags.length; t++) {\n",
       "            var r = anchors[i].getElementsByTagName(tags[t]);\n",
       "            if (r.length > 0) {\n",
       "child = r[0];\n",
       "break;\n",
       "            }\n",
       "        }\n",
       "        if (child == null) {\n",
       "            text_memo += \"null\\n\";\n",
       "            continue;\n",
       "        }\n",
       "        if (anchors[i].hasAttribute(\"id\")) {\n",
       "            // when converted in RST\n",
       "            href = anchors[i].id;\n",
       "            text_memo += \"#1-\" + href;\n",
       "            // passer à child suivant (le chercher)\n",
       "        }\n",
       "        else if (child.hasAttribute(\"id\")) {\n",
       "            // in a notebook\n",
       "            href = child.id;\n",
       "            text_memo += \"#2-\" + href;\n",
       "        }\n",
       "        else {\n",
       "            text_memo += \"#3-\" + \"*\" + \"\\n\";\n",
       "            continue;\n",
       "        }\n",
       "        var title = child.textContent;\n",
       "        var level = parseInt(child.tagName.substring(1,2));\n",
       "\n",
       "        text_memo += \"--\" + level + \"?\" + lfirst + \"--\" + title + \"\\n\";\n",
       "\n",
       "        if ((level < lfirst) || (level > llast)) {\n",
       "            continue ;\n",
       "        }\n",
       "        if (title.endsWith('¶')) {\n",
       "            title = title.substring(0,title.length-1).replace(\"<\", \"&lt;\")\n",
       "         .replace(\">\", \"&gt;\").replace(\"&\", \"&amp;\");\n",
       "        }\n",
       "        if (title.length == 0) {\n",
       "            continue;\n",
       "        }\n",
       "\n",
       "        while (level < memo_level) {\n",
       "            text_menu += end_format + \"</ul>\\n\";\n",
       "            format_open -= 1;\n",
       "            memo_level -= 1;\n",
       "        }\n",
       "        if (level == lfirst) {\n",
       "            main_item += 1;\n",
       "        }\n",
       "        if (keep_item != -1 && main_item != keep_item + 1) {\n",
       "            // alert(main_item + \" - \" + level + \" - \" + keep_item);\n",
       "            continue;\n",
       "        }\n",
       "        while (level > memo_level) {\n",
       "            text_menu += \"<ul>\\n\";\n",
       "            memo_level += 1;\n",
       "        }\n",
       "        text_menu += repeat_indent_string(level-2);\n",
       "        text_menu += begin_format + sformat.replace(\"__HREF__\", href).replace(\"__TITLE__\", title);\n",
       "        format_open += 1;\n",
       "    }\n",
       "    while (1 < memo_level) {\n",
       "        text_menu += end_format + \"</ul>\\n\";\n",
       "        memo_level -= 1;\n",
       "        format_open -= 1;\n",
       "    }\n",
       "    text_menu += send;\n",
       "    //text_menu += \"\\n\" + text_memo;\n",
       "\n",
       "    while (format_open > 0) {\n",
       "        text_menu += end_format;\n",
       "        format_open -= 1;\n",
       "    }\n",
       "    return text_menu;\n",
       "};\n",
       "var update_menu = function() {\n",
       "    var sbegin = \"\";\n",
       "    var sformat = '<a href=\"#__HREF__\">__TITLE__</a>';\n",
       "    var send = \"\";\n",
       "    var begin_format = '<li>';\n",
       "    var end_format = '</li>';\n",
       "    var keep_item = -1;\n",
       "    var text_menu = update_menu_string(sbegin, 2, 4, sformat, send, keep_item,\n",
       "       begin_format, end_format);\n",
       "    var menu = document.getElementById(\"my_id_menu_nb\");\n",
       "    menu.innerHTML=text_menu;\n",
       "};\n",
       "window.setTimeout(update_menu,2000);\n",
       "            </script>"
      ],
      "text/plain": [
       "<IPython.core.display.HTML object>"
      ]
     },
     "execution_count": null,
     "metadata": {},
     "output_type": "execute_result"
    }
   ],
   "source": [
    "from jyquickhelper import add_notebook_menu\n",
    "add_notebook_menu()"
   ]
  },
  {
   "cell_type": "markdown",
   "metadata": {},
   "source": [
    "Le traitement automatique des langues (ou Natural Language Processing) propose un ensemble de méthodes permettant (entre autres) : \n",
    "- d'extraire automatiquement les informations voulues de données textuelles brutes (comme par exemple les noms propres)\n",
    "- indexer des documents et permettre une recherche par mot-clés (cf. Moteurs de recherche)\n",
    "- résumer automatiquement des documents,\n",
    "- comparer la similarité entre plusieurs documents,\n",
    "- traduction automatique,\n",
    "- génération de textes automatiques,\n",
    "- analyse de sentiments,\n",
    "- agents conversationnels (cf. [ELIZA](https://fr.wikipedia.org/wiki/ELIZA) en 1966). Si vous voulez savoir ce qu'il se passe quand deux agents conversationnels discutent ensemble c'est [ici](https://www.youtube.com/watch?v=WnzlbyTZsQY&feature=youtu.be).  \n",
    "\n",
    "Le traitement automatique des langues a fait ses premiers pas dans le contexte de la guerre froide, où la traduction automatique était devenu un enjeu geopolitique. En 1950, dans son article « Computing machinery and intelligence », Alan Turing défini ce qui est appellé plus tartd, le [test de Turing](https://en.wikipedia.org/wiki/Turing_test). On dit qu'un programme passe le test de Turing s'il parvient à personnifier un être humain dans une conversation écrite en temps réel, de façon suffisamment convaincante pour que l'interlocuteur ne puisse pas distinguer avec certitude — sur la base du seul contenu de la conversation — s'il interagit avec un programme ou avec un être humain. \n",
    "\n",
    "Les progrès en traitement automatique des langues ont été beaucoup plus lents qu'initialement prévus. Cependant certains considèrent que pour la première fois en 2014, grâce aux progrès en machine learning [une machine a passé le test](http://www.theverge.com/2012/6/27/3120135/eugene-goostman-ukrainian-boy-ai-turing-test) en se faisant passer pour un enfant de 13 ans. "
   ]
  },
  {
   "cell_type": "markdown",
   "metadata": {},
   "source": [
    "L'objet de ce TD  est de présenter l'essentiel du traitement automatique des langues, selon trois approches : \n",
    "\n",
    "- L'approche *bag of words* : on ne tient pas compte de l'ordre des mots, ni du contexte dans lequel ils interviennent (ou alors de manière très partielle, en étudiant par exemple le mot suivant). L'idée est d'étudier la fréquence des mots d'un document et la surreprésentation des mots par rapport à un document de référence (appelé _corpus_). Cette approche est un peu simpliste mais très efficace : on peut calculer des scores permettant par exemple de faire de classification automatique de document par thème, de comparer la similarité de deux documents. Elle est souvent utilisée en première analyse, et elle reste la référence pour l'analyse de textes mal structurés (tweets, conversations de chat, etc.) Mot-clés : td-idf, indice de similarité cosine\n",
    "\n",
    "- L'approche *contextuelle* : on s'intéresse non seulement aux mots et à leur fréquence, mais aussi aux mots qui suivent. Cette approche est essentielle pour désambiguiser les homonymes. Elle permet aussi d'affiner les modèles \"bag-of-words\". Le calcul de n-grams (bigrams pour les co-occurences de mots deux-à-deux, tri-grams pour les co-occurences trois-à-trois, etc.) constitue la méthode la plus simple pour tenir compte du contexte.\n",
    "\n",
    "- L'approche *structurelle* : on s'intéresse à la structure des phrases, des mots (stemming, lemmatisation), aux règles syntaxiques, au sens des phrases. L'idée est d'introduire de la structure dans l'analyse du langage, à partir de règles connues et modélisées (par des expressions régulières, ou formalisation des règles syntaxiques), enrichies manuellement par des contributeurs, ou apprises par des méthodes de machine learning. Mots-clés : tokenisation des phrases et des mots, Part-Of-Speech tagging, extraction d'entité etc. Cette approche est beaucoup plus coûteuse et longue à mettre en place, mais c'est la seule capable de répondre à des besoins de traitement automatique des langues plus ambitieux tels que la traduction automatique, les agents conversationnels, et permet d'augmenter la performance des modèles de classifications de documents, de prédiction du sentiment, etc."
   ]
  },
  {
   "cell_type": "markdown",
   "metadata": {},
   "source": [
    "# Approche \"bag of words\""
   ]
  },
  {
   "cell_type": "markdown",
   "metadata": {},
   "source": [
    "## Récupération de données textuelles grâce à l'API Google +"
   ]
  },
  {
   "cell_type": "markdown",
   "metadata": {},
   "source": [
    "### Installation "
   ]
  },
  {
   "cell_type": "code",
   "execution_count": null,
   "metadata": {
    "ExecuteTime": {
     "end_time": "2016-11-07T17:37:07.995162",
     "start_time": "2016-11-07T17:37:01.928935"
    },
    "collapsed": true
   },
   "outputs": [],
   "source": [
    "import httplib2 # pip install httplib2\n",
    "import json # déjà installée, sinon : pip install json\n",
    "import apiclient.discovery  # pip install google-api-python-client\n",
    "import bs4  # déjà ja installée, sinon : pip install bs4\n",
    "import nltk  # pip install nltk --> sous Windows, il faut aller à http://www.lfd.uci.edu/~gohlke/pythonlibs/"
   ]
  },
  {
   "cell_type": "markdown",
   "metadata": {},
   "source": [
    "### Récupération de la clé d'API Google + "
   ]
  },
  {
   "cell_type": "markdown",
   "metadata": {},
   "source": [
    "Pour obtenir une clé d'API google plus, il faut :\n",
    " - avoir un compte gmail (si vous n'en avez pas, c'est rapide à créer)\n",
    " - aller sur l'[interface developeurs de Google](https://code.google.com/apis/console)\n",
    " - se connecter à son compte gmail (en haut à droite)\n",
    " - à droite, sélectionner \"bibliothèque\", sélectionner \"Google +\" \n",
    " - sélectionner \"ACTIVER\" (en bleu en haut)\n",
    " - à droite \"Accéder à identifiants\"\n",
    " - choisissez \"clé API\"\n",
    " - puis \"aucun\" et cliquer sur le bouton \"Créer\"\n",
    " - recopier votre clé ci-dessous"
   ]
  },
  {
   "cell_type": "code",
   "execution_count": null,
   "metadata": {
    "ExecuteTime": {
     "end_time": "2016-11-07T17:58:01.718410",
     "start_time": "2016-11-07T17:58:01.540295"
    },
    "collapsed": true
   },
   "outputs": [],
   "source": [
    "#remplacer par VOTRE clé\n",
    "import os\n",
    "import keyring\n",
    "API_KEY = keyring.get_password(\"gapi\", os.environ[\"COMPUTERNAME\"] + \"key\")"
   ]
  },
  {
   "cell_type": "markdown",
   "metadata": {},
   "source": [
    "### Connexion à l'API, et requête d'une personne ayant un compte Google + (avec activités publiques)"
   ]
  },
  {
   "cell_type": "code",
   "execution_count": null,
   "metadata": {
    "ExecuteTime": {
     "end_time": "2016-11-07T17:58:03.824516",
     "start_time": "2016-11-07T17:58:03.560801"
    }
   },
   "outputs": [
    {
     "name": "stdout",
     "output_type": "stream",
     "text": [
      "[\n",
      " {\n",
      "  \"kind\": \"plus#person\",\n",
      "  \"etag\": \"\\\"Sh4n9u6EtD24TM0RmWv7jTXojqc/tjedXFyeIkzudZzRey5EJb8iZIk\\\"\",\n",
      "  \"objectType\": \"person\",\n",
      "  \"id\": \"107033731246200681024\",\n",
      "  \"displayName\": \"Tim O'Reilly\",\n",
      "  \"url\": \"https://plus.google.com/107033731246200681024\",\n",
      "  \"image\": {\n",
      "   \"url\": \"https://lh4.googleusercontent.com/-J8nmMwIhpiA/AAAAAAAAAAI/AAAAAAADdg4/68r2hyFUgzI/photo.jpg?sz=50\"\n",
      "  }\n",
      " },\n",
      " {\n",
      "  \"kind\": \"plus#person\",\n",
      "  \"etag\": \"\\\"Sh4n9u6EtD24TM0RmWv7jTXojqc/ofg-30rIv-rKw7XTBBnDA1i3I_Y\\\"\",\n",
      "  \"objectType\": \"person\",\n",
      "  \"id\": \"110160587587635791009\",\n",
      "  \"displayName\": \"TIM O'REILLY\",\n",
      "  \"url\": \"https://plus.google.com/110160587587635791009\",\n",
      "  \"image\": {\n",
      "   \"url\": \"https://lh4.googleusercontent.com/-gWq9vr_JEnc/AAAAAAAAAAI/AAAAAAAAADI/zwCXKP4QeiU/photo.jpg?sz=50\"\n",
      "  }\n",
      " },\n",
      " {\n",
      "  \"kind\": \"plus#person\",\n",
      "  \"etag\": \"\\\"Sh4n9u6EtD24TM0RmWv7jTXojqc/DVTuV3GDJ0h4UlM5bybS_d26Fdo\\\"\",\n",
      "  \"objectType\": \"person\",\n",
      "  \"id\": \"106492472890341598734\",\n",
      "  \"displayName\": \"Tim O'Reilly\",\n",
      "  \"url\": \"https://plus.google.com/10649...\n"
     ]
    }
   ],
   "source": [
    "# Entrer le nom d'une personne ayant un compte google plus public\n",
    "Q = \"Tim O'Reilly\"\n",
    "\n",
    "# Se connecter à l'API (méthode Oauth2)\n",
    "service = apiclient.discovery.build('plus', 'v1', http=httplib2.Http(), \n",
    "                                    developerKey=API_KEY)\n",
    "\n",
    "# Récupérer les feeds\n",
    "people_feed = service.people().search(query=Q).execute()\n",
    "\n",
    "# Imprimer le json récupéré\n",
    "res = json.dumps(people_feed['items'], indent=1)\n",
    "print(res if len(res) < 1000 else res[:1000] + \"...\")"
   ]
  },
  {
   "cell_type": "code",
   "execution_count": null,
   "metadata": {
    "ExecuteTime": {
     "end_time": "2016-11-07T17:58:05.561883",
     "start_time": "2016-11-07T17:58:05.549715"
    }
   },
   "outputs": [
    {
     "data": {
      "text/html": [
       "<p><img src=\"https://lh4.googleusercontent.com/-J8nmMwIhpiA/AAAAAAAAAAI/AAAAAAADdg4/68r2hyFUgzI/photo.jpg?sz=50\" /> 107033731246200681024: Tim O'Reilly</p><p><img src=\"https://lh4.googleusercontent.com/-gWq9vr_JEnc/AAAAAAAAAAI/AAAAAAAAADI/zwCXKP4QeiU/photo.jpg?sz=50\" /> 110160587587635791009: TIM O'REILLY</p><p><img src=\"https://lh3.googleusercontent.com/-S5DUz4QdL4k/AAAAAAAAAAI/AAAAAAAAAcc/iS9VLgbCTJw/photo.jpg?sz=50\" /> 106492472890341598734: Tim O'Reilly</p><p><img src=\"https://lh6.googleusercontent.com/-_VkHCqX9n5k/AAAAAAAAAAI/AAAAAAAAABE/EHbj9yl--M8/photo.jpg?sz=50\" /> 111152572505390475891: Tim O'Reilly</p><p><img src=\"https://lh4.googleusercontent.com/-K_U9Tbas8kE/AAAAAAAAAAI/AAAAAAAACYs/QThoMgwUxak/photo.jpg?sz=50\" /> 108869213167055456475: Tim O'Reilly</p>"
      ],
      "text/plain": [
       "<IPython.core.display.HTML object>"
      ]
     },
     "execution_count": null,
     "metadata": {},
     "output_type": "execute_result"
    }
   ],
   "source": [
    "# Parce que l'on travaille sur un Notebook il est possible d'afficher facilement les images correspondantes\n",
    "# l'identifiant unique d'avatar google plus et le nom\n",
    "\n",
    "from IPython.core.display import HTML\n",
    "\n",
    "html = []\n",
    "\n",
    "for p in people_feed['items']:\n",
    "    html += ['<p><img src=\"{}\" /> {}: {}</p>'.format(p['image']['url'], p['id'], p['displayName'])]\n",
    "\n",
    "HTML(''.join(html[:5]))"
   ]
  },
  {
   "cell_type": "markdown",
   "metadata": {},
   "source": [
    "### Requete sur l'activité de la personne sélectionnée"
   ]
  },
  {
   "cell_type": "code",
   "execution_count": null,
   "metadata": {
    "ExecuteTime": {
     "end_time": "2016-11-07T17:37:52.613148",
     "start_time": "2016-11-07T17:37:51.242289"
    }
   },
   "outputs": [
    {
     "name": "stdout",
     "output_type": "stream",
     "text": [
      "{\n",
      " \"kind\": \"plus#activityFeed\",\n",
      " \"etag\": \"\\\"Sh4n9u6EtD24TM0RmWv7jTXojqc/UVhLnzZeFbRMD00k0VRD5tkC6es\\\"\",\n",
      " \"nextPageToken\": \"ADSJ_i32R0IpxThTClWgVQ71un8FkJDHG8Pl4hLCvWIbyb6T65r6coxSlWk1svDgsrzxTQ3JHFV1CGnbjFCSaY14sttcvnb1QgiHBgXRtn3A8GjJjin7\",\n",
      " \"title\": \"Google+ List of Activities for Collection PUBLIC\",\n",
      " \"updated\": \"2017-09-13T15:59:45.234Z\",\n",
      " \"items\": [\n",
      "  {\n",
      "   \"kind\": \"plus#activity\",\n",
      "   \"etag\": \"\\\"Sh4n9u6EtD24TM0RmWv7jTXojqc/Dlr_44FOo97cNjKbX7ZHrVWgen4\\\"\",\n",
      "   \"title\": \"It looks like #@CTRLLabsCo has made a real breakthrough. This is one of the advances that will take ...\",\n",
      "   \"published\": \"2017-09-13T15:59:31.577Z\",\n",
      "   \"updated\": \"2017-09-13T15:59:45.234Z\",\n",
      "   \"id\": \"z123e5zb4zbmcxf5004chl3pvxfbszirt5o\",\n",
      "   \"url\": \"https://plus.google.com/+TimOReilly/posts/TpYYyGh7pr1\",\n",
      "   \"actor\": {\n",
      "    \"id\": \"107033731246200681024\",\n",
      "    \"displayName\": \"Tim O'Reilly\",\n",
      "    \"url\": \"https://plus.google.com/107033731246200681024\",\n",
      "    \"image\": {\n",
      "     \"url\": \"https://lh4.googleusercontent.com/-J8nmMwIhpiA...\n"
     ]
    }
   ],
   "source": [
    "USER_ID = '107033731246200681024'\n",
    "\n",
    "activity_feed = service.activities().list(\n",
    "  userId=USER_ID,\n",
    "  collection='public',\n",
    "  maxResults='100' # Max allowed per API\n",
    ").execute()\n",
    "\n",
    "res = json.dumps(activity_feed, indent=1)\n",
    "print(res if len(res) < 1000 else res[:1000] + \"...\")"
   ]
  },
  {
   "cell_type": "markdown",
   "metadata": {},
   "source": [
    "### Nettoyage des données textuelles avec BS4 "
   ]
  },
  {
   "cell_type": "code",
   "execution_count": null,
   "metadata": {
    "ExecuteTime": {
     "end_time": "2016-11-07T17:37:59.638823",
     "start_time": "2016-11-07T17:37:59.627328"
    }
   },
   "outputs": [
    {
     "name": "stdout",
     "output_type": "stream",
     "text": [
      "It looks like #@CTRLLabsCo has made a real breakthrough. This is one of the advances that will take us beyond the smartphone. If you&#39;ve done any playing around with augmented reality, you realize that control and interaction is one of the key blocks to widespread adoption. Brain-computer interfaces are a key combinatorial innovation that will enable a completely different UI paradigm for interacting with devices and ambient computing. \n",
      "\n",
      "\n",
      "It looks like #@CTRLLabsCo has made a real breakthrough. This is one of the advances that will take us beyond the smartphone. If you've done any playing around with augmented reality, you realize that control and interaction is one of the key blocks to widespread adoption. Brain-computer interfaces are a key combinatorial innovation that will enable a completely different UI paradigm for interacting with devices and ambient computing. \n"
     ]
    }
   ],
   "source": [
    "from bs4 import BeautifulSoup\n",
    "\n",
    "def cleanHtml(html):\n",
    "    if html == \"\": return \"\"\n",
    "    return BeautifulSoup(html, 'html.parser').get_text()\n",
    "\n",
    "print(activity_feed['items'][0]['object']['content'])\n",
    "print(\"\\n\")\n",
    "print(cleanHtml(activity_feed['items'][0]['object']['content']))"
   ]
  },
  {
   "cell_type": "markdown",
   "metadata": {},
   "source": [
    "### Récupération des données et stockage"
   ]
  },
  {
   "cell_type": "markdown",
   "metadata": {},
   "source": [
    "Créer un dossier \"ressources_googleplus\" dans votre répertoire courant (%pwd pour le connaitre)"
   ]
  },
  {
   "cell_type": "code",
   "execution_count": null,
   "metadata": {
    "ExecuteTime": {
     "end_time": "2016-11-07T17:38:09.375859",
     "start_time": "2016-11-07T17:38:09.367859"
    }
   },
   "outputs": [
    {
     "data": {
      "text/plain": [
       "'C:\\\\xavierdupre\\\\__home_\\\\GitHub\\\\ensae_teaching_cs\\\\_doc\\\\notebooks\\\\td2a_eco'"
      ]
     },
     "execution_count": null,
     "metadata": {},
     "output_type": "execute_result"
    }
   ],
   "source": [
    "%pwd"
   ]
  },
  {
   "cell_type": "code",
   "execution_count": null,
   "metadata": {
    "ExecuteTime": {
     "end_time": "2016-11-07T17:39:11.984585",
     "start_time": "2016-11-07T17:39:07.838088"
    }
   },
   "outputs": [
    {
     "name": "stdout",
     "output_type": "stream",
     "text": [
      "273 activités écrites dans ./ressources_googleplus/107033731246200681024.json\n"
     ]
    }
   ],
   "source": [
    "import json\n",
    "import apiclient.discovery\n",
    "\n",
    "MAX_RESULTS = 200 # limite fixée à 100 résultats par requete => on va itérer sur une boucle pour en avoir 200\n",
    "\n",
    "activity_feed = service.activities().list(\n",
    "  userId=USER_ID,\n",
    "  collection='public',\n",
    "  maxResults='100' \n",
    ")\n",
    "\n",
    "activity_results = []\n",
    "\n",
    "while activity_feed != None and len(activity_results) < MAX_RESULTS:\n",
    "    activities = activity_feed.execute()\n",
    "    \n",
    "    if 'items' in activities:\n",
    "        for activity in activities['items']:\n",
    "            if activity['object']['objectType'] == 'note' and activity['object']['content'] != '':\n",
    "                activity['title'] = cleanHtml(activity['title'])\n",
    "                activity['object']['content'] = cleanHtml(activity['object']['content'])\n",
    "                activity_results += [activity]\n",
    "                \n",
    "    # list_next permet de passer à la requete suivante\n",
    "    activity_feed = service.activities().list_next(activity_feed, activities)\n",
    "\n",
    "# on écrit le résultat dans un fichier json\n",
    "import os\n",
    "if not os.path.exists(\"ressources_googleplus\"):\n",
    "    os.mkdir(\"ressources_googleplus\")\n",
    "f = open('./ressources_googleplus/' + USER_ID + '.json', 'w')\n",
    "f.write(json.dumps(activity_results, indent=1))\n",
    "f.close()\n",
    "\n",
    "print(str(len(activity_results)), \"activités écrites dans\", f.name)"
   ]
  },
  {
   "cell_type": "markdown",
   "metadata": {},
   "source": [
    "## Analyse des données textuelles - TD-IDF, similarité cosine et n-grams"
   ]
  },
  {
   "cell_type": "markdown",
   "metadata": {},
   "source": [
    "Le calcul [tf-idf](https://en.wikipedia.org/wiki/Tf%E2%80%93idf) (term frequency–inverse document frequency) permet de calculer un score de proximité entre un terme de recherche et un document (c'est ce que font les moteurs de recherche). La partie tf calcule une fonction croissante de la fréquence du terme de recherche dans le document à l'étude, la partie idf calcule une fonction inversement proportionnelle à la fréquence du terme dans l'ensemble des documents (ou corpus). Le score total, obtenu en multipliant les deux composantes, permet ainsi de donner un score d'autant plus élevé que le terme est surréprésenté dans un document (par rapport à l'ensemble des documents). Il existe plusieurs fonctions, qui pénalisent plus ou moins les documents longs, ou qui sont plus ou moins smooth."
   ]
  },
  {
   "cell_type": "markdown",
   "metadata": {},
   "source": [
    "### Exemple sur un petit corpus de 3 documents"
   ]
  },
  {
   "cell_type": "code",
   "execution_count": null,
   "metadata": {
    "ExecuteTime": {
     "end_time": "2016-11-07T17:39:18.720128",
     "start_time": "2016-11-07T17:39:18.714131"
    },
    "collapsed": true
   },
   "outputs": [],
   "source": [
    "corpus = { \n",
    " 'a' : \"Mr. Green killed Colonel Mustard in the study with the candlestick. \\\n",
    "Mr. Green is not a very nice fellow.\",\n",
    " 'b' : \"Professor Plum has a green plant in his study.\",\n",
    " 'c' : \"Miss Scarlett watered Professor Plum's green plant while he was away \\\n",
    "from his office last week.\"\n",
    "}\n",
    "terms = {\n",
    " 'a' : [ i.lower() for i in corpus['a'].split() ],\n",
    " 'b' : [ i.lower() for i in corpus['b'].split() ],\n",
    " 'c' : [ i.lower() for i in corpus['c'].split() ]\n",
    " }"
   ]
  },
  {
   "cell_type": "code",
   "execution_count": null,
   "metadata": {
    "ExecuteTime": {
     "end_time": "2016-11-07T17:39:21.928677",
     "start_time": "2016-11-07T17:39:21.911675"
    },
    "collapsed": true
   },
   "outputs": [],
   "source": [
    "from math import log\n",
    "\n",
    "QUERY_TERMS = ['mr.', 'green']\n",
    "\n",
    "def tf(term, doc, normalize=True):\n",
    "    doc = doc.lower().split()\n",
    "    if normalize:\n",
    "        return doc.count(term.lower()) / float(len(doc))\n",
    "    else:\n",
    "        return doc.count(term.lower()) / 1.0\n",
    "\n",
    "\n",
    "def idf(term, corpus):\n",
    "    num_texts_with_term = len([True for text in corpus if term.lower() \\\n",
    "                              in text.lower().split()])\n",
    "    try:\n",
    "        return 1.0 + log(float(len(corpus)) / num_texts_with_term)\n",
    "    except ZeroDivisionError:\n",
    "        return 1.0\n",
    "    \n",
    "def tf_idf(term, doc, corpus):\n",
    "    return tf(term, doc) * idf(term, corpus)"
   ]
  },
  {
   "cell_type": "code",
   "execution_count": null,
   "metadata": {
    "ExecuteTime": {
     "end_time": "2016-11-07T17:39:26.546524",
     "start_time": "2016-11-07T17:39:26.520509"
    }
   },
   "outputs": [
    {
     "name": "stdout",
     "output_type": "stream",
     "text": [
      "a : Mr. Green killed Colonel Mustard in the study with the candlestick. Mr. Green is not a very nice fellow.\n",
      "b : Professor Plum has a green plant in his study.\n",
      "c : Miss Scarlett watered Professor Plum's green plant while he was away from his office last week.\n",
      "\n",
      "\n",
      "TF(a): mr. 0.10526315789473684\n",
      "TF(b): mr. 0.0\n",
      "TF(c): mr. 0.0\n",
      "IDF: mr. 2.09861228866811\n",
      "\n",
      "\n",
      "TF-IDF(a): mr. 0.22090655670190631\n",
      "TF-IDF(b): mr. 0.0\n",
      "TF-IDF(c): mr. 0.0\n",
      "\n",
      "\n",
      "TF(a): green 0.10526315789473684\n",
      "TF(b): green 0.1111111111111111\n",
      "TF(c): green 0.0625\n",
      "IDF: green 1.0\n",
      "\n",
      "\n",
      "TF-IDF(a): green 0.10526315789473684\n",
      "TF-IDF(b): green 0.1111111111111111\n",
      "TF-IDF(c): green 0.0625\n",
      "\n",
      "\n",
      "Score TF-IDF total pour le terme 'mr. green'\n",
      "a 0.3261697145966431\n",
      "b 0.1111111111111111\n",
      "c 0.0625\n"
     ]
    }
   ],
   "source": [
    "for (k, v) in sorted(corpus.items()):\n",
    "    print(k, ':', v)\n",
    "print('\\n')\n",
    "\n",
    "query_scores = {'a': 0, 'b': 0, 'c': 0}\n",
    "for term in [t.lower() for t in QUERY_TERMS]:\n",
    "    for doc in sorted(corpus):\n",
    "        print('TF({}): {}'.format(doc, term), tf(term, corpus[doc]))\n",
    "    print('IDF: {}'.format(term, ), idf(term, corpus.values()))\n",
    "    print('\\n')\n",
    "    for doc in sorted(corpus):\n",
    "        score = tf_idf(term, corpus[doc], corpus.values())\n",
    "        print('TF-IDF({}): {}'.format(doc, term), score)\n",
    "        query_scores[doc] += score\n",
    "    print('\\n')\n",
    "\n",
    "print(\"Score TF-IDF total pour le terme '{}'\".format(' '.join(QUERY_TERMS), ))\n",
    "for (doc, score) in sorted(query_scores.items()):\n",
    "    print(doc, score)"
   ]
  },
  {
   "cell_type": "markdown",
   "metadata": {},
   "source": [
    "Le score td-idf pour le terme \"Mr. Green\" est le plus élevé pour le document a. "
   ]
  },
  {
   "cell_type": "markdown",
   "metadata": {},
   "source": [
    "### Exercice 1"
   ]
  },
  {
   "cell_type": "markdown",
   "metadata": {},
   "source": [
    "Quel document est le plus proche du terme \"green plant ? Calculer les scores TF-IDF pour le terme \"green plan\". Cela correspond-il à vos attentes ? Que se passe-t-il si vous inversez les termes \"green\" et \"plant\" ? Que se passe-t-il avec \"green\" seul ? "
   ]
  },
  {
   "cell_type": "markdown",
   "metadata": {},
   "source": [
    "### Introduction à NLTK"
   ]
  },
  {
   "cell_type": "code",
   "execution_count": null,
   "metadata": {
    "ExecuteTime": {
     "end_time": "2016-11-07T17:39:37.808182",
     "start_time": "2016-11-07T17:39:36.557533"
    }
   },
   "outputs": [
    {
     "name": "stdout",
     "output_type": "stream",
     "text": [
      "[nltk_data] Downloading package stopwords to\n",
      "[nltk_data]     C:\\Users\\xavie\\AppData\\Roaming\\nltk_data...\n",
      "[nltk_data]   Package stopwords is already up-to-date!\n"
     ]
    },
    {
     "data": {
      "text/plain": [
       "True"
      ]
     },
     "execution_count": null,
     "metadata": {},
     "output_type": "execute_result"
    }
   ],
   "source": [
    "import nltk\n",
    "\n",
    "# nltk donne accès a des methodes, mais aussi à des données, qui faut télécharge grâce à la commande .download()\n",
    "nltk.download('stopwords')"
   ]
  },
  {
   "cell_type": "code",
   "execution_count": null,
   "metadata": {
    "ExecuteTime": {
     "end_time": "2016-11-07T17:39:45.618720",
     "start_time": "2016-11-07T17:39:45.614724"
    },
    "collapsed": true
   },
   "outputs": [],
   "source": [
    "from pprint import pprint"
   ]
  },
  {
   "cell_type": "code",
   "execution_count": null,
   "metadata": {
    "ExecuteTime": {
     "end_time": "2016-11-07T17:39:46.177081",
     "start_time": "2016-11-07T17:39:46.171077"
    }
   },
   "outputs": [
    {
     "data": {
      "text/plain": [
       "273"
      ]
     },
     "execution_count": null,
     "metadata": {},
     "output_type": "execute_result"
    }
   ],
   "source": [
    "len(activity_results)"
   ]
  },
  {
   "cell_type": "code",
   "execution_count": null,
   "metadata": {},
   "outputs": [
    {
     "name": "stdout",
     "output_type": "stream",
     "text": [
      "{'access': {'description': 'Public',\n",
      "            'items': [{'type': 'public'}],\n",
      "            'kind': 'plus#acl'},\n",
      " 'actor': {'displayName': \"Tim O'Reilly\",\n",
      "           'id': '107033731246200681024',\n",
      "           'image': {'url': 'https://lh4.googleusercontent.com/-J8nmMwIhpiA/AAAAAAAAAAI/AAAAAAADdg4/68r2hyFUgzI/photo.jpg?sz=50'},\n",
      "           'url': 'https://plus.google.com/107033731246200681024',\n",
      "           'verification': {'adHocVerified': 'PASSED'}},\n",
      " 'etag': '\"Sh4n9u6EtD24TM0RmWv7jTXojqc/Dlr_44FOo97cNjKbX7ZHrVWgen4\"',\n",
      " 'id': 'z123e5zb4zbmcxf5004chl3pvxfbszirt5o',\n",
      " 'kind': 'plus#activity',\n",
      " 'object': {'actor': {'verification': {'adHocVerified': 'PASSED'}},\n",
      "            'attachments': [{'content': 'This startup lets you control '\n",
      "                                        'machines with your mind—no implants '\n",
      "                                        'required.',\n",
      "                             'displayName': \"The Brain-Machine Interface Isn't \"\n",
      "                                            'Sci-Fi Anymore | Backchannel',\n",
      "                             'fullImage': {'type': 'image/jpeg',\n",
      "                                           'url': 'https://media.wired.com/photos/59b81acc9365592813946567/191:100/pass/2lead.jpg'},\n",
      "                             'image': {'height': 910,\n",
      "                                       'type': 'image/jpeg',\n",
      "                                       'url': 'https://lh3.googleusercontent.com/proxy/L96mdlI6FizC1ijKXUpxf_u6JjcJdl79sEzYVwyWmdeeJfiBvHMVvWFMn8kvL4sq8kG82ST8lEqjhW9-j9KdQuTYh9lscVMkKb-IgK0j_s-PKZ84xceA2OPHTcQJ4g=w506-h910',\n",
      "                                       'width': 506},\n",
      "                             'objectType': 'article',\n",
      "                             'url': 'https://www.wired.com/story/brain-machine-interface-isnt-sci-fi-anymore/'}],\n",
      "            'content': 'It looks like #@CTRLLabsCo has made a real '\n",
      "                       'breakthrough. This is one of the advances that will '\n",
      "                       \"take us beyond the smartphone. If you've done any \"\n",
      "                       'playing around with augmented reality, you realize '\n",
      "                       'that control and interaction is one of the key blocks '\n",
      "                       'to widespread adoption. Brain-computer interfaces are '\n",
      "                       'a key combinatorial innovation that will enable a '\n",
      "                       'completely different UI paradigm for interacting with '\n",
      "                       'devices and ambient computing. ',\n",
      "            'objectType': 'note',\n",
      "            'plusoners': {'selfLink': 'https://www.googleapis.com/plus/v1/activities/z123e5zb4zbmcxf5004chl3pvxfbszirt5o/people/plusoners',\n",
      "                          'totalItems': 101},\n",
      "            'replies': {'selfLink': 'https://www.googleapis.com/plus/v1/activities/z123e5zb4zbmcxf5004chl3pvxfbszirt5o/comments',\n",
      "                        'totalItems': 14},\n",
      "            'resharers': {'selfLink': 'https://www.googleapis.com/plus/v1/activities/z123e5zb4zbmcxf5004chl3pvxfbszirt5o/people/resharers',\n",
      "                          'totalItems': 16},\n",
      "            'url': 'https://plus.google.com/+TimOReilly/posts/TpYYyGh7pr1'},\n",
      " 'provider': {'title': 'Google+'},\n",
      " 'published': '2017-09-13T15:59:31.577Z',\n",
      " 'title': 'It looks like #@CTRLLabsCo has made a real breakthrough. This is '\n",
      "          'one of the advances that will take ...',\n",
      " 'updated': '2017-09-13T15:59:45.234Z',\n",
      " 'url': 'https://plus.google.com/+TimOReilly/posts/TpYYyGh7pr1',\n",
      " 'verb': 'post'}\n"
     ]
    }
   ],
   "source": [
    "pprint(activity_results[0])"
   ]
  },
  {
   "cell_type": "code",
   "execution_count": null,
   "metadata": {
    "ExecuteTime": {
     "end_time": "2016-11-07T17:39:56.218387",
     "start_time": "2016-11-07T17:39:56.212885"
    }
   },
   "outputs": [
    {
     "name": "stdout",
     "output_type": "stream",
     "text": [
      "('It looks like #@CTRLLabsCo has made a real breakthrough. This is one of the '\n",
      " \"advances that will take us beyond the smartphone. If you've done any playing \"\n",
      " 'around with augmented reality, you realize that control and interaction is '\n",
      " 'one of the key blocks to widespread adoption. Brain-computer interfaces are '\n",
      " 'a key combinatorial innovation that will enable a completely different UI '\n",
      " 'paradigm for interacting with devices and ambient computing. ')\n"
     ]
    }
   ],
   "source": [
    "pprint(activity_results[0]['object']['content'])"
   ]
  },
  {
   "cell_type": "code",
   "execution_count": null,
   "metadata": {
    "ExecuteTime": {
     "end_time": "2016-11-07T17:41:08.764658",
     "start_time": "2016-11-07T17:41:08.442688"
    },
    "scrolled": false
   },
   "outputs": [
    {
     "name": "stdout",
     "output_type": "stream",
     "text": [
      "Nombre de caractères :  103138\n",
      "\n",
      "\n",
      "Exemples d'occurences du terme 'open' :\n",
      "Displaying 13 of 13 matches:\n",
      ", and how at least one team is using open source to let others see inside the \n",
      "ear that computational biologist and open science advocate (UC Berkeley profes\n",
      ": magazine slogan say, \"If you can't open it, you don't own it.\" Predictive po\n",
      " I'm proud to be a signatory to this open letter calling for this key policy i\n",
      "st, I've focused a lot on areas like open source software and the implications\n",
      "opic at greater length in my article Open Data and Algorithmic Regulation: htt\n",
      "cessful participatory projects, from open source software to wikis to social m\n",
      "ere isn't one (except that it's only open to US students - sorry. If anyone ha\n",
      "new contract that conformed with the open data mandate. If it were consistent \n",
      "If it were consistent with the Obama open data guidance, that RFP would requir\n",
      "ut of step with the administration’s open data policy.The founder of Hipcamp, \n",
      "is is a really important piece about open data and platforms. Work on sh-t tha\n",
      "r. An excellent demonstration of why Open Access lowers the barriers to knowle\n",
      "\n",
      "\n",
      "Co-occurences fréquentes :\n",
      "Silicon Valley; O'Reilly Media; New York; Common Core; +Jennifer\n",
      "Pahlka; Next:Economy Summit; Brett Goldstein; Cabo Pulmo; Humble\n",
      "Bundle; Bay Mini; East Bay; White House; on-demand economy,; Maker\n",
      "Faire; Mini Maker; granite workers; Real businesses; Well worth; worth\n",
      "reading.; Barre Historical\n",
      "\n",
      "\n",
      "Nombre de mots : 17104\n",
      "\n",
      "\n",
      "Nombre de mots uniques : 5560\n",
      "\n",
      "\n",
      "Nombre de mots uniques v2 : 5560\n",
      "Nombre d'occurences du terme 'open' : 11\n",
      "Nombre d'occurences du terme 'source' : 5\n",
      "Nombre d'occurences du terme 'web' : 1\n",
      "Nombre d'occurences du terme 'API' : 2\n",
      "\n",
      "\n",
      "Top 100 : ['the', 'to', 'of', 'and', 'a', 'in', 'is', 'for', 'that', 'I', 'on', 'with', 'about', 'it', 'are', 'this', 'you', 'at', 'from', 'as', 'have', 'be', 'my', 'how', 'an', 'by', 'we', 'what', 'but', 'was', 'This', 'not', 'The', 'they', 'their', 'has', 'his', 'than', 'so', 'more', 'new', 'can', 'do', 'like', 'or', 'who', 'out', 'one', 'good', 'our', 'make', '-', 'will', 'work', 'people', 'should', 'when', 'all', 'just', 'see', 'if', 'It', 'which', 'way', 'We', 'me', 'up', 'data', 'get', 'why', 'us', \"I'm\", 'them', 'piece', 'If', \"O'Reilly\", 'better', 'its', 'also', 'And', 'he', 'now', 'technology', 'government', 'many', 'some', 'been', 'your', 'great', 'love', \"It's\", 'think', 'no', 'into', 'business', 'had', 'other', 'only', 'much', 'So']\n",
      "\n",
      "\n",
      "Top 100 sans les mots fréquents : ['new', 'like', 'one', 'good', 'make', '-', 'work', 'people', 'see', 'way', 'data', 'get', 'us', \"I'm\", 'piece', \"O'Reilly\", 'better', 'also', 'technology', 'government', 'many', 'great', 'love', \"It's\", 'think', 'business', 'much']\n",
      "\n",
      "\n",
      "Longs mots sans les urls : ['impossible.Technology', 'financialization,', 'collusion...could', 'transformative.)', 'public-relations', 'self-assessment!', 'forward-thinking', '“attend-listen-embarrass”', 'algorithmically,', 'you!https://www.crowdpac.com/campaigns/100604', '#OReillySecurity', '#makesecurityeasy', 'doing.Individually,', 'producers....Like', 'October.http://www.inc.com/magazine/201606/sheila-marikar/lola-paul-english-uber.html', 'entrepreneurship', '(http://conferences.oreilly.com/nextcon/money-fintech-us)', 'life-threatening', \"Thursday.”That's\", 'post.)http://www.pressheretv.com/tim-oreilly/', 'humansofnewyork.com', '(https://medium.com/the-wtf-economy/the-wtf-economy-a3bd5f52ef00)', '(https://medium.com/the-wtf-economy/networks-and-the-nature-of-the-firm-28790b6afdcc).', '(http://conferences.oreilly.com/next-economy)', 'underrepresented', 'Republican-controlled', 'philanthropists,', 'Foundation.http://www.wsj.com/articles/sean-parker-philanthropy-for-hackers-1435345787', 'Michener)quoteinvestigator.com/2010/08/27/master/Thanks', '#FutureCrimesConvo,', 'www.futurecrimes.com', 'statistics:\"Typically,', 'Super-interesting.', 'Brothers....\"Their', 'innovation-resistant', 'software....\"Get', 'Ireland.Incidentally,', 'level-headedness.', 'administration’s', 'jasonmking@fs.fed.us', 'available:http://ebmakerfaire2014.eventbrite.com', 'Makers/Exhibitors/Performers,', 'Regulations?Evgeny', \"backwards.Here's\", 'opens:\"Regulation', 'results.\"Consider,', 'outcome\"Real-time', 'achieved\"Algorithms', 'quasi-governmental', 'everyone\"Adjustments', 'achieved\"Contrast', 'outcome?\"(http://beyondtransparency.org/chapters/part-5/open-data-and-algorithmic-regulation/).', 'condition.\"Lovely.And', 'opens:\"Something’s', 'codeforamerica.org.', 'interoperability', 'customizability.', '(drnkwines.com),', 'stream-processing', 'knowledge-sharing', 'Healthcare.govDraw', 'IndependenceThis', 'Palestinians:\"This', 'national-authority']\n",
      "\n",
      "\n",
      "Nombre d'urls : 28\n",
      "\n",
      "\n",
      "0 ('the', 844)\n",
      "1 ('to', 512)\n",
      "2 ('of', 465)\n",
      "3 ('and', 429)\n",
      "4 ('a', 362)\n",
      "5 ('in', 264)\n",
      "6 ('is', 238)\n",
      "7 ('for', 208)\n",
      "8 ('that', 191)\n",
      "9 ('I', 170)\n",
      "10 ('on', 156)\n",
      "11 ('with', 122)\n",
      "12 ('about', 118)\n",
      "13 ('it', 110)\n",
      "14 ('are', 105)\n",
      "15 ('this', 101)\n",
      "16 ('you', 100)\n",
      "17 ('at', 100)\n",
      "18 ('from', 85)\n",
      "19 ('as', 84)\n",
      "20 ('have', 81)\n",
      "21 ('be', 76)\n",
      "22 ('my', 73)\n",
      "23 ('how', 72)\n",
      "24 ('an', 72)\n",
      "25 ('by', 69)\n",
      "26 ('we', 61)\n",
      "27 ('what', 60)\n",
      "28 ('but', 57)\n",
      "29 ('was', 56)\n",
      "30 ('This', 54)\n",
      "31 ('not', 52)\n",
      "32 ('The', 50)\n",
      "33 ('they', 50)\n",
      "34 ('their', 49)\n",
      "35 ('has', 47)\n",
      "36 ('his', 46)\n",
      "37 ('than', 45)\n",
      "38 ('so', 44)\n",
      "39 ('more', 43)\n",
      "40 ('new', 43)\n",
      "41 ('can', 42)\n",
      "42 ('do', 42)\n",
      "43 ('like', 41)\n",
      "44 ('or', 39)\n",
      "45 ('who', 38)\n",
      "46 ('out', 38)\n",
      "47 ('one', 37)\n",
      "48 ('good', 35)\n",
      "49 ('our', 35)\n",
      "50 ('make', 35)\n",
      "51 ('-', 33)\n",
      "52 ('will', 32)\n",
      "53 ('work', 29)\n",
      "54 ('people', 29)\n",
      "55 ('should', 29)\n",
      "56 ('when', 29)\n",
      "57 ('all', 29)\n",
      "58 ('just', 29)\n",
      "59 ('see', 28)\n",
      "60 ('if', 28)\n",
      "61 ('It', 27)\n",
      "62 ('which', 27)\n",
      "63 ('way', 27)\n",
      "64 ('We', 27)\n",
      "65 ('me', 27)\n",
      "66 ('up', 27)\n",
      "67 ('data', 26)\n",
      "68 ('get', 26)\n",
      "69 ('why', 26)\n",
      "70 ('us', 25)\n",
      "71 (\"I'm\", 25)\n",
      "72 ('them', 25)\n",
      "73 ('piece', 25)\n",
      "74 ('If', 24)\n",
      "75 (\"O'Reilly\", 24)\n",
      "76 ('better', 24)\n",
      "....\n"
     ]
    }
   ],
   "source": [
    "all_content = \" \".join([ a['object']['content'] for a in activity_results ])\n",
    "\n",
    "print(\"Nombre de caractères : \",len(all_content))\n",
    "print('\\n')\n",
    "\n",
    "#Tokenisation naïve sur les espaces entre les mots => on obtient une liste de mots\n",
    "tokens = all_content.split()\n",
    "\n",
    "#On transforme cette liste en objet nltk \"Text\" (objet chaine de caractère qui conserve la notion de tokens, et qui \n",
    "#comprend  un certain nombre de méthodes utiles pour explorer les données.\n",
    "text = nltk.Text(tokens)\n",
    "\n",
    "#Comme par exemple \"concordance\" : montre les occurences d'un mot dans son contexte\n",
    "print(\"Exemples d'occurences du terme 'open' :\")\n",
    "text.concordance(\"open\")\n",
    "print('\\n')\n",
    "\n",
    "\n",
    "# Analyse de la fréquence des termes d'intérêt \n",
    "fdist = text.vocab()\n",
    "\n",
    "print(\"Co-occurences fréquentes :\")\n",
    "text.collocations()\n",
    "print('\\n')\n",
    "print(\"Nombre de mots :\", len(tokens))\n",
    "print('\\n')\n",
    "print(\"Nombre de mots uniques :\",len(fdist.keys()))\n",
    "print('\\n')\n",
    "print(\"Nombre de mots uniques v2 :\",len(set(tokens)))\n",
    "\n",
    "\n",
    "print(\"Nombre d'occurences du terme 'open' :\",fdist[\"open\"])\n",
    "print(\"Nombre d'occurences du terme 'source' :\", fdist[\"source\"])\n",
    "print(\"Nombre d'occurences du terme 'web' :\", fdist[\"web\"])\n",
    "print(\"Nombre d'occurences du terme 'API' :\",fdist[\"API\"])\n",
    "print('\\n')\n",
    "\n",
    "#100 tokens les plus fréquents\n",
    "top100_items = sorted(fdist.items(),key=lambda x: x[1],reverse=True)[:100]\n",
    "#sans les fréquences\n",
    "top100 = [t[0] for t in top100_items]\n",
    "print(\"Top 100 :\", top100)\n",
    "print('\\n')\n",
    "\n",
    "#sans les termes trop frequents (\"stopwords\")\n",
    "top100_without_stopwords = [w for w in top100 if w.lower() \\\n",
    "                         not in nltk.corpus.stopwords.words('english')]\n",
    "print(\"Top 100 sans les mots fréquents :\", top100_without_stopwords)\n",
    "print('\\n')\n",
    "\n",
    "long_words_not_urls = [w for w in fdist.keys() if len(w) > 15 and not w.startswith(\"http\")]\n",
    "print(\"Longs mots sans les urls :\", long_words_not_urls)\n",
    "print('\\n')\n",
    "\n",
    "# Nombre d'urls\n",
    "print(\"Nombre d'urls :\", len([w for w in fdist.keys() if w.startswith(\"http\")]))\n",
    "print('\\n')\n",
    "\n",
    "# Enumerate the frequency distribution\n",
    "for rank, word in enumerate(sorted(fdist.items(),key=lambda x: x[1],reverse=True)): \n",
    "    print(rank, word)\n",
    "    if rank > 75:\n",
    "        print(\"....\")\n",
    "        break"
   ]
  },
  {
   "cell_type": "code",
   "execution_count": null,
   "metadata": {
    "ExecuteTime": {
     "end_time": "2016-11-07T17:41:15.341582",
     "start_time": "2016-11-07T17:41:15.337581"
    },
    "collapsed": true
   },
   "outputs": [],
   "source": [
    "fdist = text.vocab()"
   ]
  },
  {
   "cell_type": "code",
   "execution_count": null,
   "metadata": {
    "ExecuteTime": {
     "end_time": "2016-11-07T17:41:16.614070",
     "start_time": "2016-11-07T17:41:15.689847"
    },
    "collapsed": true
   },
   "outputs": [],
   "source": [
    "%matplotlib inline"
   ]
  },
  {
   "cell_type": "code",
   "execution_count": null,
   "metadata": {
    "ExecuteTime": {
     "end_time": "2016-11-07T17:44:08.573650",
     "start_time": "2016-11-07T17:44:07.696937"
    }
   },
   "outputs": [
    {
     "data": {
      "image/png": "[encoded data removed]",
      "text/plain": [
       "<matplotlib.figure.Figure at 0x1ecacea6c18>"
      ]
     },
     "metadata": {},
     "output_type": "display_data"
    }
   ],
   "source": [
    "fdist.plot(100,cumulative=True)"
   ]
  },
  {
   "cell_type": "markdown",
   "metadata": {},
   "source": [
    "### Exercice 2"
   ]
  },
  {
   "cell_type": "markdown",
   "metadata": {},
   "source": [
    "Les notes de Tim O'Reilly parlent-elles des élections américaines ? Avec quelle fréquence ? Essayer \"Hillary\",\"Trump\", \"vote\", d'autres idées ? \n",
    "\n",
    "Quelle distribution des termes sans les stopwords ? Vérifie-t-on la loi [Zipf](https://en.wikipedia.org/wiki/Zipf%27s_law) selon laquelle la fréquence des mots est inversement proportionnelle à son rang  (le 10 ème mot est 10 fois moins présent que le premier) ? Et si l'on laisse les \"stopwords\" ?\n",
    "\n",
    "Proposer un indice du calcul de la diversité du vocabulaire de Tim O'Reilly. "
   ]
  },
  {
   "cell_type": "markdown",
   "metadata": {},
   "source": [
    "### Requeter les données Google + avec TF-IDF"
   ]
  },
  {
   "cell_type": "markdown",
   "metadata": {},
   "source": [
    "Le code ci-après permet d'indexer des textes en fonction d'un score de pertinence pour une requête donnée. En d'autres termes, vous avez un petit moteur de recherche :)"
   ]
  },
  {
   "cell_type": "code",
   "execution_count": null,
   "metadata": {
    "ExecuteTime": {
     "end_time": "2016-11-07T17:44:12.821415",
     "start_time": "2016-11-07T17:44:12.754870"
    }
   },
   "outputs": [
    {
     "name": "stdout",
     "output_type": "stream",
     "text": [
      "This is a really important piece about open data and platforms.\n",
      "\tLink: https://plus.google.com/+TimOReilly/posts/fo9uxWTctHb\n",
      "\tScore: 0.5498599632119789\n",
      "I love new sources of trend data about technology adoption. We've used variations of this for years ...\n",
      "\tLink: https://plus.google.com/+TimOReilly/posts/FetXVRJeJFv\n",
      "\tScore: 0.17368671875174563\n",
      "If you love Hamilton, as I do, and you're interested in data visualization, you'll find this fascinating...\n",
      "\tLink: https://plus.google.com/+TimOReilly/posts/NNsiSo8K7B7\n",
      "\tScore: 0.16687547487912816\n",
      "Data can play a great role in advancing sustainability. I'm quoted in this short video from Planet Labs...\n",
      "\tLink: https://plus.google.com/+TimOReilly/posts/45KX41Q2LN4\n",
      "\tScore: 0.15760461516362104\n",
      "Mark Cuban's tweet about data science in the NBA, featuring the image of his screen and an O'Reilly ...\n",
      "\tLink: https://plus.google.com/+TimOReilly/posts/2hCQhfTaX5g\n",
      "\tScore: 0.14184415364725894\n",
      "An excellent demonstration of why Open Access lowers the barriers to knowledge-sharing in science. This...\n",
      "\tLink: https://plus.google.com/+TimOReilly/posts/iQ4RdspWxbY\n",
      "\tScore: 0.13381568843277453\n"
     ]
    }
   ],
   "source": [
    "import json\n",
    "import nltk\n",
    "\n",
    "path = 'ressources_googleplus/107033731246200681024.json'\n",
    "text_data = json.loads(open(path).read())\n",
    "\n",
    "QUERY_TERMS = ['open','data']\n",
    "\n",
    "activities = [activity['object']['content'].lower().split() \\\n",
    "              for activity in text_data \\\n",
    "                if activity['object']['content'] != \"\"]\n",
    "\n",
    "# Le package TextCollection contient un module tf-idf\n",
    "tc = nltk.TextCollection(activities)\n",
    "\n",
    "relevant_activities = []\n",
    "\n",
    "for idx in range(len(activities)):\n",
    "    score = 0\n",
    "    for term in [t.lower() for t in QUERY_TERMS]:\n",
    "        score += tc.tf_idf(term, activities[idx])\n",
    "    if score > 0:\n",
    "        relevant_activities.append({'score': score, 'title': text_data[idx]['title'],\n",
    "                              'url': text_data[idx]['url']})\n",
    "\n",
    "# Tri par score et présentation des résultats \n",
    "\n",
    "relevant_activities = sorted(relevant_activities, \n",
    "                             key=lambda p: p['score'], reverse=True)\n",
    "c=0\n",
    "for activity in relevant_activities:\n",
    "    if c < 6:\n",
    "        print(activity['title'])\n",
    "        print('\\tLink: {}'.format(activity['url']))\n",
    "        print('\\tScore: {}'.format(activity['score']))\n",
    "        c+=1"
   ]
  },
  {
   "cell_type": "markdown",
   "metadata": {},
   "source": [
    "### Exercice 3"
   ]
  },
  {
   "cell_type": "markdown",
   "metadata": {},
   "source": [
    "- Tester d'autres termes de recherche (easy). Quelles limites voyez-vous ? \n",
    "- Tester d'autres fonctions [tf-idf](https://en.wikipedia.org/wiki/Tf%E2%80%93idf) (faites par vous, en vous inspirant du code \" Exemple sur un petit corpus de 3 documents\")"
   ]
  },
  {
   "cell_type": "markdown",
   "metadata": {},
   "source": [
    "### Trouver des documents proches avec la similarité cosine"
   ]
  },
  {
   "cell_type": "code",
   "execution_count": null,
   "metadata": {
    "ExecuteTime": {
     "end_time": "2016-11-07T17:44:18.836170",
     "start_time": "2016-11-07T17:44:18.126215"
    },
    "collapsed": true
   },
   "outputs": [],
   "source": [
    "import json\n",
    "import nltk\n",
    "\n",
    "\n",
    "path = 'ressources_googleplus/107033731246200681024.json'\n",
    "data = json.loads(open(path).read())\n",
    "\n",
    "# Sélection des textes qui ont plus de 1000 mots\n",
    "data = [ post for post in json.loads(open(path).read()) \\\n",
    "         if len(post['object']['content']) > 1000 ]\n",
    "\n",
    "all_posts = [post['object']['content'].lower().split() \n",
    "             for post in data ]\n",
    "\n",
    "tc = nltk.TextCollection(all_posts)\n",
    "\n",
    "# Calcul d'une matrice terme de recherche x document\n",
    "# Renvoie un score tf-idf pour le terme dans le document\n",
    "\n",
    "td_matrix = {}\n",
    "for idx in range(len(all_posts)):\n",
    "    post = all_posts[idx]\n",
    "    fdist = nltk.FreqDist(post)\n",
    "\n",
    "    doc_title = data[idx]['title']\n",
    "    url = data[idx]['url']\n",
    "    td_matrix[(doc_title, url)] = {}\n",
    "\n",
    "    for term in fdist.keys():\n",
    "        td_matrix[(doc_title, url)][term] = tc.tf_idf(term, post)"
   ]
  },
  {
   "cell_type": "code",
   "execution_count": null,
   "metadata": {
    "ExecuteTime": {
     "end_time": "2016-11-07T17:44:20.455219",
     "start_time": "2016-11-07T17:44:19.786910"
    },
    "collapsed": true
   },
   "outputs": [],
   "source": [
    "distances = {}\n",
    "\n",
    "for (title1, url1) in td_matrix.keys():\n",
    "    \n",
    "    distances[(title1, url1)] = {}\n",
    "    (min_dist, most_similar) = (1.0, ('', ''))\n",
    "    \n",
    "    for (title2, url2) in td_matrix.keys():\n",
    "        \n",
    "        #copie des valeurs (un dictionnaire étant mutable)\n",
    "        terms1 = td_matrix[(title1, url1)].copy()\n",
    "        terms2 = td_matrix[(title2, url2)].copy()\n",
    "        \n",
    "        #on complete les gaps pour avoir des vecteurs de même longueur\n",
    "        for term1 in terms1:\n",
    "            if term1 not in terms2:\n",
    "                terms2[term1] = 0\n",
    "\n",
    "        for term2 in terms2:\n",
    "            if term2 not in terms1:\n",
    "                terms1[term2] = 0\n",
    "                \n",
    "        #on créé des vecteurs de score pour l'ensemble des terms de chaque document\n",
    "        v1 = [score for (term, score) in sorted(terms1.items())]\n",
    "        v2 = [score for (term, score) in sorted(terms2.items())]\n",
    "\n",
    "        #calcul des similarité entre documents : distance cosine entre les deux vecteurs de scores tf-idf\n",
    "        distances[(title1, url1)][(title2, url2)] = \\\n",
    "            nltk.cluster.util.cosine_distance(v1, v2)"
   ]
  },
  {
   "cell_type": "code",
   "execution_count": null,
   "metadata": {
    "ExecuteTime": {
     "end_time": "2016-11-07T17:44:21.252441",
     "start_time": "2016-11-07T17:44:20.804663"
    }
   },
   "outputs": [
    {
     "data": {
      "text/html": [
       "<div>\n",
       "<style>\n",
       "    .dataframe thead tr:only-child th {\n",
       "        text-align: right;\n",
       "    }\n",
       "\n",
       "    .dataframe thead th {\n",
       "        text-align: left;\n",
       "    }\n",
       "\n",
       "    .dataframe tbody tr th {\n",
       "        vertical-align: top;\n",
       "    }\n",
       "</style>\n",
       "<table border=\"1\" class=\"dataframe\">\n",
       "  <thead>\n",
       "    <tr>\n",
       "      <th></th>\n",
       "      <th></th>\n",
       "      <th>\"Surely Democrats and Republicans could agree to cut billions from a failed program like this!\" you ...</th>\n",
       "      <th>Absolutely fascinating exploration of the microbiome of a city.\\n\\nFor those who don't know what the microbiome...</th>\n",
       "      <th>Amazing story about digital transformation http://www.codeforamerica.org/blog/2015/11/30/a-new-approach...</th>\n",
       "      <th>Can We Use Data to Make Better Regulations?\\n\\nEvgeny Morozov either misunderstands or misrepresents the...</th>\n",
       "      <th>From an article about Walmart, their move to pay more, and the lessons for the broader economy: http...</th>\n",
       "    </tr>\n",
       "    <tr>\n",
       "      <th></th>\n",
       "      <th></th>\n",
       "      <th>https://plus.google.com/+TimOReilly/posts/1Lcxb3b8VPH</th>\n",
       "      <th>https://plus.google.com/+TimOReilly/posts/7EaHeYc1BiB</th>\n",
       "      <th>https://plus.google.com/+TimOReilly/posts/BRmKh2ycaPe</th>\n",
       "      <th>https://plus.google.com/+TimOReilly/posts/gboAUahQwuZ</th>\n",
       "      <th>https://plus.google.com/+TimOReilly/posts/bqErtyYp6co</th>\n",
       "    </tr>\n",
       "  </thead>\n",
       "  <tbody>\n",
       "    <tr>\n",
       "      <th>\"Surely Democrats and Republicans could agree to cut billions from a failed program like this!\" you ...</th>\n",
       "      <th>https://plus.google.com/+TimOReilly/posts/1Lcxb3b8VPH</th>\n",
       "      <td>0.000000</td>\n",
       "      <td>0.983031</td>\n",
       "      <td>0.965728</td>\n",
       "      <td>0.897357</td>\n",
       "      <td>9.415217e-01</td>\n",
       "    </tr>\n",
       "    <tr>\n",
       "      <th>Absolutely fascinating exploration of the microbiome of a city.\\n\\nFor those who don't know what the microbiome...</th>\n",
       "      <th>https://plus.google.com/+TimOReilly/posts/7EaHeYc1BiB</th>\n",
       "      <td>0.983031</td>\n",
       "      <td>0.000000</td>\n",
       "      <td>0.973205</td>\n",
       "      <td>0.960363</td>\n",
       "      <td>9.699011e-01</td>\n",
       "    </tr>\n",
       "    <tr>\n",
       "      <th>Amazing story about digital transformation http://www.codeforamerica.org/blog/2015/11/30/a-new-approach...</th>\n",
       "      <th>https://plus.google.com/+TimOReilly/posts/BRmKh2ycaPe</th>\n",
       "      <td>0.965728</td>\n",
       "      <td>0.973205</td>\n",
       "      <td>0.000000</td>\n",
       "      <td>0.967001</td>\n",
       "      <td>9.862850e-01</td>\n",
       "    </tr>\n",
       "    <tr>\n",
       "      <th>Can We Use Data to Make Better Regulations?\\n\\nEvgeny Morozov either misunderstands or misrepresents the...</th>\n",
       "      <th>https://plus.google.com/+TimOReilly/posts/gboAUahQwuZ</th>\n",
       "      <td>0.897357</td>\n",
       "      <td>0.960363</td>\n",
       "      <td>0.967001</td>\n",
       "      <td>0.000000</td>\n",
       "      <td>9.551053e-01</td>\n",
       "    </tr>\n",
       "    <tr>\n",
       "      <th>From an article about Walmart, their move to pay more, and the lessons for the broader economy: http...</th>\n",
       "      <th>https://plus.google.com/+TimOReilly/posts/bqErtyYp6co</th>\n",
       "      <td>0.941522</td>\n",
       "      <td>0.969901</td>\n",
       "      <td>0.986285</td>\n",
       "      <td>0.955105</td>\n",
       "      <td>-2.220446e-16</td>\n",
       "    </tr>\n",
       "  </tbody>\n",
       "</table>\n",
       "</div>"
      ],
      "text/plain": [
       "                                                                                                      \"Surely Democrats and Republicans could agree to cut billions from a failed program like this!\" you ...  \\\n",
       "                                                                                                                                                        https://plus.google.com/+TimOReilly/posts/1Lcxb3b8VPH   \n",
       "\"Surely Democrats and Republicans could agree t... https://plus.google.com/+TimOReilly/posts/1Lcxb...                                           0.000000                                                        \n",
       "Absolutely fascinating exploration of the micro... https://plus.google.com/+TimOReilly/posts/7EaHe...                                           0.983031                                                        \n",
       "Amazing story about digital transformation http... https://plus.google.com/+TimOReilly/posts/BRmKh...                                           0.965728                                                        \n",
       "Can We Use Data to Make Better Regulations?\\n\\n... https://plus.google.com/+TimOReilly/posts/gboAU...                                           0.897357                                                        \n",
       "From an article about Walmart, their move to pa... https://plus.google.com/+TimOReilly/posts/bqErt...                                           0.941522                                                        \n",
       "\n",
       "                                                                                                      Absolutely fascinating exploration of the microbiome of a city.\\n\\nFor those who don't know what the microbiome...  \\\n",
       "                                                                                                                                                                   https://plus.google.com/+TimOReilly/posts/7EaHeYc1BiB   \n",
       "\"Surely Democrats and Republicans could agree t... https://plus.google.com/+TimOReilly/posts/1Lcxb...                                           0.983031                                                                   \n",
       "Absolutely fascinating exploration of the micro... https://plus.google.com/+TimOReilly/posts/7EaHe...                                           0.000000                                                                   \n",
       "Amazing story about digital transformation http... https://plus.google.com/+TimOReilly/posts/BRmKh...                                           0.973205                                                                   \n",
       "Can We Use Data to Make Better Regulations?\\n\\n... https://plus.google.com/+TimOReilly/posts/gboAU...                                           0.960363                                                                   \n",
       "From an article about Walmart, their move to pa... https://plus.google.com/+TimOReilly/posts/bqErt...                                           0.969901                                                                   \n",
       "\n",
       "                                                                                                      Amazing story about digital transformation http://www.codeforamerica.org/blog/2015/11/30/a-new-approach...  \\\n",
       "                                                                                                                                                           https://plus.google.com/+TimOReilly/posts/BRmKh2ycaPe   \n",
       "\"Surely Democrats and Republicans could agree t... https://plus.google.com/+TimOReilly/posts/1Lcxb...                                           0.965728                                                           \n",
       "Absolutely fascinating exploration of the micro... https://plus.google.com/+TimOReilly/posts/7EaHe...                                           0.973205                                                           \n",
       "Amazing story about digital transformation http... https://plus.google.com/+TimOReilly/posts/BRmKh...                                           0.000000                                                           \n",
       "Can We Use Data to Make Better Regulations?\\n\\n... https://plus.google.com/+TimOReilly/posts/gboAU...                                           0.967001                                                           \n",
       "From an article about Walmart, their move to pa... https://plus.google.com/+TimOReilly/posts/bqErt...                                           0.986285                                                           \n",
       "\n",
       "                                                                                                      Can We Use Data to Make Better Regulations?\\n\\nEvgeny Morozov either misunderstands or misrepresents the...  \\\n",
       "                                                                                                                                                            https://plus.google.com/+TimOReilly/posts/gboAUahQwuZ   \n",
       "\"Surely Democrats and Republicans could agree t... https://plus.google.com/+TimOReilly/posts/1Lcxb...                                           0.897357                                                            \n",
       "Absolutely fascinating exploration of the micro... https://plus.google.com/+TimOReilly/posts/7EaHe...                                           0.960363                                                            \n",
       "Amazing story about digital transformation http... https://plus.google.com/+TimOReilly/posts/BRmKh...                                           0.967001                                                            \n",
       "Can We Use Data to Make Better Regulations?\\n\\n... https://plus.google.com/+TimOReilly/posts/gboAU...                                           0.000000                                                            \n",
       "From an article about Walmart, their move to pa... https://plus.google.com/+TimOReilly/posts/bqErt...                                           0.955105                                                            \n",
       "\n",
       "                                                                                                      From an article about Walmart, their move to pay more, and the lessons for the broader economy: http...  \n",
       "                                                                                                                                                        https://plus.google.com/+TimOReilly/posts/bqErtyYp6co  \n",
       "\"Surely Democrats and Republicans could agree t... https://plus.google.com/+TimOReilly/posts/1Lcxb...                                       9.415217e-01                                                       \n",
       "Absolutely fascinating exploration of the micro... https://plus.google.com/+TimOReilly/posts/7EaHe...                                       9.699011e-01                                                       \n",
       "Amazing story about digital transformation http... https://plus.google.com/+TimOReilly/posts/BRmKh...                                       9.862850e-01                                                       \n",
       "Can We Use Data to Make Better Regulations?\\n\\n... https://plus.google.com/+TimOReilly/posts/gboAU...                                       9.551053e-01                                                       \n",
       "From an article about Walmart, their move to pa... https://plus.google.com/+TimOReilly/posts/bqErt...                                      -2.220446e-16                                                       "
      ]
     },
     "execution_count": null,
     "metadata": {},
     "output_type": "execute_result"
    }
   ],
   "source": [
    "import pandas as p\n",
    "df_dist=p.DataFrame(distances)\n",
    "df_dist.iloc[:5,:5]"
   ]
  },
  {
   "cell_type": "markdown",
   "metadata": {},
   "source": [
    "### Exercice 4 "
   ]
  },
  {
   "cell_type": "markdown",
   "metadata": {},
   "source": [
    "- Quel document est le plus proche de celui-ci: https://plus.google.com/+TimOReilly/posts/7EaHeYc1BiB ?\n",
    "- Représenter la matrice de distance à l'aide d'une [heatmap](http://seaborn.pydata.org/examples/heatmap_annotation.html).\n",
    "- Que donne un [clustering hiérarchique](http://seaborn.pydata.org/generated/seaborn.clustermap.html#seaborn.clustermap) ?"
   ]
  },
  {
   "cell_type": "markdown",
   "metadata": {},
   "source": [
    "# Approche contextuelle"
   ]
  },
  {
   "cell_type": "markdown",
   "metadata": {},
   "source": [
    "Les approches bag-of-words, bien que simplistes, permettent de créer d'indexer et de comparer des documents. La prise en compte des suites de 2, 3 ou plus mots serait un moyen d'affiner de tels modèles. Cela permet aussi de mieux comprendre le sens des homonymes, et des phrases (d'une manière générale, la sémantique).\n",
    "\n",
    "nltk offre des methodes pour tenir compte du contexte : pour ce faire, nous calculons les n-grams, c'est-à-dire l'ensemble des co-occurrences successives de mots deux-à-deux (bigrams), trois-à-trois (tri-grams), etc. \n",
    "\n",
    "En général, on se contente de bi-grams, au mieux de tri-grams : \n",
    "- les modèles de classification, analyse du sentiment, comparaison de documents, etc. qui comparent des n-grams avec n trop grands sont rapidement confrontés au problème de données sparse, cela réduit la capacité prédictive des modèles ; \n",
    "- les performances décroissent très rapidement en fonction de n, et les coûts de stockage des données augmentent rapidement (environ n fois plus élevé que la base de donnée initiale)."
   ]
  },
  {
   "cell_type": "markdown",
   "metadata": {},
   "source": [
    "### Exemple avec un petit corpus"
   ]
  },
  {
   "cell_type": "code",
   "execution_count": null,
   "metadata": {
    "ExecuteTime": {
     "end_time": "2016-11-07T17:44:25.230822",
     "start_time": "2016-11-07T17:44:25.218810"
    }
   },
   "outputs": [
    {
     "name": "stdout",
     "output_type": "stream",
     "text": [
      "<generator object ngrams at 0x000001ECB34F46D0>\n",
      "Mr. Green\n"
     ]
    }
   ],
   "source": [
    "import nltk\n",
    "\n",
    "sentence = \"Mr. Green killed Colonel Mustard in the study with the \" + \\\n",
    "           \"candlestick. Mr. Green is not a very nice fellow.\"\n",
    "\n",
    "print(nltk.ngrams(sentence.split(), 2))\n",
    "      \n",
    "txt = nltk.Text(sentence.split())\n",
    "\n",
    "txt.collocations()"
   ]
  },
  {
   "cell_type": "markdown",
   "metadata": {},
   "source": [
    "### Analyse des co-occurences dans les données textuelles issues de Google +"
   ]
  },
  {
   "cell_type": "code",
   "execution_count": null,
   "metadata": {
    "ExecuteTime": {
     "end_time": "2016-11-07T17:44:27.097337",
     "start_time": "2016-11-07T17:44:26.169765"
    }
   },
   "outputs": [
    {
     "name": "stdout",
     "output_type": "stream",
     "text": [
      "bottom, “copyright\n",
      "brett goldstein\n",
      "cabo pulmo\n",
      "nbc press:here\n",
      "nick hanauer\n",
      "press:here tv\n",
      "wood fired\n",
      "yuval noah\n",
      "silicon valley\n",
      "+jennifer pahlka\n",
      "barre historical\n",
      "computational biologist\n",
      "mikey dickerson\n",
      "saul griffith\n",
      "bay mini\n",
      "child welfare\n",
      "credit card\n",
      "east bay\n",
      "on-demand economy,\n",
      "white house\n",
      "drm-free ebooks\n",
      "humble bundle\n",
      "inca trail\n",
      "italian granite\n",
      "private sector\n"
     ]
    }
   ],
   "source": [
    "import json\n",
    "import nltk\n",
    "\n",
    "path = 'ressources_googleplus/107033731246200681024.json'\n",
    "data = json.loads(open(path).read())\n",
    "\n",
    "# Nombre de co-occurrences à trouver\n",
    "\n",
    "N = 25\n",
    "\n",
    "all_tokens = [token for activity in data for token in \\\n",
    "              activity['object']['content'].lower().split()]\n",
    "\n",
    "finder = nltk.BigramCollocationFinder.from_words(all_tokens)\n",
    "finder.apply_freq_filter(2)\n",
    "\n",
    "#filtre des mots trop fréquents\n",
    "\n",
    "finder.apply_word_filter(lambda w: w in nltk.corpus.stopwords.words('english'))\n",
    "\n",
    "bigram_measures = nltk.collocations.BigramAssocMeasures()\n",
    "\n",
    "collocations = finder.nbest(bigram_measures.jaccard, N)\n",
    "\n",
    "for collocation in collocations:\n",
    "    c = ' '.join(collocation)\n",
    "    print(c)"
   ]
  },
  {
   "cell_type": "markdown",
   "metadata": {},
   "source": [
    "### Exercice 5 "
   ]
  },
  {
   "cell_type": "markdown",
   "metadata": {},
   "source": [
    "- tester d'autres métriques que la distance de jaccard et comparer les résultats\n",
    "- extraire les tri-grams"
   ]
  },
  {
   "cell_type": "code",
   "execution_count": null,
   "metadata": {
    "collapsed": true
   },
   "outputs": [],
   "source": []
  }
 ],
 "metadata": {
  "anaconda-cloud": {},
  "kernelspec": {
   "display_name": "Python [default]",
   "language": "python",
   "name": "python3"
  },
  "language_info": {
   "codemirror_mode": {
    "name": "ipython",
    "version": 3
   },
   "file_extension": ".py",
   "mimetype": "text/x-python",
   "name": "python",
   "nbconvert_exporter": "python",
   "pygments_lexer": "ipython3",
   "version": "3.6.1"
  }
 },
 "nbformat": 4,
 "nbformat_minor": 1
}
