{
 "cells": [
  {
   "cell_type": "markdown",
   "metadata": {},
   "source": [
    "# 2A.eco - Rappel de ce que vous savez déjà mais avez peut-être oublié\n",
    "\n",
    "[pandas](http://pandas.pydata.org/) et [numpy](http://www.numpy.org/) sont essentiels pour manipuler les données. C'est ce que rappelle ce notebook. Voir aussi [Essential Cheat Sheets for Machine Learning and Deep Learning Engineers](https://startupsventurecapital.com/essential-cheat-sheets-for-machine-learning-and-deep-learning-researchers-efb6a8ebd2e5)."
   ]
  },
  {
   "cell_type": "code",
   "execution_count": 1,
   "metadata": {},
   "outputs": [],
   "source": [
    "import pyensae"
   ]
  },
  {
   "cell_type": "code",
   "execution_count": 2,
   "metadata": {},
   "outputs": [
    {
     "data": {
      "text/html": [
       "<div id=\"my_id_menu_nb\">run previous cell, wait for 2 seconds</div>\n",
       "<script>\n",
       "function repeat_indent_string(n){\n",
       "    var a = \"\" ;\n",
       "    for ( ; n > 0 ; --n) {\n",
       "        a += \"    \";\n",
       "    }\n",
       "    return a;\n",
       "}\n",
       "var update_menu_string = function(begin, lfirst, llast, sformat, send, keep_item) {\n",
       "    var anchors = document.getElementsByClassName(\"section\");\n",
       "    if (anchors.length == 0) {\n",
       "        anchors = document.getElementsByClassName(\"text_cell_render rendered_html\");\n",
       "    }\n",
       "    var i,t;\n",
       "    var text_menu = begin;\n",
       "    var text_memo = \"<pre>\\nlength:\" + anchors.length + \"\\n\";\n",
       "    var ind = \"\";\n",
       "    var memo_level = 1;\n",
       "    var href;\n",
       "    var tags = [];\n",
       "    var main_item = 0;\n",
       "    for (i = 0; i <= llast; i++) {\n",
       "        tags.push(\"h\" + i);\n",
       "    }\n",
       "\n",
       "    for (i = 0; i < anchors.length; i++) {\n",
       "        text_memo += \"**\" + anchors[i].id + \"--\\n\";\n",
       "\n",
       "        var child = null;\n",
       "        for(t = 0; t < tags.length; t++) {\n",
       "            var r = anchors[i].getElementsByTagName(tags[t]);\n",
       "            if (r.length > 0) {\n",
       "child = r[0];\n",
       "break;\n",
       "            }\n",
       "        }\n",
       "        if (child == null){\n",
       "            text_memo += \"null\\n\";\n",
       "            continue;\n",
       "        }\n",
       "        if (anchors[i].hasAttribute(\"id\")) {\n",
       "            // when converted in RST\n",
       "            href = anchors[i].id;\n",
       "            text_memo += \"#1-\" + href;\n",
       "            // passer à child suivant (le chercher)\n",
       "        }\n",
       "        else if (child.hasAttribute(\"id\")) {\n",
       "            // in a notebook\n",
       "            href = child.id;\n",
       "            text_memo += \"#2-\" + href;\n",
       "        }\n",
       "        else {\n",
       "            text_memo += \"#3-\" + \"*\" + \"\\n\";\n",
       "            continue;\n",
       "        }\n",
       "        var title = child.textContent;\n",
       "        var level = parseInt(child.tagName.substring(1,2));\n",
       "\n",
       "        text_memo += \"--\" + level + \"?\" + lfirst + \"--\" + title + \"\\n\";\n",
       "\n",
       "        if ((level < lfirst) || (level > llast)) {\n",
       "            continue ;\n",
       "        }\n",
       "        if (title.endsWith('¶')) {\n",
       "            title = title.substring(0,title.length-1).replace(\"<\", \"&lt;\").replace(\">\", \"&gt;\").replace(\"&\", \"&amp;\")\n",
       "        }\n",
       "\n",
       "        if (title.length == 0) {\n",
       "            continue;\n",
       "        }\n",
       "\n",
       "        while (level < memo_level) {\n",
       "            text_menu += \"</ul>\\n\";\n",
       "            memo_level -= 1;\n",
       "        }\n",
       "        if (level == lfirst) {\n",
       "            main_item += 1;\n",
       "        }\n",
       "        if (keep_item != -1 && main_item != keep_item + 1) {\n",
       "            // alert(main_item + \" - \" + level + \" - \" + keep_item);\n",
       "            continue;\n",
       "        }\n",
       "        while (level > memo_level) {\n",
       "            text_menu += \"<ul>\\n\";\n",
       "            memo_level += 1;\n",
       "        }\n",
       "        text_menu += repeat_indent_string(level-2) + sformat.replace(\"__HREF__\", href).replace(\"__TITLE__\", title);\n",
       "    }\n",
       "    while (1 < memo_level) {\n",
       "        text_menu += \"</ul>\\n\";\n",
       "        memo_level -= 1;\n",
       "    }\n",
       "    text_menu += send;\n",
       "    //text_menu += \"\\n\" + text_memo;\n",
       "    return text_menu;\n",
       "};\n",
       "var update_menu = function() {\n",
       "    var sbegin = \"\";\n",
       "    var sformat = '<li><a href=\"#__HREF__\">__TITLE__</a></li>';\n",
       "    var send = \"\";\n",
       "    var keep_item = -1;\n",
       "    var text_menu = update_menu_string(sbegin, 2, 4, sformat, send, keep_item);\n",
       "    var menu = document.getElementById(\"my_id_menu_nb\");\n",
       "    menu.innerHTML=text_menu;\n",
       "};\n",
       "window.setTimeout(update_menu,2000);\n",
       "            </script>"
      ],
      "text/plain": [
       "<IPython.core.display.HTML object>"
      ]
     },
     "execution_count": 2,
     "metadata": {},
     "output_type": "execute_result"
    }
   ],
   "source": [
    "from jyquickhelper import add_notebook_menu\n",
    "add_notebook_menu()"
   ]
  },
  {
   "cell_type": "markdown",
   "metadata": {},
   "source": [
    "## Les quelques règles de Python\n",
    "\n",
    "Python est un peu susceptible et protocolaire, il y a quelques règles à respecter : \n",
    "\n",
    "1) L'indentation est primordiale : un code mal indenté ne fonctionne pas. \n",
    "L'indentation indique à l'interpréteur où se trouvent les séparations entre des blocs d'instructions. Un peu comme des points dans un texte. \n",
    "Si les lignes ne sont pas bien alignées, l'interpréteur ne sait plus à quel bloc associer la ligne.\n",
    "\n",
    "2) On commence à compter à 0. Ca peut paraitre bizarre mais c'est comme ça. Le premier élément d'une liste est le 0-ème. \n",
    "\n",
    "3) Les marques de ponctuation sont importantes : \n",
    "- Pour une liste : []\n",
    "- Pour un dictionnaire : {}\n",
    "- Pour un tuple : ()\n",
    "- Pour séparer des éléments : ,\n",
    "- Pour commenter un bout de code : #\n",
    "- Pour aller à la ligne dans un bloc d'instructions : \\\n",
    "- Les majuscules et minuscules sont importantes\n",
    "- Par contre l'usage des ' ou des \" est indifférente. Il faut juste avoir les mêmes début et fin.\n",
    "- Pour documenter une fonction ou une classe \"\"\" documentation \"\"\" "
   ]
  },
  {
   "cell_type": "markdown",
   "metadata": {},
   "source": [
    "## les outputs de Python : l'opération, le print et le return\n",
    "\n",
    "Quand Python réalise des opérations, il faut lui préciser ce qu'il doit en faire : \n",
    "- est-ce qu'il doit juste faire l'opération,\n",
    "- afficher le résultat de l'opération, \n",
    "- créer un objet avec le résultat de l'opération ?\n",
    "\n",
    "\n",
    "Remarque : dans l'environnement Notebook, le dernier élement d'une cellule est automatiquement affiché (print), qu'on lui demande ou non de le faire. Ce n'est pas le cas dans un éditeur classique comme Spyder."
   ]
  },
  {
   "cell_type": "code",
   "execution_count": 3,
   "metadata": {},
   "outputs": [
    {
     "name": "stdout",
     "output_type": "stream",
     "text": [
      "5\n"
     ]
    }
   ],
   "source": [
    "# on calcule : dans le cas d'une opération par exemple une somme\n",
    "2+3 # Python calcule le résultat mais n'affiche rien dans la sortie\n",
    "\n",
    "# le print : on affiche\n",
    "\n",
    "print(2+3) # Python calcule et on lui demande juste de l'afficher\n",
    "# le résultat est en dessous du code"
   ]
  },
  {
   "cell_type": "code",
   "execution_count": 4,
   "metadata": {},
   "outputs": [
    {
     "name": "stdout",
     "output_type": "stream",
     "text": [
      "2\n",
      "<class 'NoneType'>\n"
     ]
    }
   ],
   "source": [
    "# le print dans une fonction \n",
    "\n",
    "def addition_v1(a,b) : \n",
    "    print(a+b)\n",
    "\n",
    "resultat_print = addition_v1(2,0) \n",
    "print(type(resultat_print))\n",
    "\n",
    "# dans la sortie on a l'affichage du résultat, car la sortie de la fonction est un print \n",
    "# en plus on lui demande quel est le type du résultat. Un print ne renvoie aucun type, ce n'est ni un numérique,\n",
    "# ni une chaine de charactères, le résultat d'un print n'est pas un format utilisable"
   ]
  },
  {
   "cell_type": "markdown",
   "metadata": {},
   "source": [
    "Le résultat de l'addition est affiché\n",
    "\n",
    "La fonction addition_v1 effectue un print\n",
    "\n",
    "Par contre, l'objet crée n'a pas de type, il n'est pas un chiffre, ce n'est qu'un affichage.\n",
    "\n",
    "Pour créer un objet avec le résultat de la fonction, il faut utiliser __return__"
   ]
  },
  {
   "cell_type": "code",
   "execution_count": 5,
   "metadata": {},
   "outputs": [
    {
     "name": "stdout",
     "output_type": "stream",
     "text": [
      "<class 'int'>\n"
     ]
    }
   ],
   "source": [
    "# le return dans une fonction\n",
    "def addition_v2(a,b) : \n",
    "    return a+b\n",
    "\n",
    "resultat_return = addition_v2(2,5) # \n",
    "print(type(resultat_return))\n",
    "## là on a bien un résultat qui est du type \"entier\""
   ]
  },
  {
   "cell_type": "markdown",
   "metadata": {},
   "source": [
    "\n",
    "Le résultat de addition_v2 n'est pas affiché comme dans addition_v1\n",
    "\n",
    "Par contre, la fonction addition_v2 permet d'avoir un objet de type int, un entier donc."
   ]
  },
  {
   "cell_type": "markdown",
   "metadata": {},
   "source": [
    "## Type de base : variables, listes, dictionnaires ...\n",
    "Pyhon permet de manipuler différents types de base\n",
    "\n",
    "On distingue deux types de variables : les immuables qui ne peuvent être modifiés et les modifiables\n",
    "\n",
    "### Les variables - types immuables\n",
    "\n",
    "Les variables immuables ne peuvent être modifiées\n",
    "\n",
    "- None : ce type est une convention de programmation pour dire que la valeur n'est pas calculée\n",
    "- bool : un booléen\n",
    "- int : un entier\n",
    "- float : un réel\n",
    "- str : une chaine de caractères\n",
    "- tuple : un vecteur\n",
    "\n"
   ]
  },
  {
   "cell_type": "code",
   "execution_count": 6,
   "metadata": {},
   "outputs": [
    {
     "name": "stdout",
     "output_type": "stream",
     "text": [
      "3 3.3 exemple None (1, 2)\n"
     ]
    }
   ],
   "source": [
    "i = 3         # entier = type numérique (type int)\n",
    "r = 3.3       # réel   = type numérique (type float)\n",
    "s = \"exemple\" # chaîne de caractères = type str \n",
    "n = None      # None signifie que la variable existe mais qu'elle ne contient rien\n",
    "              # elle est souvent utilisée pour signifier qu'il n'y a pas de résultat\n",
    "a = (1,2)     # tuple\n",
    "\n",
    "print(i,r,s,n,a)         "
   ]
  },
  {
   "cell_type": "markdown",
   "metadata": {},
   "source": [
    "Si on essaie de changer le premier élément de la chaine de caractères __s__ on va avoir un peu de mal. \n",
    "\n",
    "Par exemple si on voulait mettre une majuscule à \"exemple\", on aurait envie d'écrire que le premier élément de la chaine s est \"E\" majuscule\n",
    "\n",
    "Mais Python ne va pas nous laisser faire, il nous dit que les objets \"chaine de caractère\" ne peuvent être modifiés"
   ]
  },
  {
   "cell_type": "code",
   "execution_count": 7,
   "metadata": {},
   "outputs": [
    {
     "ename": "TypeError",
     "evalue": "'str' object does not support item assignment",
     "output_type": "error",
     "traceback": [
      "\u001b[0;31m---------------------------------------------------------------------------\u001b[0m",
      "\u001b[0;31mTypeError\u001b[0m                                 Traceback (most recent call last)",
      "\u001b[0;32m<ipython-input-7-185c0feef73b>\u001b[0m in \u001b[0;36m<module>\u001b[0;34m()\u001b[0m\n\u001b[0;32m----> 1\u001b[0;31m \u001b[0ms\u001b[0m\u001b[0;34m[\u001b[0m\u001b[0;36m0\u001b[0m\u001b[0;34m]\u001b[0m \u001b[0;34m=\u001b[0m \u001b[0;34m\"E\"\u001b[0m  \u001b[0;31m# déclenche une exception\u001b[0m\u001b[0;34m\u001b[0m\u001b[0m\n\u001b[0m",
      "\u001b[0;31mTypeError\u001b[0m: 'str' object does not support item assignment"
     ]
    }
   ],
   "source": [
    "s[0] = \"E\"  # déclenche une exception"
   ]
  },
  {
   "cell_type": "markdown",
   "metadata": {},
   "source": [
    "Tout ce qu'on peut faire avec une variable immutable, c'est le réaffecter à une autre valeur : il ne peut pas être modifié\n",
    "\n",
    "Pour s'en convaincre, utilisons la fonction id() qui donne un identifiant à chaque objet."
   ]
  },
  {
   "cell_type": "code",
   "execution_count": 8,
   "metadata": {},
   "outputs": [
    {
     "name": "stdout",
     "output_type": "stream",
     "text": [
      "exemple\n"
     ]
    },
    {
     "data": {
      "text/plain": [
       "139733986810096"
      ]
     },
     "execution_count": 8,
     "metadata": {},
     "output_type": "execute_result"
    }
   ],
   "source": [
    "print(s)\n",
    "id(s)"
   ]
  },
  {
   "cell_type": "code",
   "execution_count": 9,
   "metadata": {},
   "outputs": [
    {
     "data": {
      "text/plain": [
       "139733986668272"
      ]
     },
     "execution_count": 9,
     "metadata": {},
     "output_type": "execute_result"
    }
   ],
   "source": [
    "s = \"autre_mot\"\n",
    "id(s)"
   ]
  },
  {
   "cell_type": "markdown",
   "metadata": {},
   "source": [
    "On voit bien que s a changé d'identifiant : il peut avoir le même nom, ce n'est plus le même objet"
   ]
  },
  {
   "cell_type": "markdown",
   "metadata": {},
   "source": [
    "### Les variables - types modifiable : listes et dictionnaires\n",
    "\n",
    "Heureusement, il existe des variables modifiables comme les listes et les dictionnaires.  \n",
    "\n",
    "#### Les listes - elles s''écrivent entre [ ]\n",
    "\n",
    "\n",
    "Les listes sont des élements très utiles, notamment quand vous souhaitez faire des boucles\n",
    "\n",
    "Pour faire appel aux élements d'une liste, on donne leur position dans la liste : le 1er est le 0, le 2ème est le 1 ..."
   ]
  },
  {
   "cell_type": "code",
   "execution_count": 10,
   "metadata": {},
   "outputs": [
    {
     "name": "stdout",
     "output_type": "stream",
     "text": [
      "La longueur de ma liste est de 4\n",
      "Le premier élément de ma liste est : 1\n",
      "Le dernier élément de ma liste est : 4\n",
      "Le dernier élément de ma liste est : 4\n"
     ]
    }
   ],
   "source": [
    "ma_liste = [1,2,3,4]\n",
    "\n",
    "\n",
    "print(\"La longueur de ma liste est de\", len(ma_liste))\n",
    "\n",
    "print(\"Le premier élément de ma liste est :\", ma_liste[0])\n",
    "\n",
    "print(\"Le dernier élément de ma liste est :\", ma_liste[3])\n",
    "print(\"Le dernier élément de ma liste est :\", ma_liste[-1])"
   ]
  },
  {
   "cell_type": "markdown",
   "metadata": {},
   "source": [
    "#### Les dictionnaires - ils s'écrivent entre { }\n",
    "Un dictionnaire associe à une clé un autre élément, appelé une valeur : un chiffre, un nom, une liste, un autre dictionnaire etc.\n",
    "\n",
    "  - __Format d'un dictionnaire : {Clé : valeur}__\n",
    "   "
   ]
  },
  {
   "cell_type": "markdown",
   "metadata": {},
   "source": [
    "#### Dictionnaire avec des valeurs int\n",
    "\n",
    "On peut par exemple associer à un nom, un nombre"
   ]
  },
  {
   "cell_type": "code",
   "execution_count": 11,
   "metadata": {},
   "outputs": [
    {
     "name": "stdout",
     "output_type": "stream",
     "text": [
      "{'Nicolas': 18, 'Pimprenelle': 15}\n"
     ]
    }
   ],
   "source": [
    "mon_dictionnaire_notes = { 'Nicolas' : 18 , 'Pimprenelle' : 15} \n",
    "# un dictionnaire qui à chaque nom associe un nombre\n",
    "# à Nicolas, on associe 18\n",
    "\n",
    "print(mon_dictionnaire_notes) "
   ]
  },
  {
   "cell_type": "markdown",
   "metadata": {},
   "source": [
    "#### Dictionnaire avec des valeurs qui sont des listes"
   ]
  },
  {
   "cell_type": "markdown",
   "metadata": {},
   "source": [
    "Pour chaque clé d'un dictionnaire, il ne faut pas forcément garder la même forme de valeur\n",
    "\n",
    "Dans l'exemple, la valeur de la clé \"Nicolas\" est une liste, alors que celle de \"Philou\" est une liste de liste"
   ]
  },
  {
   "cell_type": "code",
   "execution_count": 12,
   "metadata": {},
   "outputs": [],
   "source": [
    "mon_dictionnaire_loisirs =  \\\n",
    "{ 'Nicolas' : ['Rugby','Pastis','Belote'] , \n",
    "  'Pimprenelle' : ['Gin Rami','Tisane','Tara Jarmon','Barcelone','Mickey Mouse'],\n",
    "  'Philou' : [['Maths','Jeux'],['Guillaume','Jeanne','Thimothée','Adrien']]}"
   ]
  },
  {
   "cell_type": "markdown",
   "metadata": {},
   "source": [
    "Pour accéder à un élément du dictionnaire, on fait appel à la clé et non plus à la position, comme c'était le cas dans les listes"
   ]
  },
  {
   "cell_type": "code",
   "execution_count": 13,
   "metadata": {},
   "outputs": [
    {
     "name": "stdout",
     "output_type": "stream",
     "text": [
      "['Rugby', 'Pastis', 'Belote']\n"
     ]
    }
   ],
   "source": [
    "print(mon_dictionnaire_loisirs['Nicolas']) # on affiche une liste"
   ]
  },
  {
   "cell_type": "code",
   "execution_count": 14,
   "metadata": {},
   "outputs": [
    {
     "name": "stdout",
     "output_type": "stream",
     "text": [
      "[['Maths', 'Jeux'], ['Guillaume', 'Jeanne', 'Thimothée', 'Adrien']]\n"
     ]
    }
   ],
   "source": [
    "print(mon_dictionnaire_loisirs['Philou']) # on affiche une liste de listes"
   ]
  },
  {
   "cell_type": "markdown",
   "metadata": {},
   "source": [
    "Si on ne veut avoir que la première liste des loisirs de Philou, on demande le premier élément de la liste"
   ]
  },
  {
   "cell_type": "code",
   "execution_count": 15,
   "metadata": {},
   "outputs": [
    {
     "name": "stdout",
     "output_type": "stream",
     "text": [
      "['Maths', 'Jeux']\n"
     ]
    }
   ],
   "source": [
    "print(mon_dictionnaire_loisirs['Philou'][0]) # on affiche alors juste la première liste"
   ]
  },
  {
   "cell_type": "markdown",
   "metadata": {},
   "source": [
    "On peut aussi avoir des valeurs qui sont des int et des listes"
   ]
  },
  {
   "cell_type": "code",
   "execution_count": 16,
   "metadata": {},
   "outputs": [],
   "source": [
    "mon_dictionnaire_patchwork_good = \\\n",
    "{ 'Nicolas' : ['Rugby','Pastis','Belote'] ,\n",
    "  'Pimprenelle' : 18 }"
   ]
  },
  {
   "cell_type": "markdown",
   "metadata": {},
   "source": [
    "-----------------\n",
    "\n",
    "\n",
    "## A retenir \n",
    "\n",
    "    \n",
    "   - L'indentation du code est importante (4 espaces et pas une tabulation)\n",
    "   - Une __liste__ est entre [] et on peut appeler les positions par leur place \n",
    "   - Un __dictionnaire__, clé x valeur, s'écrit entre {} et on appelle un élément en fonction de la clé\n",
    "\n",
    "------ \n",
    "\n",
    "## Questions pratiques : \n",
    "\n",
    "   - Quelle est la position de 7 dans la liste suivante"
   ]
  },
  {
   "cell_type": "code",
   "execution_count": 17,
   "metadata": {},
   "outputs": [],
   "source": [
    "liste_nombres = [1,2,7,5,3]"
   ]
  },
  {
   "cell_type": "markdown",
   "metadata": {},
   "source": [
    "- Combien de clés a ce dictionnaire ?     "
   ]
  },
  {
   "cell_type": "code",
   "execution_count": 18,
   "metadata": {},
   "outputs": [],
   "source": [
    " dictionnaire_evangile = {\"Marc\" : \"Lion\", \"Matthieu\" : [\"Ange\",\"Homme ailé\"] , \n",
    "                          \"Jean\" : \"Aigle\" , \"Luc\" : \"Taureau\"}"
   ]
  },
  {
   "cell_type": "markdown",
   "metadata": {},
   "source": [
    "- Que faut-il écrire pour obtenir \"Ange\" en résultat à partir du dictionnaire_evangile ? "
   ]
  },
  {
   "cell_type": "markdown",
   "metadata": {},
   "source": [
    "## Objets : méthodes et attributs\n",
    "\n",
    "Mainentant qu'on a vu quels objets existaient en Python, nous allons voir comment nous en servir. \n",
    "\n",
    "### Un petit détour pour bien comprendre : Un objet, c'est quoi ? \n",
    "\n",
    "Un objet a deux choses : des attributs et des méthodes\n",
    "\n",
    "   - Les attributs décrivent sa structure interne : sa taille, sa forme (dont on ne va pas parler ici)\n",
    "   - Les méthodes sont des  \"actions\" qui s'appliqueront à l'objet\n"
   ]
  },
  {
   "cell_type": "markdown",
   "metadata": {},
   "source": [
    "### Premiers exemples de méthode\n",
    "\n",
    "Avec les éléments définis dans la partie 1 (les listes, les dictionnaires) on peut faire appel à des méthodes qui sont directement liées à ces objets. \n",
    "\n",
    "\n",
    "Les méthodes, c'est un peu les actions de Python. \n",
    "\n",
    "##### Une méthode pour les listes \n",
    "\n",
    "Pour ajouter un item dans une liste : on va utiliser la méthode _.append()_"
   ]
  },
  {
   "cell_type": "code",
   "execution_count": 19,
   "metadata": {},
   "outputs": [
    {
     "name": "stdout",
     "output_type": "stream",
     "text": [
      "['Nicolas', 'Michel', 'Bernard', 'Philippe']\n"
     ]
    }
   ],
   "source": [
    "ma_liste = [\"Nicolas\",\"Michel\",\"Bernard\"]\n",
    "\n",
    "ma_liste.append(\"Philippe\")\n",
    "\n",
    "print(ma_liste)"
   ]
  },
  {
   "cell_type": "markdown",
   "metadata": {},
   "source": [
    "#### Une méthode pour les dictionnaires\n",
    "\n",
    "Pour connaitre l'ensemble des clés d'un dictionnaire, on appelle la méthode _.keys()_"
   ]
  },
  {
   "cell_type": "code",
   "execution_count": 20,
   "metadata": {},
   "outputs": [
    {
     "name": "stdout",
     "output_type": "stream",
     "text": [
      "dict_keys(['Marc', 'Matthieu', 'Jean', 'Luc'])\n"
     ]
    }
   ],
   "source": [
    "mon_dictionnaire = {\"Marc\" : \"Lion\", \"Matthieu\" : [\"Ange\",\"Homme ailé\"] , \n",
    "                          \"Jean\" : \"Aigle\" , \"Luc\" : \"Taureau\"}\n",
    "\n",
    "print(mon_dictionnaire.keys())"
   ]
  },
  {
   "cell_type": "markdown",
   "metadata": {},
   "source": [
    "### Connaitre les méthodes d'un objet\n",
    "\n",
    "Pour savoir quelles sont les méthodes d'un objet vous pouvez : \n",
    "  - taper help(mon_objet) ou mon_objet? dans la console iPython\n",
    "  - taper mon_objet. + touche tabulation dans la console iPython ou dans le notebook . iPython permet la complétion, c'est-à-dire que vous pouvez faire appaître la liste"
   ]
  },
  {
   "cell_type": "markdown",
   "metadata": {},
   "source": [
    "## Les opérations et méthodes classiques des listes\n",
    "\n",
    "### Créer une liste\n",
    "\n",
    "Pour créer un objet de la classe list, il suffit de le déclarer. Ici on affecte à __x__ une liste"
   ]
  },
  {
   "cell_type": "code",
   "execution_count": 21,
   "metadata": {},
   "outputs": [],
   "source": [
    "x = [4, 5] # création d’une liste composée de deux entiers\n",
    "x = [\"un\", 1, \"deux\", 2] # création d’une liste composée de 2 chaînes de caractères\n",
    "# et de deux entiers, l’ordre d’écriture est important\n",
    "x = [3] # création d’une liste d’un élément, sans la virgule,\n",
    "x = [ ] # crée une liste vide\n",
    "x = list () # crée une liste vide"
   ]
  },
  {
   "cell_type": "markdown",
   "metadata": {},
   "source": [
    "### Un premier test sur les listes\n",
    "\n",
    "Si on veut tester la présence d'un élément dans une liste, on l'écrit de la manière suivante : "
   ]
  },
  {
   "cell_type": "code",
   "execution_count": 22,
   "metadata": {},
   "outputs": [
    {
     "name": "stdout",
     "output_type": "stream",
     "text": [
      "True\n"
     ]
    }
   ],
   "source": [
    "# Exemple \n",
    "\n",
    "x = \"Marcel\"\n",
    "\n",
    "l = [\"Marcel\",\"Edith\",\"Maurice\",\"Jean\"]\n",
    "\n",
    "print(x in l)\n",
    "\n",
    "#vrai si x est un des éléments de l"
   ]
  },
  {
   "cell_type": "markdown",
   "metadata": {},
   "source": [
    "### Pour concaténer deux listes : \n",
    "On utilise le symbole +"
   ]
  },
  {
   "cell_type": "code",
   "execution_count": 23,
   "metadata": {},
   "outputs": [
    {
     "name": "stdout",
     "output_type": "stream",
     "text": [
      "['Marcel', 'Edith', 'Maurice', 'Jean', 'Antoine', 'David']\n"
     ]
    }
   ],
   "source": [
    "t = [\"Antoine\",\"David\"]\n",
    "print(l + t) #concaténation de l et t"
   ]
  },
  {
   "cell_type": "markdown",
   "metadata": {},
   "source": [
    "### Pour trouver certains éléments d'une liste\n",
    "Pour chercher des élements dans une liste, on utilise la position dans la liste. "
   ]
  },
  {
   "cell_type": "code",
   "execution_count": 24,
   "metadata": {},
   "outputs": [
    {
     "data": {
      "text/plain": [
       "'Edith'"
      ]
     },
     "execution_count": 24,
     "metadata": {},
     "output_type": "execute_result"
    }
   ],
   "source": [
    "l[1] # donne l'élément qui est en 2ème position de la liste"
   ]
  }
 ],
 "metadata": {
  "anaconda-cloud": {},
  "kernelspec": {
   "display_name": "Python 3",
   "language": "python",
   "name": "python3"
  },
  "language_info": {
   "codemirror_mode": {
    "name": "ipython",
    "version": 3
   },
   "file_extension": ".py",
   "mimetype": "text/x-python",
   "name": "python",
   "nbconvert_exporter": "python",
   "pygments_lexer": "ipython3",
   "version": "3.6.2"
  }
 },
 "nbformat": 4,
 "nbformat_minor": 1
}
