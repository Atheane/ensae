{
 "cells": [
  {
   "cell_type": "markdown",
   "metadata": {},
   "source": [
    "# 1A.2 - Modules, fichiers, expressions régulières\n",
    "\n",
    "Le langage Python est défini par un ensemble de règle, une grammaire. Seul, il n'est bon qu'à faire des calculs. Les modules sont des collections de fonctionnalités pour interagir avec des capteurs ou des écrans ou pour faire des calculs plus rapides ou plus complexes."
   ]
  },
  {
   "cell_type": "code",
   "execution_count": 1,
   "metadata": {},
   "outputs": [
    {
     "data": {
      "text/html": [
       "<div id=\"my_id_menu_nb\">run previous cell, wait for 2 seconds</div>\n",
       "<script>\n",
       "function repeat_indent_string(n){\n",
       "    var a = \"\" ;\n",
       "    for ( ; n > 0 ; --n) {\n",
       "        a += \"    \";\n",
       "    }\n",
       "    return a;\n",
       "}\n",
       "var update_menu_string = function(begin, lfirst, llast, sformat, send, keep_item) {\n",
       "    var anchors = document.getElementsByClassName(\"section\");\n",
       "    if (anchors.length == 0) {\n",
       "        anchors = document.getElementsByClassName(\"text_cell_render rendered_html\");\n",
       "    }\n",
       "    var i,t;\n",
       "    var text_menu = begin;\n",
       "    var text_memo = \"<pre>\\nlength:\" + anchors.length + \"\\n\";\n",
       "    var ind = \"\";\n",
       "    var memo_level = 1;\n",
       "    var href;\n",
       "    var tags = [];\n",
       "    var main_item = 0;\n",
       "    for (i = 0; i <= llast; i++) {\n",
       "        tags.push(\"h\" + i);\n",
       "    }\n",
       "\n",
       "    for (i = 0; i < anchors.length; i++) {\n",
       "        text_memo += \"**\" + anchors[i].id + \"--\\n\";\n",
       "\n",
       "        var child = null;\n",
       "        for(t = 0; t < tags.length; t++) {\n",
       "            var r = anchors[i].getElementsByTagName(tags[t]);\n",
       "            if (r.length > 0) {\n",
       "child = r[0];\n",
       "break;\n",
       "            }\n",
       "        }\n",
       "        if (child == null){\n",
       "            text_memo += \"null\\n\";\n",
       "            continue;\n",
       "        }\n",
       "        if (anchors[i].hasAttribute(\"id\")) {\n",
       "            // when converted in RST\n",
       "            href = anchors[i].id;\n",
       "            text_memo += \"#1-\" + href;\n",
       "            // passer à child suivant (le chercher)\n",
       "        }\n",
       "        else if (child.hasAttribute(\"id\")) {\n",
       "            // in a notebook\n",
       "            href = child.id;\n",
       "            text_memo += \"#2-\" + href;\n",
       "        }\n",
       "        else {\n",
       "            text_memo += \"#3-\" + \"*\" + \"\\n\";\n",
       "            continue;\n",
       "        }\n",
       "        var title = child.textContent;\n",
       "        var level = parseInt(child.tagName.substring(1,2));\n",
       "\n",
       "        text_memo += \"--\" + level + \"?\" + lfirst + \"--\" + title + \"\\n\";\n",
       "\n",
       "        if ((level < lfirst) || (level > llast)) {\n",
       "            continue ;\n",
       "        }\n",
       "        if (title.endsWith('¶')) {\n",
       "            title = title.substring(0,title.length-1).replace(\"<\", \"&lt;\").replace(\">\", \"&gt;\").replace(\"&\", \"&amp;\")\n",
       "        }\n",
       "\n",
       "        if (title.length == 0) {\n",
       "            continue;\n",
       "        }\n",
       "\n",
       "        while (level < memo_level) {\n",
       "            text_menu += \"</ul>\\n\";\n",
       "            memo_level -= 1;\n",
       "        }\n",
       "        if (level == lfirst) {\n",
       "            main_item += 1;\n",
       "        }\n",
       "        if (keep_item != -1 && main_item != keep_item + 1) {\n",
       "            // alert(main_item + \" - \" + level + \" - \" + keep_item);\n",
       "            continue;\n",
       "        }\n",
       "        while (level > memo_level) {\n",
       "            text_menu += \"<ul>\\n\";\n",
       "            memo_level += 1;\n",
       "        }\n",
       "        text_menu += repeat_indent_string(level-2) + sformat.replace(\"__HREF__\", href).replace(\"__TITLE__\", title);\n",
       "    }\n",
       "    while (1 < memo_level) {\n",
       "        text_menu += \"</ul>\\n\";\n",
       "        memo_level -= 1;\n",
       "    }\n",
       "    text_menu += send;\n",
       "    //text_menu += \"\\n\" + text_memo;\n",
       "    return text_menu;\n",
       "};\n",
       "var update_menu = function() {\n",
       "    var sbegin = \"\";\n",
       "    var sformat = '<li><a href=\"#__HREF__\">__TITLE__</a></li>';\n",
       "    var send = \"\";\n",
       "    var keep_item = -1;\n",
       "    var text_menu = update_menu_string(sbegin, 2, 4, sformat, send, keep_item);\n",
       "    var menu = document.getElementById(\"my_id_menu_nb\");\n",
       "    menu.innerHTML=text_menu;\n",
       "};\n",
       "window.setTimeout(update_menu,2000);\n",
       "            </script>"
      ],
      "text/plain": [
       "<IPython.core.display.HTML object>"
      ]
     },
     "execution_count": 1,
     "metadata": {},
     "output_type": "execute_result"
    }
   ],
   "source": [
    "from jyquickhelper import add_notebook_menu\n",
    "add_notebook_menu()"
   ]
  },
  {
   "cell_type": "markdown",
   "metadata": {},
   "source": [
    "### Fichiers\n",
    "\n",
    "Les fichiers permettent deux usages principaux :\n",
    "\n",
    "- récupérer des données d'une exécution du programme à l'autre (lorsque le programme s'arrête, toutes les variables sont perdues)\n",
    "- échanger des informations avec d'autres programmes (Excel par exemple).\n",
    "\n",
    "Le format le plus souvent utilisé est le fichier plat, texte, txt, csv, tsv. C'est un fichier qui contient une information structurée sous forme de matrice, en ligne et colonne car c'est comme que les informations numériques se présentent le plus souvent. Un fichier est une longue séquence de caractères. Il a fallu choisir une convention pour dire que deux ensembles de caractères ne font pas partie de la même colonne ou de la même ligne. La convention la plus répandue est :\n",
    "\n",
    "* ``\\t`` : séparateur de colonnes\n",
    "* ``\\n`` : séparateur de lignes\n",
    "\n",
    "Le caractère ``\\`` indique au langage python que le caractère qui suit fait partie d'un code. Vous trouverez la liste des codes : [String and Bytes literals](https://docs.python.org/3.4/reference/lexical_analysis.html#string-and-bytes-literals).\n",
    "\n",
    "**Aparté :** aujourd'hui, lire et écrire des fichiers est tellement fréquent qu'il existe des outils qui font ça dans une grande variété de formats. Vous découvrirez cela lors de la [séance 10](http://www.xavierdupre.fr/app/ensae_teaching_cs/helpsphinx/notebooks/td1a_cenonce_session_10.html). Il est utile pourtant de le faire au moins une fois soi-même pour comprendre la logique des outils et pour ne pas être bloqué dans les cas non prévus.\n",
    "\n",
    "Ecrire et lire des fichiers est beaucoup plus long que de jouer avec des variables. Ecrire signifie qu'on enregistre les données sur le disque dur : elles passent du programme au disque dur (elles deviennent permanentes). Elles font le chemin inverse lors de la lecture."
   ]
  },
  {
   "cell_type": "markdown",
   "metadata": {},
   "source": [
    "#### Ecriture\n",
    "\n",
    "Il est important de retenir qu'un fichier texte ne peut recevoir que des chaînes de caractères."
   ]
  },
  {
   "cell_type": "code",
   "execution_count": 2,
   "metadata": {},
   "outputs": [
    {
     "data": {
      "text/plain": [
       "'/home/atheane/code/atheane/ensae/seance1'"
      ]
     },
     "execution_count": 2,
     "metadata": {},
     "output_type": "execute_result"
    }
   ],
   "source": [
    "%pwd"
   ]
  },
  {
   "cell_type": "code",
   "execution_count": 3,
   "metadata": {},
   "outputs": [
    {
     "name": "stdout",
     "output_type": "stream",
     "text": [
      "['mat.txt']\n"
     ]
    }
   ],
   "source": [
    "mat = [[1.0, 0.0],[0.0,1.0] ]                    # matrice de type liste de listes\n",
    "with open (\"mat.txt\", \"w\") as f :                # création d'un fichier en mode écriture\n",
    "    for i in range (0,len (mat)) :               # \n",
    "        for j in range (0, len (mat [i])) :      # \n",
    "            s = str (mat [i][j])                 # conversion en chaîne de caractères\n",
    "            f.write (s + \"\\t\")                   #\n",
    "        f.write (\"\\n\")                           # \n",
    "        \n",
    "# on vérifie que le fichier existe : \n",
    "import os\n",
    "print([ _ for _ in os.listdir(\".\") if \"mat\" in _ ] )\n",
    "\n",
    "# la ligne précédente utilise le symbole _ : c'est une variable \n",
    "# le caractère _ est une lettre comme une autre\n",
    "# on pourrait écrire :\n",
    "# print([ fichier for fichier in os.listdir(\".\") if \"mat\" in fichier ] )\n",
    "# on utilise cette convention pour dire que cette variable n'a pas vocation à rester"
   ]
  },
  {
   "cell_type": "code",
   "execution_count": 4,
   "metadata": {},
   "outputs": [
    {
     "data": {
      "text/plain": [
       "['td2a_correction_session_2A.ipynb',\n",
       " 'td2_eco_rappels_1a.ipynb',\n",
       " 'exemple_fichier.txt',\n",
       " 'td2a_cenonce_session_2A.ipynb',\n",
       " '.ipynb_checkpoints',\n",
       " 'mat.txt',\n",
       " 'td2a_cenonce_session_1.ipynb',\n",
       " 'td1a_cenonce_session4.ipynb',\n",
       " 'td2a_correction_session_1.ipynb']"
      ]
     },
     "execution_count": 4,
     "metadata": {},
     "output_type": "execute_result"
    }
   ],
   "source": [
    "os.listdir(\".\")"
   ]
  },
  {
   "cell_type": "markdown",
   "metadata": {},
   "source": [
    "Le même programme mais écrit avec une écriture consendée :"
   ]
  },
  {
   "cell_type": "code",
   "execution_count": 5,
   "metadata": {},
   "outputs": [
    {
     "name": "stdout",
     "output_type": "stream",
     "text": [
      "['mat.txt']\n"
     ]
    }
   ],
   "source": [
    "mat = [[1.0, 0.0],[0.0,1.0] ]             # matrice de type liste de listes\n",
    "with open (\"mat.txt\", \"w\") as f :        # création d'un fichier\n",
    "    s = '\\n'.join ( '\\t'.join( str(x) for x in row  ) for row in mat )\n",
    "    f.write ( s )\n",
    "    \n",
    "# on vérifie que le fichier existe : \n",
    "print([ _ for _ in os.listdir(\".\") if \"mat\" in _ ] )    "
   ]
  },
  {
   "cell_type": "markdown",
   "metadata": {},
   "source": [
    "On regare les premières lignes du fichier ``mat2.txt`` :"
   ]
  },
  {
   "cell_type": "code",
   "execution_count": 13,
   "metadata": {},
   "outputs": [
    {
     "name": "stdout",
     "output_type": "stream",
     "text": [
      "Requirement already satisfied: azure in /home/atheane/anaconda3/envs/ensae2017/lib/python3.6/site-packages\n",
      "Requirement already satisfied: azure-keyvault~=0.3.3 in /home/atheane/anaconda3/envs/ensae2017/lib/python3.6/site-packages (from azure)\n",
      "Requirement already satisfied: azure-batch~=3.0.0 in /home/atheane/anaconda3/envs/ensae2017/lib/python3.6/site-packages (from azure)\n",
      "Requirement already satisfied: azure-storage~=0.34.2 in /home/atheane/anaconda3/envs/ensae2017/lib/python3.6/site-packages (from azure)\n",
      "Requirement already satisfied: azure-servicebus~=0.21.1 in /home/atheane/anaconda3/envs/ensae2017/lib/python3.6/site-packages (from azure)\n",
      "Requirement already satisfied: azure-graphrbac~=0.30.0 in /home/atheane/anaconda3/envs/ensae2017/lib/python3.6/site-packages (from azure)\n",
      "Requirement already satisfied: azure-mgmt~=1.0.0 in /home/atheane/anaconda3/envs/ensae2017/lib/python3.6/site-packages (from azure)\n",
      "Requirement already satisfied: azure-datalake-store~=0.0.9 in /home/atheane/anaconda3/envs/ensae2017/lib/python3.6/site-packages (from azure)\n",
      "Requirement already satisfied: azure-servicemanagement-legacy~=0.20.6 in /home/atheane/anaconda3/envs/ensae2017/lib/python3.6/site-packages (from azure)\n",
      "Requirement already satisfied: azure-servicefabric~=5.6.130 in /home/atheane/anaconda3/envs/ensae2017/lib/python3.6/site-packages (from azure)\n",
      "Requirement already satisfied: azure-nspkg>=2.0.0 in /home/atheane/anaconda3/envs/ensae2017/lib/python3.6/site-packages (from azure-keyvault~=0.3.3->azure)\n",
      "Requirement already satisfied: msrestazure~=0.4.7 in /home/atheane/anaconda3/envs/ensae2017/lib/python3.6/site-packages (from azure-keyvault~=0.3.3->azure)\n",
      "Requirement already satisfied: azure-common~=1.1.5 in /home/atheane/anaconda3/envs/ensae2017/lib/python3.6/site-packages (from azure-keyvault~=0.3.3->azure)\n",
      "Requirement already satisfied: python-dateutil in /home/atheane/anaconda3/envs/ensae2017/lib/python3.6/site-packages (from azure-storage~=0.34.2->azure)\n",
      "Requirement already satisfied: requests in /home/atheane/anaconda3/envs/ensae2017/lib/python3.6/site-packages (from azure-storage~=0.34.2->azure)\n",
      "Requirement already satisfied: cryptography in /home/atheane/anaconda3/envs/ensae2017/lib/python3.6/site-packages (from azure-storage~=0.34.2->azure)\n",
      "Requirement already satisfied: azure-mgmt-scheduler~=1.1.2 in /home/atheane/anaconda3/envs/ensae2017/lib/python3.6/site-packages (from azure-mgmt~=1.0.0->azure)\n",
      "Requirement already satisfied: azure-mgmt-compute~=1.0.0 in /home/atheane/anaconda3/envs/ensae2017/lib/python3.6/site-packages (from azure-mgmt~=1.0.0->azure)\n",
      "Requirement already satisfied: azure-mgmt-network~=1.0.0 in /home/atheane/anaconda3/envs/ensae2017/lib/python3.6/site-packages (from azure-mgmt~=1.0.0->azure)\n",
      "Requirement already satisfied: azure-mgmt-keyvault~=0.31.0 in /home/atheane/anaconda3/envs/ensae2017/lib/python3.6/site-packages (from azure-mgmt~=1.0.0->azure)\n",
      "Requirement already satisfied: azure-mgmt-devtestlabs~=2.0.0 in /home/atheane/anaconda3/envs/ensae2017/lib/python3.6/site-packages (from azure-mgmt~=1.0.0->azure)\n",
      "Requirement already satisfied: azure-mgmt-authorization~=0.30.0 in /home/atheane/anaconda3/envs/ensae2017/lib/python3.6/site-packages (from azure-mgmt~=1.0.0->azure)\n",
      "Requirement already satisfied: azure-mgmt-datalake-analytics~=0.1.4 in /home/atheane/anaconda3/envs/ensae2017/lib/python3.6/site-packages (from azure-mgmt~=1.0.0->azure)\n",
      "Requirement already satisfied: azure-mgmt-documentdb~=0.1.3 in /home/atheane/anaconda3/envs/ensae2017/lib/python3.6/site-packages (from azure-mgmt~=1.0.0->azure)\n",
      "Requirement already satisfied: azure-mgmt-iothub~=0.2.2 in /home/atheane/anaconda3/envs/ensae2017/lib/python3.6/site-packages (from azure-mgmt~=1.0.0->azure)\n",
      "Requirement already satisfied: azure-mgmt-cognitiveservices~=1.0.0 in /home/atheane/anaconda3/envs/ensae2017/lib/python3.6/site-packages (from azure-mgmt~=1.0.0->azure)\n",
      "Requirement already satisfied: azure-mgmt-cdn~=0.30.3 in /home/atheane/anaconda3/envs/ensae2017/lib/python3.6/site-packages (from azure-mgmt~=1.0.0->azure)\n",
      "Requirement already satisfied: azure-mgmt-logic~=2.1.0 in /home/atheane/anaconda3/envs/ensae2017/lib/python3.6/site-packages (from azure-mgmt~=1.0.0->azure)\n",
      "Requirement already satisfied: azure-mgmt-datalake-store~=0.1.4 in /home/atheane/anaconda3/envs/ensae2017/lib/python3.6/site-packages (from azure-mgmt~=1.0.0->azure)\n",
      "Requirement already satisfied: azure-mgmt-monitor~=0.2.1 in /home/atheane/anaconda3/envs/ensae2017/lib/python3.6/site-packages (from azure-mgmt~=1.0.0->azure)\n",
      "Requirement already satisfied: azure-mgmt-containerregistry~=0.2.1 in /home/atheane/anaconda3/envs/ensae2017/lib/python3.6/site-packages (from azure-mgmt~=1.0.0->azure)\n",
      "Requirement already satisfied: azure-mgmt-batch~=4.0.0 in /home/atheane/anaconda3/envs/ensae2017/lib/python3.6/site-packages (from azure-mgmt~=1.0.0->azure)\n",
      "Requirement already satisfied: azure-mgmt-storage~=1.0.0 in /home/atheane/anaconda3/envs/ensae2017/lib/python3.6/site-packages (from azure-mgmt~=1.0.0->azure)\n",
      "Requirement already satisfied: azure-mgmt-redis~=4.1.0 in /home/atheane/anaconda3/envs/ensae2017/lib/python3.6/site-packages (from azure-mgmt~=1.0.0->azure)\n",
      "Requirement already satisfied: azure-mgmt-trafficmanager~=0.30.0 in /home/atheane/anaconda3/envs/ensae2017/lib/python3.6/site-packages (from azure-mgmt~=1.0.0->azure)\n",
      "Requirement already satisfied: azure-mgmt-resource~=1.1.0 in /home/atheane/anaconda3/envs/ensae2017/lib/python3.6/site-packages (from azure-mgmt~=1.0.0->azure)\n",
      "Requirement already satisfied: azure-mgmt-dns~=1.0.1 in /home/atheane/anaconda3/envs/ensae2017/lib/python3.6/site-packages (from azure-mgmt~=1.0.0->azure)\n",
      "Requirement already satisfied: azure-mgmt-web~=0.32.0 in /home/atheane/anaconda3/envs/ensae2017/lib/python3.6/site-packages (from azure-mgmt~=1.0.0->azure)\n",
      "Requirement already satisfied: azure-mgmt-sql~=0.5.1 in /home/atheane/anaconda3/envs/ensae2017/lib/python3.6/site-packages (from azure-mgmt~=1.0.0->azure)\n",
      "Requirement already satisfied: azure-mgmt-rdbms~=0.1.0 in /home/atheane/anaconda3/envs/ensae2017/lib/python3.6/site-packages (from azure-mgmt~=1.0.0->azure)\n",
      "Requirement already satisfied: adal>=0.4.2 in /home/atheane/anaconda3/envs/ensae2017/lib/python3.6/site-packages (from azure-datalake-store~=0.0.9->azure)\n",
      "Requirement already satisfied: cffi in /home/atheane/anaconda3/envs/ensae2017/lib/python3.6/site-packages (from azure-datalake-store~=0.0.9->azure)\n",
      "Requirement already satisfied: msrest~=0.4.5 in /home/atheane/anaconda3/envs/ensae2017/lib/python3.6/site-packages (from azure-datalake-store~=0.0.9->azure)\n",
      "Requirement already satisfied: keyring>=5.6 in /home/atheane/anaconda3/envs/ensae2017/lib/python3.6/site-packages (from msrestazure~=0.4.7->azure-keyvault~=0.3.3->azure)\n",
      "Requirement already satisfied: six>=1.5 in /home/atheane/anaconda3/envs/ensae2017/lib/python3.6/site-packages (from python-dateutil->azure-storage~=0.34.2->azure)\n",
      "Requirement already satisfied: idna<2.7,>=2.5 in /home/atheane/anaconda3/envs/ensae2017/lib/python3.6/site-packages (from requests->azure-storage~=0.34.2->azure)\n",
      "Requirement already satisfied: chardet<3.1.0,>=3.0.2 in /home/atheane/anaconda3/envs/ensae2017/lib/python3.6/site-packages (from requests->azure-storage~=0.34.2->azure)\n",
      "Requirement already satisfied: certifi>=2017.4.17 in /home/atheane/anaconda3/envs/ensae2017/lib/python3.6/site-packages (from requests->azure-storage~=0.34.2->azure)\n",
      "Requirement already satisfied: urllib3<1.23,>=1.21.1 in /home/atheane/anaconda3/envs/ensae2017/lib/python3.6/site-packages (from requests->azure-storage~=0.34.2->azure)\n",
      "Requirement already satisfied: asn1crypto>=0.21.0 in /home/atheane/anaconda3/envs/ensae2017/lib/python3.6/site-packages (from cryptography->azure-storage~=0.34.2->azure)\n",
      "Requirement already satisfied: azure-mgmt-nspkg>=2.0.0 in /home/atheane/anaconda3/envs/ensae2017/lib/python3.6/site-packages (from azure-mgmt-scheduler~=1.1.2->azure-mgmt~=1.0.0->azure)\n",
      "Requirement already satisfied: azure-mgmt-datalake-nspkg>=2.0.0 in /home/atheane/anaconda3/envs/ensae2017/lib/python3.6/site-packages (from azure-mgmt-datalake-analytics~=0.1.4->azure-mgmt~=1.0.0->azure)\n",
      "Requirement already satisfied: PyJWT>=1.0.0 in /home/atheane/anaconda3/envs/ensae2017/lib/python3.6/site-packages (from adal>=0.4.2->azure-datalake-store~=0.0.9->azure)\n",
      "Requirement already satisfied: pycparser in /home/atheane/anaconda3/envs/ensae2017/lib/python3.6/site-packages (from cffi->azure-datalake-store~=0.0.9->azure)\n",
      "Requirement already satisfied: isodate>=0.5.4 in /home/atheane/anaconda3/envs/ensae2017/lib/python3.6/site-packages (from msrest~=0.4.5->azure-datalake-store~=0.0.9->azure)\n",
      "Requirement already satisfied: requests-oauthlib>=0.5.0 in /home/atheane/anaconda3/envs/ensae2017/lib/python3.6/site-packages (from msrest~=0.4.5->azure-datalake-store~=0.0.9->azure)\n"
     ]
    },
    {
     "name": "stdout",
     "output_type": "stream",
     "text": [
      "Requirement already satisfied: secretstorage; sys_platform == \"linux2\" or sys_platform == \"linux\" in /home/atheane/anaconda3/envs/ensae2017/lib/python3.6/site-packages (from keyring>=5.6->msrestazure~=0.4.7->azure-keyvault~=0.3.3->azure)\n",
      "Requirement already satisfied: oauthlib>=0.6.2 in /home/atheane/anaconda3/envs/ensae2017/lib/python3.6/site-packages (from requests-oauthlib>=0.5.0->msrest~=0.4.5->azure-datalake-store~=0.0.9->azure)\n",
      "Requirement already satisfied: qgrid in /home/atheane/anaconda3/envs/ensae2017/lib/python3.6/site-packages\n",
      "Requirement already satisfied: ipywidgets>=4.0.0 in /home/atheane/anaconda3/envs/ensae2017/lib/python3.6/site-packages (from qgrid)\n",
      "Requirement already satisfied: notebook>=4.0.0 in /home/atheane/anaconda3/envs/ensae2017/lib/python3.6/site-packages (from qgrid)\n",
      "Requirement already satisfied: pandas>=0.16.2 in /home/atheane/anaconda3/envs/ensae2017/lib/python3.6/site-packages (from qgrid)\n",
      "Requirement already satisfied: ipykernel>=4.5.1 in /home/atheane/anaconda3/envs/ensae2017/lib/python3.6/site-packages (from ipywidgets>=4.0.0->qgrid)\n",
      "Requirement already satisfied: widgetsnbextension~=3.0.0 in /home/atheane/anaconda3/envs/ensae2017/lib/python3.6/site-packages (from ipywidgets>=4.0.0->qgrid)\n",
      "Requirement already satisfied: nbformat>=4.2.0 in /home/atheane/anaconda3/envs/ensae2017/lib/python3.6/site-packages (from ipywidgets>=4.0.0->qgrid)\n",
      "Requirement already satisfied: ipython>=4.0.0; python_version >= \"3.3\" in /home/atheane/anaconda3/envs/ensae2017/lib/python3.6/site-packages (from ipywidgets>=4.0.0->qgrid)\n",
      "Requirement already satisfied: traitlets>=4.3.1 in /home/atheane/anaconda3/envs/ensae2017/lib/python3.6/site-packages (from ipywidgets>=4.0.0->qgrid)\n",
      "Requirement already satisfied: jupyter-core in /home/atheane/anaconda3/envs/ensae2017/lib/python3.6/site-packages (from notebook>=4.0.0->qgrid)\n",
      "Requirement already satisfied: tornado>=4 in /home/atheane/anaconda3/envs/ensae2017/lib/python3.6/site-packages (from notebook>=4.0.0->qgrid)\n",
      "Requirement already satisfied: jinja2 in /home/atheane/anaconda3/envs/ensae2017/lib/python3.6/site-packages (from notebook>=4.0.0->qgrid)\n",
      "Requirement already satisfied: nbconvert in /home/atheane/anaconda3/envs/ensae2017/lib/python3.6/site-packages (from notebook>=4.0.0->qgrid)\n",
      "Requirement already satisfied: terminado>=0.3.3; sys_platform != \"win32\" in /home/atheane/anaconda3/envs/ensae2017/lib/python3.6/site-packages (from notebook>=4.0.0->qgrid)\n",
      "Requirement already satisfied: jupyter-client in /home/atheane/anaconda3/envs/ensae2017/lib/python3.6/site-packages (from notebook>=4.0.0->qgrid)\n",
      "Requirement already satisfied: ipython-genutils in /home/atheane/anaconda3/envs/ensae2017/lib/python3.6/site-packages (from notebook>=4.0.0->qgrid)\n",
      "Requirement already satisfied: numpy>=1.7.0 in /home/atheane/anaconda3/envs/ensae2017/lib/python3.6/site-packages (from pandas>=0.16.2->qgrid)\n",
      "Requirement already satisfied: pytz>=2011k in /home/atheane/anaconda3/envs/ensae2017/lib/python3.6/site-packages (from pandas>=0.16.2->qgrid)\n",
      "Requirement already satisfied: python-dateutil>=2 in /home/atheane/anaconda3/envs/ensae2017/lib/python3.6/site-packages (from pandas>=0.16.2->qgrid)\n",
      "Requirement already satisfied: jsonschema!=2.5.0,>=2.4 in /home/atheane/anaconda3/envs/ensae2017/lib/python3.6/site-packages (from nbformat>=4.2.0->ipywidgets>=4.0.0->qgrid)\n",
      "Requirement already satisfied: pickleshare in /home/atheane/anaconda3/envs/ensae2017/lib/python3.6/site-packages (from ipython>=4.0.0; python_version >= \"3.3\"->ipywidgets>=4.0.0->qgrid)\n",
      "Requirement already satisfied: simplegeneric>0.8 in /home/atheane/anaconda3/envs/ensae2017/lib/python3.6/site-packages (from ipython>=4.0.0; python_version >= \"3.3\"->ipywidgets>=4.0.0->qgrid)\n",
      "Requirement already satisfied: jedi>=0.10 in /home/atheane/anaconda3/envs/ensae2017/lib/python3.6/site-packages (from ipython>=4.0.0; python_version >= \"3.3\"->ipywidgets>=4.0.0->qgrid)\n",
      "Requirement already satisfied: decorator in /home/atheane/anaconda3/envs/ensae2017/lib/python3.6/site-packages (from ipython>=4.0.0; python_version >= \"3.3\"->ipywidgets>=4.0.0->qgrid)\n",
      "Requirement already satisfied: prompt-toolkit<2.0.0,>=1.0.4 in /home/atheane/anaconda3/envs/ensae2017/lib/python3.6/site-packages (from ipython>=4.0.0; python_version >= \"3.3\"->ipywidgets>=4.0.0->qgrid)\n",
      "Requirement already satisfied: pygments in /home/atheane/anaconda3/envs/ensae2017/lib/python3.6/site-packages (from ipython>=4.0.0; python_version >= \"3.3\"->ipywidgets>=4.0.0->qgrid)\n",
      "Requirement already satisfied: setuptools>=18.5 in /home/atheane/anaconda3/envs/ensae2017/lib/python3.6/site-packages (from ipython>=4.0.0; python_version >= \"3.3\"->ipywidgets>=4.0.0->qgrid)\n",
      "Requirement already satisfied: pexpect; sys_platform != \"win32\" in /home/atheane/anaconda3/envs/ensae2017/lib/python3.6/site-packages (from ipython>=4.0.0; python_version >= \"3.3\"->ipywidgets>=4.0.0->qgrid)\n",
      "Requirement already satisfied: six in /home/atheane/anaconda3/envs/ensae2017/lib/python3.6/site-packages (from traitlets>=4.3.1->ipywidgets>=4.0.0->qgrid)\n",
      "Requirement already satisfied: MarkupSafe>=0.23 in /home/atheane/anaconda3/envs/ensae2017/lib/python3.6/site-packages (from jinja2->notebook>=4.0.0->qgrid)\n",
      "Requirement already satisfied: testpath in /home/atheane/anaconda3/envs/ensae2017/lib/python3.6/site-packages (from nbconvert->notebook>=4.0.0->qgrid)\n",
      "Requirement already satisfied: entrypoints>=0.2.2 in /home/atheane/anaconda3/envs/ensae2017/lib/python3.6/site-packages (from nbconvert->notebook>=4.0.0->qgrid)\n",
      "Requirement already satisfied: bleach in /home/atheane/anaconda3/envs/ensae2017/lib/python3.6/site-packages (from nbconvert->notebook>=4.0.0->qgrid)\n",
      "Requirement already satisfied: pandocfilters>=1.4.1 in /home/atheane/anaconda3/envs/ensae2017/lib/python3.6/site-packages (from nbconvert->notebook>=4.0.0->qgrid)\n",
      "Requirement already satisfied: mistune>=0.7.4 in /home/atheane/anaconda3/envs/ensae2017/lib/python3.6/site-packages (from nbconvert->notebook>=4.0.0->qgrid)\n",
      "Requirement already satisfied: ptyprocess in /home/atheane/anaconda3/envs/ensae2017/lib/python3.6/site-packages (from terminado>=0.3.3; sys_platform != \"win32\"->notebook>=4.0.0->qgrid)\n",
      "Requirement already satisfied: pyzmq>=13 in /home/atheane/anaconda3/envs/ensae2017/lib/python3.6/site-packages (from jupyter-client->notebook>=4.0.0->qgrid)\n",
      "Requirement already satisfied: wcwidth in /home/atheane/anaconda3/envs/ensae2017/lib/python3.6/site-packages (from prompt-toolkit<2.0.0,>=1.0.4->ipython>=4.0.0; python_version >= \"3.3\"->ipywidgets>=4.0.0->qgrid)\n",
      "Requirement already satisfied: html5lib>=0.99999999 in /home/atheane/anaconda3/envs/ensae2017/lib/python3.6/site-packages (from bleach->nbconvert->notebook>=4.0.0->qgrid)\n",
      "Requirement already satisfied: webencodings in /home/atheane/anaconda3/envs/ensae2017/lib/python3.6/site-packages (from html5lib>=0.99999999->bleach->nbconvert->notebook>=4.0.0->qgrid)\n"
     ]
    }
   ],
   "source": [
    "! pip install azure\n",
    "! pip install qgrid"
   ]
  },
  {
   "cell_type": "code",
   "execution_count": 12,
   "metadata": {},
   "outputs": [
    {
     "data": {
      "text/html": [
       "<pre>\n",
       "1.0\t0.0\n",
       "0.0\t1.0\n",
       "</pre>"
      ],
      "text/plain": [
       "<IPython.core.display.HTML object>"
      ]
     },
     "execution_count": 12,
     "metadata": {},
     "output_type": "execute_result"
    }
   ],
   "source": [
    "import pyensae\n",
    "%load_ext pyensae\n",
    "%head mat.txt"
   ]
  },
  {
   "cell_type": "markdown",
   "metadata": {},
   "source": [
    "#### Lecture"
   ]
  },
  {
   "cell_type": "code",
   "execution_count": 7,
   "metadata": {},
   "outputs": [
    {
     "name": "stdout",
     "output_type": "stream",
     "text": [
      "[['1.0', '0.0'], ['0.0', '1.0']]\n"
     ]
    }
   ],
   "source": [
    "with open (\"mat.txt\", \"r\") as f : # ouverture d'un fichier\n",
    "    mat = [ row.strip(' \\n').split('\\t') for row in f.readlines() ]\n",
    "print(mat)"
   ]
  },
  {
   "cell_type": "markdown",
   "metadata": {},
   "source": [
    "On retrouve les mêmes informations à ceci près qu'il ne faut pas oublier de convertir les nombres initiaux en ``float``."
   ]
  },
  {
   "cell_type": "code",
   "execution_count": 8,
   "metadata": {},
   "outputs": [
    {
     "name": "stdout",
     "output_type": "stream",
     "text": [
      "[[1.0, 0.0], [0.0, 1.0]]\n"
     ]
    }
   ],
   "source": [
    "with open (\"mat.txt\", \"r\") as f :                # ouverture d'un fichier\n",
    "    mat = [ [ float(x) for x in row.strip(' \\n').split('\\t') ] for row in f.readlines() ]\n",
    "print(mat)"
   ]
  },
  {
   "cell_type": "markdown",
   "metadata": {},
   "source": [
    "Voilà qui est mieux. Le module [os.path](https://docs.python.org/3.4/library/os.path.html) propose différentes fonctions pour manipuler les noms de fichiers. Le module [os](http://docs.python.org/3.3/library/os.html#module-os) propose différentes fonctions pour manipuler les fichiers :"
   ]
  },
  {
   "cell_type": "code",
   "execution_count": 9,
   "metadata": {},
   "outputs": [
    {
     "name": "stdout",
     "output_type": "stream",
     "text": [
      "td2a_correction_session_2A.ipynb\n",
      "td2_eco_rappels_1a.ipynb\n",
      "td2a_cenonce_session_2A.ipynb\n",
      ".ipynb_checkpoints\n",
      "mat.txt\n",
      "td2a_cenonce_session_1.ipynb\n",
      "td1a_cenonce_session4.ipynb\n",
      "td2a_correction_session_1.ipynb\n"
     ]
    }
   ],
   "source": [
    "import os\n",
    "for f in os.listdir('.'):\n",
    "    print (f)"
   ]
  },
  {
   "cell_type": "markdown",
   "metadata": {},
   "source": [
    "#### with\n",
    "\n",
    "De façon pragmatique, l'instruction [with](https://docs.python.org/3.4/reference/compound_stmts.html#with) permet d'écrire un code plus court d'une instruction : ``close``. Les deux bouts de code suivant sont équivalents :"
   ]
  },
  {
   "cell_type": "code",
   "execution_count": 10,
   "metadata": {},
   "outputs": [],
   "source": [
    "with open(\"exemple_fichier.txt\", \"w\") as f:\n",
    "    f.write(\"something\")"
   ]
  },
  {
   "cell_type": "code",
   "execution_count": 11,
   "metadata": {},
   "outputs": [],
   "source": [
    "f = open(\"exemple_fichier.txt\", \"w\")\n",
    "f.write(\"something\")\n",
    "f.close()"
   ]
  },
  {
   "cell_type": "markdown",
   "metadata": {},
   "source": [
    "L'instruction ``close`` *ferme* le fichier. A l'ouverture, le fichier est réservé par le programme Python, aucune autre application ne peut écrire dans le même fichier. Après l'instruction ``close``, une autre application pour le supprimer, le modifier. Avec le mot clé ``with``, la méthode ``close`` est implicitement appelée."
   ]
  },
  {
   "cell_type": "markdown",
   "metadata": {},
   "source": [
    "#### à quoi ça sert ?\n",
    "\n",
    "On écrit très rarement un fichier texte. Ce format est le seul reconnu par toutes les applications. Tous les logiciels, tous les langages proposent des fonctionnalités qui exportent les données dans un format texte. Dans certaines circonstances, les outils standards ne fonctionnent pas - trop grops volumes de données, problème d'encoding, caractère inattendu -. Il faut se débrouiller."
   ]
  },
  {
   "cell_type": "code",
   "execution_count": null,
   "metadata": {
    "collapsed": true
   },
   "outputs": [],
   "source": []
  },
  {
   "cell_type": "markdown",
   "metadata": {},
   "source": [
    "### Exercice 1 : Excel $\\rightarrow$ Python $\\rightarrow$ Excel\n",
    "    \n",
    "Il faut télécharger le fichier [seance4_excel.xlsx](http://www.xavierdupre.fr/enseignement/complements/seance4_excel.xlsx) qui contient une table de trois colonnes. Il faut :\n",
    "\n",
    "- enregistrer le fichier au format texte,\n",
    "- le lire sous python\n",
    "- créer une matrice carrée 3x3 où chaque valeur est dans sa case (X,Y),\n",
    "- enregistrer le résultat sous format texte,\n",
    "- le récupérer sous Excel.    "
   ]
  },
  {
   "cell_type": "markdown",
   "metadata": {},
   "source": [
    "### Autres formats de fichiers\n",
    "\n",
    "Les fichiers texte sont les plus simples à manipuler mais il existe d'autres formats classiques~:\n",
    "\n",
    "- [html](http://fr.wikipedia.org/wiki/Hypertext_Markup_Language) : les pages web\n",
    "- [xml](http://fr.wikipedia.org/wiki/Extensible_Markup_Language) : données structurées\n",
    "- [zip](http://fr.wikipedia.org/wiki/ZIP_(format_de_fichier), [gz](http://fr.wikipedia.org/wiki/Gzip) : données compressées\n",
    "- [wav](http://fr.wikipedia.org/wiki/WAVEform_audio_format), [mp3](http://fr.wikipedia.org/wiki/MPEG-1/2_Audio_Layer_3), [ogg](http://fr.wikipedia.org/wiki/Ogg) : musique\n",
    "- [mp4](http://fr.wikipedia.org/wiki/MPEG-4), [Vorbis](http://fr.wikipedia.org/wiki/Vorbis) : vidéo\n",
    "- ..."
   ]
  },
  {
   "cell_type": "markdown",
   "metadata": {},
   "source": [
    "### Modules\n",
    "\n",
    "Les modules sont des extensions du langages. Python ne sait quasiment rien faire seul mais il bénéficie de nombreuses extensions. On distingue souvent les extensions présentes lors de l'installation du langage (le module [math](https://docs.python.org/3.4/library/math.html)) des extensions externes qu'il faut soi-même installer ([numpy](http://www.numpy.org/)). Deux liens :\n",
    "\n",
    "- [modules officiels](http://docs.python.org/3.4/library/)\n",
    "- [modules externes](https://pypi.python.org/pypi)\n",
    "\n",
    "Le premier réflexe est toujours de regarder si un module ne pourrait pas vous être utile avant de commencer à programmer. Pour utiliser une fonction d'un module, on utilise l'une des syntaxes suivantes :"
   ]
  },
  {
   "cell_type": "code",
   "execution_count": null,
   "metadata": {},
   "outputs": [
    {
     "name": "stdout",
     "output_type": "stream",
     "text": [
      "0.5403023058681397\n",
      "0.5403023058681397\n",
      "0.5403023058681397\n"
     ]
    }
   ],
   "source": [
    "import math\n",
    "print (math.cos(1))\n",
    "\n",
    "from math import cos\n",
    "print (cos(1))\n",
    "\n",
    "from math import *    # cette syntaxe est déconseillée car il est possible qu'une fonction\n",
    "print (cos(1))        # porte le même nom qu'une des vôtres"
   ]
  },
  {
   "cell_type": "markdown",
   "metadata": {},
   "source": [
    "### Exercice 2 : trouver un module (1)\n",
    "\n",
    "Aller à la page [modules officiels](http://docs.python.org/3.4/library/) (ou utiliser un moteur de recherche) pour trouver un module permettant de générer des nombres aléatoires. Créer une liste de nombres aléatoires selon une loi uniforme puis faire une permutation aléatoire de cette séquence."
   ]
  },
  {
   "cell_type": "markdown",
   "metadata": {},
   "source": [
    "### Exercice 3 : trouver un module (2)\n",
    "\n",
    "Trouver un module qui vous permette de calculer la différence entre deux dates puis déterminer le jour de la semaine où vous êtes nés."
   ]
  },
  {
   "cell_type": "markdown",
   "metadata": {},
   "source": [
    "### Module qu'on crée soi-même\n",
    "\n",
    "Il est possible de répartir son programme en plusieurs fichiers. Par exemple, un premier fichier ``monmodule.py`` qui contient une fonction :"
   ]
  },
  {
   "cell_type": "code",
   "execution_count": null,
   "metadata": {
    "collapsed": true
   },
   "outputs": [],
   "source": [
    "# fichier monmodule.py\n",
    "import math\n",
    "\n",
    "def fonction_cos_sequence(seq) :\n",
    "    return [ math.cos(x) for x in seq ]\n",
    "\n",
    "if __name__ == \"__main__\" :\n",
    "    # et une petite astuce quand on travaille sous notebook\n",
    "    code = \"\"\"\n",
    "        # -*- coding: utf-8 -*-\n",
    "        import math\n",
    "        def fonction_cos_sequence(seq) :\n",
    "            return [ math.cos(x) for x in seq ]        \n",
    "        if __name__ == \"__main__\" :\n",
    "            print (\"ce message n'apparaît que si ce programme est le point d'entrée\")\n",
    "        \"\"\".replace(\"        \",\"\")\n",
    "    with open(\"monmodule.py\", \"w\", encoding=\"utf8\") as f :\n",
    "        f.write(code)"
   ]
  },
  {
   "cell_type": "markdown",
   "metadata": {},
   "source": [
    "Le second fichier :"
   ]
  },
  {
   "cell_type": "code",
   "execution_count": null,
   "metadata": {},
   "outputs": [
    {
     "name": "stdout",
     "output_type": "stream",
     "text": [
      "[0.5403023058681397, -0.4161468365471424, -0.9899924966004454]\n"
     ]
    }
   ],
   "source": [
    "import monmodule\n",
    "\n",
    "print ( monmodule.fonction_cos_sequence ( [ 1, 2, 3 ] ) )"
   ]
  },
  {
   "cell_type": "markdown",
   "metadata": {},
   "source": [
    "### Exercice 4 : son propre module\n",
    "\n",
    "Que se passe-t-il si vous remplacez ``if __name__ == \"__main__\":``  par ``if True :`` ?"
   ]
  },
  {
   "cell_type": "code",
   "execution_count": 14,
   "metadata": {},
   "outputs": [
    {
     "ename": "ImportError",
     "evalue": "C extension: No module named 'pandas._libs' not built. If you want to import pandas from the source directory, you may need to run 'python setup.py build_ext --inplace --force' to build the C extensions first.",
     "output_type": "error",
     "traceback": [
      "\u001b[0;31m---------------------------------------------------------------------------\u001b[0m",
      "\u001b[0;31mModuleNotFoundError\u001b[0m                       Traceback (most recent call last)",
      "\u001b[0;32m~/anaconda3/envs/ensae/lib/python3.6/site-packages/pandas/__init__.py\u001b[0m in \u001b[0;36m<module>\u001b[0;34m()\u001b[0m\n\u001b[1;32m     25\u001b[0m \u001b[0;32mtry\u001b[0m\u001b[0;34m:\u001b[0m\u001b[0;34m\u001b[0m\u001b[0m\n\u001b[0;32m---> 26\u001b[0;31m     from pandas._libs import (hashtable as _hashtable,\n\u001b[0m\u001b[1;32m     27\u001b[0m                              \u001b[0mlib\u001b[0m \u001b[0;32mas\u001b[0m \u001b[0m_lib\u001b[0m\u001b[0;34m,\u001b[0m\u001b[0;34m\u001b[0m\u001b[0m\n",
      "\u001b[0;31mModuleNotFoundError\u001b[0m: No module named 'pandas._libs'",
      "\nDuring handling of the above exception, another exception occurred:\n",
      "\u001b[0;31mImportError\u001b[0m                               Traceback (most recent call last)",
      "\u001b[0;32m<ipython-input-14-5f8f4fd05bc6>\u001b[0m in \u001b[0;36m<module>\u001b[0;34m()\u001b[0m\n\u001b[0;32m----> 1\u001b[0;31m \u001b[0;32mimport\u001b[0m \u001b[0mpyensae\u001b[0m\u001b[0;34m\u001b[0m\u001b[0m\n\u001b[0m",
      "\u001b[0;32m~/anaconda3/envs/ensae/lib/python3.6/site-packages/pyensae/__init__.py\u001b[0m in \u001b[0;36m<module>\u001b[0;34m()\u001b[0m\n\u001b[1;32m      5\u001b[0m \"\"\"\n\u001b[1;32m      6\u001b[0m \u001b[0;32mimport\u001b[0m \u001b[0msys\u001b[0m\u001b[0;34m\u001b[0m\u001b[0m\n\u001b[0;32m----> 7\u001b[0;31m \u001b[0;32mfrom\u001b[0m \u001b[0;34m.\u001b[0m\u001b[0mdatasource\u001b[0m\u001b[0;34m.\u001b[0m\u001b[0mhttp_retrieve\u001b[0m \u001b[0;32mimport\u001b[0m \u001b[0mdownload_data\u001b[0m\u001b[0;34m\u001b[0m\u001b[0m\n\u001b[0m\u001b[1;32m      8\u001b[0m \u001b[0;34m\u001b[0m\u001b[0m\n\u001b[1;32m      9\u001b[0m \u001b[0;34m\u001b[0m\u001b[0m\n",
      "\u001b[0;32m~/anaconda3/envs/ensae/lib/python3.6/site-packages/pyensae/datasource/__init__.py\u001b[0m in \u001b[0;36m<module>\u001b[0;34m()\u001b[0m\n\u001b[1;32m      4\u001b[0m \"\"\"\n\u001b[1;32m      5\u001b[0m \u001b[0;34m\u001b[0m\u001b[0m\n\u001b[0;32m----> 6\u001b[0;31m \u001b[0;32mfrom\u001b[0m \u001b[0;34m.\u001b[0m\u001b[0mdata_velib\u001b[0m \u001b[0;32mimport\u001b[0m \u001b[0mDataVelibCollect\u001b[0m\u001b[0;34m\u001b[0m\u001b[0m\n\u001b[0m\u001b[1;32m      7\u001b[0m \u001b[0;32mfrom\u001b[0m \u001b[0;34m.\u001b[0m\u001b[0mconvert\u001b[0m \u001b[0;32mimport\u001b[0m \u001b[0mdBase2df\u001b[0m\u001b[0;34m,\u001b[0m \u001b[0mdBase2sqllite\u001b[0m\u001b[0;34m\u001b[0m\u001b[0m\n\u001b[1;32m      8\u001b[0m \u001b[0;32mfrom\u001b[0m \u001b[0;34m.\u001b[0m\u001b[0mhttp_retrieve\u001b[0m \u001b[0;32mimport\u001b[0m \u001b[0mdownload_data\u001b[0m\u001b[0;34m,\u001b[0m \u001b[0mDownloadDataException\u001b[0m\u001b[0;34m\u001b[0m\u001b[0m\n",
      "\u001b[0;32m~/anaconda3/envs/ensae/lib/python3.6/site-packages/pyensae/datasource/data_velib.py\u001b[0m in \u001b[0;36m<module>\u001b[0;34m()\u001b[0m\n\u001b[1;32m     13\u001b[0m \u001b[0;32mimport\u001b[0m \u001b[0mtime\u001b[0m\u001b[0;34m\u001b[0m\u001b[0m\n\u001b[1;32m     14\u001b[0m \u001b[0;32mimport\u001b[0m \u001b[0mre\u001b[0m\u001b[0;34m\u001b[0m\u001b[0m\n\u001b[0;32m---> 15\u001b[0;31m \u001b[0;32mimport\u001b[0m \u001b[0mpandas\u001b[0m\u001b[0;34m\u001b[0m\u001b[0m\n\u001b[0m\u001b[1;32m     16\u001b[0m \u001b[0;32mimport\u001b[0m \u001b[0mnumpy\u001b[0m\u001b[0;34m\u001b[0m\u001b[0m\n\u001b[1;32m     17\u001b[0m \u001b[0;32mimport\u001b[0m \u001b[0mmath\u001b[0m\u001b[0;34m\u001b[0m\u001b[0m\n",
      "\u001b[0;32m~/anaconda3/envs/ensae/lib/python3.6/site-packages/pandas/__init__.py\u001b[0m in \u001b[0;36m<module>\u001b[0;34m()\u001b[0m\n\u001b[1;32m     33\u001b[0m                       \u001b[0;34m\"pandas from the source directory, you may need to run \"\u001b[0m\u001b[0;34m\u001b[0m\u001b[0m\n\u001b[1;32m     34\u001b[0m                       \u001b[0;34m\"'python setup.py build_ext --inplace --force' to build \"\u001b[0m\u001b[0;34m\u001b[0m\u001b[0m\n\u001b[0;32m---> 35\u001b[0;31m                       \"the C extensions first.\".format(module))\n\u001b[0m\u001b[1;32m     36\u001b[0m \u001b[0;34m\u001b[0m\u001b[0m\n\u001b[1;32m     37\u001b[0m \u001b[0;32mfrom\u001b[0m \u001b[0mdatetime\u001b[0m \u001b[0;32mimport\u001b[0m \u001b[0mdatetime\u001b[0m\u001b[0;34m\u001b[0m\u001b[0m\n",
      "\u001b[0;31mImportError\u001b[0m: C extension: No module named 'pandas._libs' not built. If you want to import pandas from the source directory, you may need to run 'python setup.py build_ext --inplace --force' to build the C extensions first."
     ]
    }
   ],
   "source": [
    "import pyensae"
   ]
  },
  {
   "cell_type": "markdown",
   "metadata": {},
   "source": [
    "### Expressions régulières\n",
    "\n",
    "Pour la suite de la séance, on utilise comme préambule les instructions suivantes :"
   ]
  },
  {
   "cell_type": "code",
   "execution_count": 12,
   "metadata": {},
   "outputs": [
    {
     "ename": "ImportError",
     "evalue": "C extension: No module named 'pandas._libs' not built. If you want to import pandas from the source directory, you may need to run 'python setup.py build_ext --inplace --force' to build the C extensions first.",
     "output_type": "error",
     "traceback": [
      "\u001b[0;31m---------------------------------------------------------------------------\u001b[0m",
      "\u001b[0;31mModuleNotFoundError\u001b[0m                       Traceback (most recent call last)",
      "\u001b[0;32m~/anaconda3/envs/ensae/lib/python3.6/site-packages/pandas/__init__.py\u001b[0m in \u001b[0;36m<module>\u001b[0;34m()\u001b[0m\n\u001b[1;32m     25\u001b[0m \u001b[0;32mtry\u001b[0m\u001b[0;34m:\u001b[0m\u001b[0;34m\u001b[0m\u001b[0m\n\u001b[0;32m---> 26\u001b[0;31m     from pandas._libs import (hashtable as _hashtable,\n\u001b[0m\u001b[1;32m     27\u001b[0m                              \u001b[0mlib\u001b[0m \u001b[0;32mas\u001b[0m \u001b[0m_lib\u001b[0m\u001b[0;34m,\u001b[0m\u001b[0;34m\u001b[0m\u001b[0m\n",
      "\u001b[0;31mModuleNotFoundError\u001b[0m: No module named 'pandas._libs'",
      "\nDuring handling of the above exception, another exception occurred:\n",
      "\u001b[0;31mImportError\u001b[0m                               Traceback (most recent call last)",
      "\u001b[0;32m<ipython-input-12-e841b6f742a9>\u001b[0m in \u001b[0;36m<module>\u001b[0;34m()\u001b[0m\n\u001b[0;32m----> 1\u001b[0;31m \u001b[0;32mimport\u001b[0m \u001b[0mpyensae\u001b[0m\u001b[0;34m\u001b[0m\u001b[0m\n\u001b[0m\u001b[1;32m      2\u001b[0m \u001b[0mdiscours\u001b[0m \u001b[0;34m=\u001b[0m \u001b[0mpyensae\u001b[0m\u001b[0;34m.\u001b[0m\u001b[0mdownload_data\u001b[0m\u001b[0;34m(\u001b[0m\u001b[0;34m'voeux.zip'\u001b[0m\u001b[0;34m,\u001b[0m \u001b[0mwebsite\u001b[0m \u001b[0;34m=\u001b[0m \u001b[0;34m'xd'\u001b[0m\u001b[0;34m)\u001b[0m\u001b[0;34m\u001b[0m\u001b[0m\n",
      "\u001b[0;32m~/anaconda3/envs/ensae/lib/python3.6/site-packages/pyensae/__init__.py\u001b[0m in \u001b[0;36m<module>\u001b[0;34m()\u001b[0m\n\u001b[1;32m      5\u001b[0m \"\"\"\n\u001b[1;32m      6\u001b[0m \u001b[0;32mimport\u001b[0m \u001b[0msys\u001b[0m\u001b[0;34m\u001b[0m\u001b[0m\n\u001b[0;32m----> 7\u001b[0;31m \u001b[0;32mfrom\u001b[0m \u001b[0;34m.\u001b[0m\u001b[0mdatasource\u001b[0m\u001b[0;34m.\u001b[0m\u001b[0mhttp_retrieve\u001b[0m \u001b[0;32mimport\u001b[0m \u001b[0mdownload_data\u001b[0m\u001b[0;34m\u001b[0m\u001b[0m\n\u001b[0m\u001b[1;32m      8\u001b[0m \u001b[0;34m\u001b[0m\u001b[0m\n\u001b[1;32m      9\u001b[0m \u001b[0;34m\u001b[0m\u001b[0m\n",
      "\u001b[0;32m~/anaconda3/envs/ensae/lib/python3.6/site-packages/pyensae/datasource/__init__.py\u001b[0m in \u001b[0;36m<module>\u001b[0;34m()\u001b[0m\n\u001b[1;32m      4\u001b[0m \"\"\"\n\u001b[1;32m      5\u001b[0m \u001b[0;34m\u001b[0m\u001b[0m\n\u001b[0;32m----> 6\u001b[0;31m \u001b[0;32mfrom\u001b[0m \u001b[0;34m.\u001b[0m\u001b[0mdata_velib\u001b[0m \u001b[0;32mimport\u001b[0m \u001b[0mDataVelibCollect\u001b[0m\u001b[0;34m\u001b[0m\u001b[0m\n\u001b[0m\u001b[1;32m      7\u001b[0m \u001b[0;32mfrom\u001b[0m \u001b[0;34m.\u001b[0m\u001b[0mconvert\u001b[0m \u001b[0;32mimport\u001b[0m \u001b[0mdBase2df\u001b[0m\u001b[0;34m,\u001b[0m \u001b[0mdBase2sqllite\u001b[0m\u001b[0;34m\u001b[0m\u001b[0m\n\u001b[1;32m      8\u001b[0m \u001b[0;32mfrom\u001b[0m \u001b[0;34m.\u001b[0m\u001b[0mhttp_retrieve\u001b[0m \u001b[0;32mimport\u001b[0m \u001b[0mdownload_data\u001b[0m\u001b[0;34m,\u001b[0m \u001b[0mDownloadDataException\u001b[0m\u001b[0;34m\u001b[0m\u001b[0m\n",
      "\u001b[0;32m~/anaconda3/envs/ensae/lib/python3.6/site-packages/pyensae/datasource/data_velib.py\u001b[0m in \u001b[0;36m<module>\u001b[0;34m()\u001b[0m\n\u001b[1;32m     13\u001b[0m \u001b[0;32mimport\u001b[0m \u001b[0mtime\u001b[0m\u001b[0;34m\u001b[0m\u001b[0m\n\u001b[1;32m     14\u001b[0m \u001b[0;32mimport\u001b[0m \u001b[0mre\u001b[0m\u001b[0;34m\u001b[0m\u001b[0m\n\u001b[0;32m---> 15\u001b[0;31m \u001b[0;32mimport\u001b[0m \u001b[0mpandas\u001b[0m\u001b[0;34m\u001b[0m\u001b[0m\n\u001b[0m\u001b[1;32m     16\u001b[0m \u001b[0;32mimport\u001b[0m \u001b[0mnumpy\u001b[0m\u001b[0;34m\u001b[0m\u001b[0m\n\u001b[1;32m     17\u001b[0m \u001b[0;32mimport\u001b[0m \u001b[0mmath\u001b[0m\u001b[0;34m\u001b[0m\u001b[0m\n",
      "\u001b[0;32m~/anaconda3/envs/ensae/lib/python3.6/site-packages/pandas/__init__.py\u001b[0m in \u001b[0;36m<module>\u001b[0;34m()\u001b[0m\n\u001b[1;32m     33\u001b[0m                       \u001b[0;34m\"pandas from the source directory, you may need to run \"\u001b[0m\u001b[0;34m\u001b[0m\u001b[0m\n\u001b[1;32m     34\u001b[0m                       \u001b[0;34m\"'python setup.py build_ext --inplace --force' to build \"\u001b[0m\u001b[0;34m\u001b[0m\u001b[0m\n\u001b[0;32m---> 35\u001b[0;31m                       \"the C extensions first.\".format(module))\n\u001b[0m\u001b[1;32m     36\u001b[0m \u001b[0;34m\u001b[0m\u001b[0m\n\u001b[1;32m     37\u001b[0m \u001b[0;32mfrom\u001b[0m \u001b[0mdatetime\u001b[0m \u001b[0;32mimport\u001b[0m \u001b[0mdatetime\u001b[0m\u001b[0;34m\u001b[0m\u001b[0m\n",
      "\u001b[0;31mImportError\u001b[0m: C extension: No module named 'pandas._libs' not built. If you want to import pandas from the source directory, you may need to run 'python setup.py build_ext --inplace --force' to build the C extensions first."
     ]
    }
   ],
   "source": [
    "import pyensae\n",
    "discours = pyensae.download_data('voeux.zip', website = 'xd')"
   ]
  },
  {
   "cell_type": "markdown",
   "metadata": {},
   "source": [
    "La documentation pour les expressions régulières est ici : [regular expressions](http://docs.python.org/3.3/library/re.html). Elles permettent de rechercher des motifs dans un texte :\n",
    "\n",
    "- _4 chiffres / 2 chiffres / 2 chiffres_ correspond au motif des dates, avec une expression régulière, il s'écrit : ``[0-9]{4}/[0-9]{2}/[0-9]{2}``\n",
    "- _la lettre a répété entre 2 et 10 fois_ est un autre motif, il s'écrit : ``a{2,10}``."
   ]
  },
  {
   "cell_type": "code",
   "execution_count": null,
   "metadata": {},
   "outputs": [
    {
     "name": "stdout",
     "output_type": "stream",
     "text": [
      "['28/12/1903', '08/02/1957']\n"
     ]
    }
   ],
   "source": [
    "import re   # les expressions régulières sont accessibles via le module re\n",
    "expression = re.compile(\"[0-9]{2}/[0-9]{2}/[0-9]{4}\")\n",
    "texte = \"\"\"Je suis né le 28/12/1903 et je suis mort le 08/02/1957. Ma seconde femme est morte le 10/11/63.\"\"\"\n",
    "cherche = expression.findall(texte)\n",
    "print(cherche)"
   ]
  },
  {
   "cell_type": "markdown",
   "metadata": {},
   "source": [
    "Pourquoi la troisième date n'apparaît pas dans la liste de résultats ?"
   ]
  },
  {
   "cell_type": "markdown",
   "metadata": {},
   "source": [
    "### Exercice 5 : chercher un motif dans un texte\n",
    "\n",
    "On souhaite obtenir toutes les séquences de lettres commençant par _je_ ? Quel est le motif correspondant ? Il ne reste plus qu'à terminer le programme précédent."
   ]
  },
  {
   "cell_type": "code",
   "execution_count": null,
   "metadata": {
    "collapsed": true
   },
   "outputs": [],
   "source": []
  },
  {
   "cell_type": "markdown",
   "metadata": {},
   "source": [
    "### Exercice 6 : chercher un autre motif dans un texte\n",
    "\n",
    "Avec la même expression régulière, rechercher indifféremment le mot _securite_ ou _insecurite_."
   ]
  },
  {
   "cell_type": "code",
   "execution_count": null,
   "metadata": {
    "collapsed": true
   },
   "outputs": [],
   "source": []
  },
  {
   "cell_type": "markdown",
   "metadata": {},
   "source": [
    "On peut passer du temps à construire des expressions assez complexes surtout quand on oublie quelques [Petites subtilités avec les expressions régulières en Python](http://www.xavierdupre.fr/blog/2014-12-02_nojs.html)."
   ]
  },
  {
   "cell_type": "markdown",
   "metadata": {},
   "source": [
    "### Exercice 7 : construire un texte à motif\n",
    "\n",
    "A l'inverse des expressions régulières, des modules comme [Mako](http://www.makotemplates.org/) ou [Jinja2](http://jinja.pocoo.org/docs/dev/) permettent de construire simplement des documents qui suivent des règles. Ces outils sont très utilisés pour la construction de page web. On appelle cela faire du [templating](https://wiki.python.org/moin/Templating). Créer une page web qui affiche à l'aide d'un des modules la liste des dimanches de cette année."
   ]
  },
  {
   "cell_type": "code",
   "execution_count": null,
   "metadata": {
    "collapsed": true
   },
   "outputs": [],
   "source": []
  }
 ],
 "metadata": {
  "kernelspec": {
   "display_name": "Python 3",
   "language": "python",
   "name": "python3"
  },
  "language_info": {
   "codemirror_mode": {
    "name": "ipython",
    "version": 3
   },
   "file_extension": ".py",
   "mimetype": "text/x-python",
   "name": "python",
   "nbconvert_exporter": "python",
   "pygments_lexer": "ipython3",
   "version": "3.6.2"
  }
 },
 "nbformat": 4,
 "nbformat_minor": 1
}
