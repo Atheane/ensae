{
  "cells": [
    {
      "cell_type": "markdown",
      "metadata": {},
      "source": [
        "# 2A.ml - Statistiques descriptives avec scikit-learn\n",
        "\n",
        "[ACP](https://fr.wikipedia.org/wiki/Analyse_en_composantes_principales), [CAH](https://en.wikipedia.org/wiki/Hierarchical_clustering), [r\u00e9gression lineaire](https://fr.wikipedia.org/wiki/R%C3%A9gression_lin%C3%A9aire)."
      ]
    },
    {
      "cell_type": "code",
      "execution_count": null,
      "metadata": {},
      "outputs": [],
      "source": [
        "%matplotlib inline"
      ]
    },
    {
      "cell_type": "code",
      "execution_count": null,
      "metadata": {
        "collapsed": true
      },
      "outputs": [],
      "source": [
        "import matplotlib.pyplot as plt\n",
        "plt.style.use('ggplot')"
      ]
    },
    {
      "cell_type": "code",
      "execution_count": null,
      "metadata": {},
      "outputs": [
        {
          "data": {
            "text/html": [
              "<div id=\"my_id_menu_nb\">run previous cell, wait for 2 seconds</div>\n",
              "<script>\n",
              "function repeat_indent_string(n){\n",
              "    var a = \"\" ;\n",
              "    for ( ; n > 0 ; --n) {\n",
              "        a += \"    \";\n",
              "    }\n",
              "    return a;\n",
              "}\n",
              "var update_menu_string = function(begin, lfirst, llast, sformat, send, keep_item) {\n",
              "    var anchors = document.getElementsByClassName(\"section\");\n",
              "    if (anchors.length == 0) {\n",
              "        anchors = document.getElementsByClassName(\"text_cell_render rendered_html\");\n",
              "    }\n",
              "    var i,t;\n",
              "    var text_menu = begin;\n",
              "    var text_memo = \"<pre>\\nlength:\" + anchors.length + \"\\n\";\n",
              "    var ind = \"\";\n",
              "    var memo_level = 1;\n",
              "    var href;\n",
              "    var tags = [];\n",
              "    var main_item = 0;\n",
              "    for (i = 0; i <= llast; i++) {\n",
              "        tags.push(\"h\" + i);\n",
              "    }\n",
              "\n",
              "    for (i = 0; i < anchors.length; i++) {\n",
              "        text_memo += \"**\" + anchors[i].id + \"--\\n\";\n",
              "\n",
              "        var child = null;\n",
              "        for(t = 0; t < tags.length; t++) {\n",
              "            var r = anchors[i].getElementsByTagName(tags[t]);\n",
              "            if (r.length > 0) {\n",
              "child = r[0];\n",
              "break;\n",
              "            }\n",
              "        }\n",
              "        if (child == null){\n",
              "            text_memo += \"null\\n\";\n",
              "            continue;\n",
              "        }\n",
              "        if (anchors[i].hasAttribute(\"id\")) {\n",
              "            // when converted in RST\n",
              "            href = anchors[i].id;\n",
              "            text_memo += \"#1-\" + href;\n",
              "            // passer \u00e0 child suivant (le chercher)\n",
              "        }\n",
              "        else if (child.hasAttribute(\"id\")) {\n",
              "            // in a notebook\n",
              "            href = child.id;\n",
              "            text_memo += \"#2-\" + href;\n",
              "        }\n",
              "        else {\n",
              "            text_memo += \"#3-\" + \"*\" + \"\\n\";\n",
              "            continue;\n",
              "        }\n",
              "        var title = child.textContent;\n",
              "        var level = parseInt(child.tagName.substring(1,2));\n",
              "\n",
              "        text_memo += \"--\" + level + \"?\" + lfirst + \"--\" + title + \"\\n\";\n",
              "\n",
              "        if ((level < lfirst) || (level > llast)) {\n",
              "            continue ;\n",
              "        }\n",
              "        if (title.endsWith('\u00b6')) {\n",
              "            title = title.substring(0,title.length-1).replace(\"<\", \"&lt;\").replace(\">\", \"&gt;\").replace(\"&\", \"&amp;\")\n",
              "        }\n",
              "\n",
              "        if (title.length == 0) {\n",
              "            continue;\n",
              "        }\n",
              "\n",
              "        while (level < memo_level) {\n",
              "            text_menu += \"</ul>\\n\";\n",
              "            memo_level -= 1;\n",
              "        }\n",
              "        if (level == lfirst) {\n",
              "            main_item += 1;\n",
              "        }\n",
              "        if (keep_item != -1 && main_item != keep_item + 1) {\n",
              "            // alert(main_item + \" - \" + level + \" - \" + keep_item);\n",
              "            continue;\n",
              "        }\n",
              "        while (level > memo_level) {\n",
              "            text_menu += \"<ul>\\n\";\n",
              "            memo_level += 1;\n",
              "        }\n",
              "        text_menu += repeat_indent_string(level-2) + sformat.replace(\"__HREF__\", href).replace(\"__TITLE__\", title);\n",
              "    }\n",
              "    while (1 < memo_level) {\n",
              "        text_menu += \"</ul>\\n\";\n",
              "        memo_level -= 1;\n",
              "    }\n",
              "    text_menu += send;\n",
              "    //text_menu += \"\\n\" + text_memo;\n",
              "    return text_menu;\n",
              "};\n",
              "var update_menu = function() {\n",
              "    var sbegin = \"\";\n",
              "    var sformat = '<li><a href=\"#__HREF__\">__TITLE__</a></li>';\n",
              "    var send = \"\";\n",
              "    var keep_item = -1;\n",
              "    var text_menu = update_menu_string(sbegin, 2, 4, sformat, send, keep_item);\n",
              "    var menu = document.getElementById(\"my_id_menu_nb\");\n",
              "    menu.innerHTML=text_menu;\n",
              "};\n",
              "window.setTimeout(update_menu,2000);\n",
              "            </script>"
            ],
            "text/plain": [
              "<IPython.core.display.HTML object>"
            ]
          },
          "execution_count": null,
          "metadata": {},
          "output_type": "execute_result"
        }
      ],
      "source": [
        "from jyquickhelper import add_notebook_menu\n",
        "add_notebook_menu()"
      ]
    },
    {
      "cell_type": "markdown",
      "metadata": {},
      "source": [
        "### Introduction\n",
        "\n",
        "Les statistiques descriptives sont abord\u00e9es de la premi\u00e8re ann\u00e9e \u00e0 l'ENSAE. Un des livres que je consulte souvent est celui de Gilles Saporta : [Probabilit\u00e9s, analyse des donn\u00e9es et statistique](http://www.editionstechnip.com/fr/catalogue-detail/149/probabilites-analyse-des-donnees-et-statistique.html) qui est en fran\u00e7ais.\n",
        "\n",
        "Le module [scikit-learn](http://scikit-learn.org/stable/) a largement contribu\u00e9 au succ\u00e8s de Python dans le domaine du [machine learning](http://en.wikipedia.org/wiki/Machine_learning). Ce module inclut de nombreuses techniques regroup\u00e9es sous le terme statistiques descriptives. La correspondance anglais-fran\u00e7ais n'est pas toujours \u00e9vidente. Voici quelques termes :\n",
        "\n",
        "* [ACP](http://fr.wikipedia.org/wiki/ACP) - [PCA](http://scikit-learn.org/stable/modules/decomposition.html#decompositions)\n",
        "* [k-moyennes](http://fr.wikipedia.org/wiki/Algorithme_des_k-moyennes) - [k-means](http://scikit-learn.org/stable/modules/clustering.html#k-means)\n",
        "* [CAH](http://en.wikipedia.org/wiki/CAH) - [Hierarchical Clustering](http://scikit-learn.org/stable/modules/clustering.html#hierarchical-clustering)\n",
        "* [k plus proches voisins](http://fr.wikipedia.org/wiki/Recherche_des_plus_proches_voisins) - [k-PPV](http://scikit-learn.org/stable/modules/neighbors.html)\n",
        "* [analyse lin\u00e9aire discriminante](http://fr.wikipedia.org/wiki/Analyse_discriminante_lin%C3%A9aire) - [LDA](http://scikit-learn.org/stable/modules/classes.html#module-sklearn.lda)\n",
        "* [r\u00e9gression lin\u00e9aire](http://fr.wikipedia.org/wiki/R%C3%A9gression_lin%C3%A9aire) - [linear regression](http://scikit-learn.org/stable/modules/linear_model.html#ordinary-least-squares)\n",
        "\n",
        "\n",
        "[scikit-learn](http://scikit-learn.org/stable/) est orient\u00e9 machine learning, les r\u00e9sultats qu'il produit sont un peu moins complets que [statsmodels](http://statsmodels.sourceforge.net/) pour les mod\u00e8les statistiques lin\u00e9aires ou [fastcluster](http://cran.r-project.org/web/packages/fastcluster/vignettes/fastcluster.pdf) pour la CAH. L'objectif de ces deux heures est d'utiliser ces modules pour \u00e9tudier un jeu de donn\u00e9es :"
      ]
    },
    {
      "cell_type": "markdown",
      "metadata": {},
      "source": [
        "### ACP (Analyse en Composantes Principales)\n",
        "\n",
        "Le site [data.gouv.fr](https://www.data.gouv.fr/) propose de nombreux jeux de donn\u00e9es dont [S\u00e9ries chronologiques Education : les \u00e9l\u00e8ves du second degr\u00e9](https://www.data.gouv.fr/fr/datasets/series-chronologiques-education-les-eleves-du-second-degre/). Ces donn\u00e9es sont \u00e9galement accessibles comme ceci :"
      ]
    },
    {
      "cell_type": "code",
      "execution_count": null,
      "metadata": {},
      "outputs": [
        {
          "name": "stdout",
          "output_type": "stream",
          "text": [
            "(27, 21)\n"
          ]
        },
        {
          "data": {
            "text/html": [
              "<div>\n",
              "<table border=\"1\" class=\"dataframe\">\n",
              "  <thead>\n",
              "    <tr style=\"text-align: right;\">\n",
              "      <th></th>\n",
              "      <th>1993</th>\n",
              "      <th>1994</th>\n",
              "      <th>1995</th>\n",
              "      <th>1996</th>\n",
              "      <th>1997</th>\n",
              "      <th>1998</th>\n",
              "      <th>1999</th>\n",
              "      <th>2000</th>\n",
              "      <th>2001</th>\n",
              "      <th>2002</th>\n",
              "      <th>...</th>\n",
              "      <th>2004</th>\n",
              "      <th>2005</th>\n",
              "      <th>2006</th>\n",
              "      <th>2007</th>\n",
              "      <th>2008</th>\n",
              "      <th>2009</th>\n",
              "      <th>2010</th>\n",
              "      <th>2011</th>\n",
              "      <th>2012</th>\n",
              "      <th>2013</th>\n",
              "    </tr>\n",
              "    <tr>\n",
              "      <th>acad\u00e9mie</th>\n",
              "      <th></th>\n",
              "      <th></th>\n",
              "      <th></th>\n",
              "      <th></th>\n",
              "      <th></th>\n",
              "      <th></th>\n",
              "      <th></th>\n",
              "      <th></th>\n",
              "      <th></th>\n",
              "      <th></th>\n",
              "      <th></th>\n",
              "      <th></th>\n",
              "      <th></th>\n",
              "      <th></th>\n",
              "      <th></th>\n",
              "      <th></th>\n",
              "      <th></th>\n",
              "      <th></th>\n",
              "      <th></th>\n",
              "      <th></th>\n",
              "      <th></th>\n",
              "    </tr>\n",
              "  </thead>\n",
              "  <tbody>\n",
              "    <tr>\n",
              "      <th>Aix-Marseille</th>\n",
              "      <td>241357</td>\n",
              "      <td>242298</td>\n",
              "      <td>242096</td>\n",
              "      <td>242295</td>\n",
              "      <td>243660</td>\n",
              "      <td>244608</td>\n",
              "      <td>245536</td>\n",
              "      <td>247288</td>\n",
              "      <td>249331</td>\n",
              "      <td>250871</td>\n",
              "      <td>...</td>\n",
              "      <td>250622</td>\n",
              "      <td>248208</td>\n",
              "      <td>245755</td>\n",
              "      <td>243832</td>\n",
              "      <td>242309</td>\n",
              "      <td>240664</td>\n",
              "      <td>240432</td>\n",
              "      <td>241336</td>\n",
              "      <td>239051</td>\n",
              "      <td>240115</td>\n",
              "    </tr>\n",
              "    <tr>\n",
              "      <th>Amiens</th>\n",
              "      <td>198281</td>\n",
              "      <td>196871</td>\n",
              "      <td>195709</td>\n",
              "      <td>194055</td>\n",
              "      <td>192893</td>\n",
              "      <td>191862</td>\n",
              "      <td>189636</td>\n",
              "      <td>185977</td>\n",
              "      <td>183357</td>\n",
              "      <td>180973</td>\n",
              "      <td>...</td>\n",
              "      <td>175610</td>\n",
              "      <td>172110</td>\n",
              "      <td>168718</td>\n",
              "      <td>165295</td>\n",
              "      <td>163116</td>\n",
              "      <td>162548</td>\n",
              "      <td>163270</td>\n",
              "      <td>164422</td>\n",
              "      <td>165275</td>\n",
              "      <td>166345</td>\n",
              "    </tr>\n",
              "    <tr>\n",
              "      <th>Besan\u00e7on</th>\n",
              "      <td>116373</td>\n",
              "      <td>115600</td>\n",
              "      <td>114282</td>\n",
              "      <td>113312</td>\n",
              "      <td>112076</td>\n",
              "      <td>110261</td>\n",
              "      <td>108106</td>\n",
              "      <td>105463</td>\n",
              "      <td>103336</td>\n",
              "      <td>102264</td>\n",
              "      <td>...</td>\n",
              "      <td>100117</td>\n",
              "      <td>98611</td>\n",
              "      <td>97038</td>\n",
              "      <td>95779</td>\n",
              "      <td>95074</td>\n",
              "      <td>94501</td>\n",
              "      <td>94599</td>\n",
              "      <td>94745</td>\n",
              "      <td>94351</td>\n",
              "      <td>94613</td>\n",
              "    </tr>\n",
              "    <tr>\n",
              "      <th>Bordeaux</th>\n",
              "      <td>253551</td>\n",
              "      <td>252644</td>\n",
              "      <td>249658</td>\n",
              "      <td>247708</td>\n",
              "      <td>247499</td>\n",
              "      <td>245757</td>\n",
              "      <td>244992</td>\n",
              "      <td>243047</td>\n",
              "      <td>243592</td>\n",
              "      <td>245198</td>\n",
              "      <td>...</td>\n",
              "      <td>244805</td>\n",
              "      <td>244343</td>\n",
              "      <td>242602</td>\n",
              "      <td>242933</td>\n",
              "      <td>243146</td>\n",
              "      <td>244336</td>\n",
              "      <td>246806</td>\n",
              "      <td>250626</td>\n",
              "      <td>252085</td>\n",
              "      <td>255761</td>\n",
              "    </tr>\n",
              "    <tr>\n",
              "      <th>Caen</th>\n",
              "      <td>145435</td>\n",
              "      <td>144369</td>\n",
              "      <td>141883</td>\n",
              "      <td>140658</td>\n",
              "      <td>139585</td>\n",
              "      <td>137704</td>\n",
              "      <td>135613</td>\n",
              "      <td>133255</td>\n",
              "      <td>131206</td>\n",
              "      <td>129271</td>\n",
              "      <td>...</td>\n",
              "      <td>125552</td>\n",
              "      <td>123889</td>\n",
              "      <td>122550</td>\n",
              "      <td>121002</td>\n",
              "      <td>119857</td>\n",
              "      <td>119426</td>\n",
              "      <td>119184</td>\n",
              "      <td>119764</td>\n",
              "      <td>119010</td>\n",
              "      <td>119238</td>\n",
              "    </tr>\n",
              "  </tbody>\n",
              "</table>\n",
              "<p>5 rows \u00d7 21 columns</p>\n",
              "</div>"
            ],
            "text/plain": [
              "                 1993    1994    1995    1996    1997    1998    1999    2000  \\\n",
              "acad\u00e9mie                                                                        \n",
              "Aix-Marseille  241357  242298  242096  242295  243660  244608  245536  247288   \n",
              "Amiens         198281  196871  195709  194055  192893  191862  189636  185977   \n",
              "Besan\u00e7on       116373  115600  114282  113312  112076  110261  108106  105463   \n",
              "Bordeaux       253551  252644  249658  247708  247499  245757  244992  243047   \n",
              "Caen           145435  144369  141883  140658  139585  137704  135613  133255   \n",
              "\n",
              "                 2001    2002   ...      2004    2005    2006    2007    2008  \\\n",
              "acad\u00e9mie                        ...                                             \n",
              "Aix-Marseille  249331  250871   ...    250622  248208  245755  243832  242309   \n",
              "Amiens         183357  180973   ...    175610  172110  168718  165295  163116   \n",
              "Besan\u00e7on       103336  102264   ...    100117   98611   97038   95779   95074   \n",
              "Bordeaux       243592  245198   ...    244805  244343  242602  242933  243146   \n",
              "Caen           131206  129271   ...    125552  123889  122550  121002  119857   \n",
              "\n",
              "                 2009    2010    2011    2012    2013  \n",
              "acad\u00e9mie                                               \n",
              "Aix-Marseille  240664  240432  241336  239051  240115  \n",
              "Amiens         162548  163270  164422  165275  166345  \n",
              "Besan\u00e7on        94501   94599   94745   94351   94613  \n",
              "Bordeaux       244336  246806  250626  252085  255761  \n",
              "Caen           119426  119184  119764  119010  119238  \n",
              "\n",
              "[5 rows x 21 columns]"
            ]
          },
          "execution_count": null,
          "metadata": {},
          "output_type": "execute_result"
        }
      ],
      "source": [
        "import pandas, numpy, pyensae\n",
        "from sklearn.decomposition import PCA\n",
        "import matplotlib.pyplot as plt\n",
        "\n",
        "fichier = pyensae.download_data(\"eleve_region.txt\")\n",
        "df = pandas.read_csv(\"eleve_region.txt\", sep=\"\\t\", encoding=\"utf8\", index_col=0)\n",
        "print(df.shape)\n",
        "df.head(n=5)"
      ]
    },
    {
      "cell_type": "markdown",
      "metadata": {},
      "source": [
        "Pour visualiser les donn\u00e9es, on peut utiliser le module [qgrid](https://github.com/quantopian/qgrid). Ce module fonctionne mieux sous Chrome mais pas tr\u00e8s bien en g\u00e9n\u00e9ral."
      ]
    },
    {
      "cell_type": "code",
      "execution_count": null,
      "metadata": {},
      "outputs": [],
      "source": [
        "import qgrid\n",
        "qgrid.nbinstall(overwrite=True)"
      ]
    },
    {
      "cell_type": "code",
      "execution_count": null,
      "metadata": {},
      "outputs": [
        {
          "name": "stderr",
          "output_type": "stream",
          "text": [
            "Widget Javascript not detected.  It may not be installed properly. Did you enable the widgetsnbextension? If not, then run \"jupyter nbextension enable --py --sys-prefix widgetsnbextension\"\n"
          ]
        }
      ],
      "source": [
        "qgrid.show_grid(df[df.columns[-10:]])"
      ]
    },
    {
      "cell_type": "markdown",
      "metadata": {},
      "source": [
        "Il y a aussi le module [pivottablejs](https://pypi.python.org/pypi/pivottablejs) qui fait beaucoup de choses sauf l'essentiel."
      ]
    },
    {
      "cell_type": "code",
      "execution_count": null,
      "metadata": {
        "collapsed": true
      },
      "outputs": [],
      "source": [
        "import pivottablejs"
      ]
    },
    {
      "cell_type": "code",
      "execution_count": null,
      "metadata": {},
      "outputs": [
        {
          "data": {
            "text/html": [
              "\n",
              "        <iframe\n",
              "            width=\"100%\"\n",
              "            height=\"200\"\n",
              "            src=\"pivottablejs.html\"\n",
              "            frameborder=\"0\"\n",
              "            allowfullscreen\n",
              "        ></iframe>\n",
              "        "
            ],
            "text/plain": [
              "<IPython.lib.display.IFrame at 0x2dd4f0210f0>"
            ]
          },
          "execution_count": null,
          "metadata": {},
          "output_type": "execute_result"
        }
      ],
      "source": [
        "pivottablejs.pivot_ui(df[df.columns[-10:]], height=200)"
      ]
    },
    {
      "cell_type": "markdown",
      "metadata": {},
      "source": [
        "On veut observer l'\u00e9volution du nombre d'\u00e9l\u00e8ves. On prend l'ann\u00e9e 1993 comme base 100."
      ]
    },
    {
      "cell_type": "code",
      "execution_count": null,
      "metadata": {},
      "outputs": [
        {
          "data": {
            "text/html": [
              "<div>\n",
              "<table border=\"1\" class=\"dataframe\">\n",
              "  <thead>\n",
              "    <tr style=\"text-align: right;\">\n",
              "      <th></th>\n",
              "      <th>1993</th>\n",
              "      <th>1994</th>\n",
              "      <th>1995</th>\n",
              "      <th>1996</th>\n",
              "      <th>1997</th>\n",
              "      <th>1998</th>\n",
              "      <th>1999</th>\n",
              "      <th>2000</th>\n",
              "      <th>2001</th>\n",
              "      <th>2002</th>\n",
              "      <th>...</th>\n",
              "      <th>2004</th>\n",
              "      <th>2005</th>\n",
              "      <th>2006</th>\n",
              "      <th>2007</th>\n",
              "      <th>2008</th>\n",
              "      <th>2009</th>\n",
              "      <th>2010</th>\n",
              "      <th>2011</th>\n",
              "      <th>2012</th>\n",
              "      <th>2013</th>\n",
              "    </tr>\n",
              "    <tr>\n",
              "      <th>acad\u00e9mie</th>\n",
              "      <th></th>\n",
              "      <th></th>\n",
              "      <th></th>\n",
              "      <th></th>\n",
              "      <th></th>\n",
              "      <th></th>\n",
              "      <th></th>\n",
              "      <th></th>\n",
              "      <th></th>\n",
              "      <th></th>\n",
              "      <th></th>\n",
              "      <th></th>\n",
              "      <th></th>\n",
              "      <th></th>\n",
              "      <th></th>\n",
              "      <th></th>\n",
              "      <th></th>\n",
              "      <th></th>\n",
              "      <th></th>\n",
              "      <th></th>\n",
              "      <th></th>\n",
              "    </tr>\n",
              "  </thead>\n",
              "  <tbody>\n",
              "    <tr>\n",
              "      <th>Aix-Marseille</th>\n",
              "      <td>1.0</td>\n",
              "      <td>1.003899</td>\n",
              "      <td>1.003062</td>\n",
              "      <td>1.003886</td>\n",
              "      <td>1.009542</td>\n",
              "      <td>1.013470</td>\n",
              "      <td>1.017315</td>\n",
              "      <td>1.024574</td>\n",
              "      <td>1.033038</td>\n",
              "      <td>1.039419</td>\n",
              "      <td>...</td>\n",
              "      <td>1.038387</td>\n",
              "      <td>1.028385</td>\n",
              "      <td>1.018222</td>\n",
              "      <td>1.010255</td>\n",
              "      <td>1.003944</td>\n",
              "      <td>0.997129</td>\n",
              "      <td>0.996168</td>\n",
              "      <td>0.999913</td>\n",
              "      <td>0.990446</td>\n",
              "      <td>0.994854</td>\n",
              "    </tr>\n",
              "    <tr>\n",
              "      <th>Amiens</th>\n",
              "      <td>1.0</td>\n",
              "      <td>0.992889</td>\n",
              "      <td>0.987029</td>\n",
              "      <td>0.978687</td>\n",
              "      <td>0.972826</td>\n",
              "      <td>0.967627</td>\n",
              "      <td>0.956400</td>\n",
              "      <td>0.937947</td>\n",
              "      <td>0.924733</td>\n",
              "      <td>0.912710</td>\n",
              "      <td>...</td>\n",
              "      <td>0.885662</td>\n",
              "      <td>0.868011</td>\n",
              "      <td>0.850904</td>\n",
              "      <td>0.833640</td>\n",
              "      <td>0.822651</td>\n",
              "      <td>0.819786</td>\n",
              "      <td>0.823427</td>\n",
              "      <td>0.829237</td>\n",
              "      <td>0.833539</td>\n",
              "      <td>0.838936</td>\n",
              "    </tr>\n",
              "    <tr>\n",
              "      <th>Besan\u00e7on</th>\n",
              "      <td>1.0</td>\n",
              "      <td>0.993358</td>\n",
              "      <td>0.982032</td>\n",
              "      <td>0.973697</td>\n",
              "      <td>0.963076</td>\n",
              "      <td>0.947479</td>\n",
              "      <td>0.928961</td>\n",
              "      <td>0.906250</td>\n",
              "      <td>0.887972</td>\n",
              "      <td>0.878761</td>\n",
              "      <td>...</td>\n",
              "      <td>0.860311</td>\n",
              "      <td>0.847370</td>\n",
              "      <td>0.833853</td>\n",
              "      <td>0.823035</td>\n",
              "      <td>0.816976</td>\n",
              "      <td>0.812053</td>\n",
              "      <td>0.812895</td>\n",
              "      <td>0.814149</td>\n",
              "      <td>0.810764</td>\n",
              "      <td>0.813015</td>\n",
              "    </tr>\n",
              "    <tr>\n",
              "      <th>Bordeaux</th>\n",
              "      <td>1.0</td>\n",
              "      <td>0.996423</td>\n",
              "      <td>0.984646</td>\n",
              "      <td>0.976955</td>\n",
              "      <td>0.976131</td>\n",
              "      <td>0.969261</td>\n",
              "      <td>0.966243</td>\n",
              "      <td>0.958572</td>\n",
              "      <td>0.960722</td>\n",
              "      <td>0.967056</td>\n",
              "      <td>...</td>\n",
              "      <td>0.965506</td>\n",
              "      <td>0.963684</td>\n",
              "      <td>0.956817</td>\n",
              "      <td>0.958123</td>\n",
              "      <td>0.958963</td>\n",
              "      <td>0.963656</td>\n",
              "      <td>0.973398</td>\n",
              "      <td>0.988464</td>\n",
              "      <td>0.994218</td>\n",
              "      <td>1.008716</td>\n",
              "    </tr>\n",
              "    <tr>\n",
              "      <th>Caen</th>\n",
              "      <td>1.0</td>\n",
              "      <td>0.992670</td>\n",
              "      <td>0.975577</td>\n",
              "      <td>0.967154</td>\n",
              "      <td>0.959776</td>\n",
              "      <td>0.946842</td>\n",
              "      <td>0.932465</td>\n",
              "      <td>0.916251</td>\n",
              "      <td>0.902162</td>\n",
              "      <td>0.888858</td>\n",
              "      <td>...</td>\n",
              "      <td>0.863286</td>\n",
              "      <td>0.851851</td>\n",
              "      <td>0.842644</td>\n",
              "      <td>0.832001</td>\n",
              "      <td>0.824128</td>\n",
              "      <td>0.821164</td>\n",
              "      <td>0.819500</td>\n",
              "      <td>0.823488</td>\n",
              "      <td>0.818304</td>\n",
              "      <td>0.819871</td>\n",
              "    </tr>\n",
              "  </tbody>\n",
              "</table>\n",
              "<p>5 rows \u00d7 21 columns</p>\n",
              "</div>"
            ],
            "text/plain": [
              "               1993      1994      1995      1996      1997      1998  \\\n",
              "acad\u00e9mie                                                                \n",
              "Aix-Marseille   1.0  1.003899  1.003062  1.003886  1.009542  1.013470   \n",
              "Amiens          1.0  0.992889  0.987029  0.978687  0.972826  0.967627   \n",
              "Besan\u00e7on        1.0  0.993358  0.982032  0.973697  0.963076  0.947479   \n",
              "Bordeaux        1.0  0.996423  0.984646  0.976955  0.976131  0.969261   \n",
              "Caen            1.0  0.992670  0.975577  0.967154  0.959776  0.946842   \n",
              "\n",
              "                   1999      2000      2001      2002    ...         2004  \\\n",
              "acad\u00e9mie                                                 ...                \n",
              "Aix-Marseille  1.017315  1.024574  1.033038  1.039419    ...     1.038387   \n",
              "Amiens         0.956400  0.937947  0.924733  0.912710    ...     0.885662   \n",
              "Besan\u00e7on       0.928961  0.906250  0.887972  0.878761    ...     0.860311   \n",
              "Bordeaux       0.966243  0.958572  0.960722  0.967056    ...     0.965506   \n",
              "Caen           0.932465  0.916251  0.902162  0.888858    ...     0.863286   \n",
              "\n",
              "                   2005      2006      2007      2008      2009      2010  \\\n",
              "acad\u00e9mie                                                                    \n",
              "Aix-Marseille  1.028385  1.018222  1.010255  1.003944  0.997129  0.996168   \n",
              "Amiens         0.868011  0.850904  0.833640  0.822651  0.819786  0.823427   \n",
              "Besan\u00e7on       0.847370  0.833853  0.823035  0.816976  0.812053  0.812895   \n",
              "Bordeaux       0.963684  0.956817  0.958123  0.958963  0.963656  0.973398   \n",
              "Caen           0.851851  0.842644  0.832001  0.824128  0.821164  0.819500   \n",
              "\n",
              "                   2011      2012      2013  \n",
              "acad\u00e9mie                                     \n",
              "Aix-Marseille  0.999913  0.990446  0.994854  \n",
              "Amiens         0.829237  0.833539  0.838936  \n",
              "Besan\u00e7on       0.814149  0.810764  0.813015  \n",
              "Bordeaux       0.988464  0.994218  1.008716  \n",
              "Caen           0.823488  0.818304  0.819871  \n",
              "\n",
              "[5 rows x 21 columns]"
            ]
          },
          "execution_count": null,
          "metadata": {},
          "output_type": "execute_result"
        }
      ],
      "source": [
        "for c in df.columns:\n",
        "    if c != \"1993\":\n",
        "        df[c] /= df [\"1993\"]\n",
        "df[\"1993\"] /= df[\"1993\"]\n",
        "df.head()"
      ]
    },
    {
      "cell_type": "markdown",
      "metadata": {},
      "source": [
        "Il n'est pas \u00e9vident d'analyser ce tableaux de chiffres. On utilise une ACP pour projeter les acad\u00e9mies dans un plan."
      ]
    },
    {
      "cell_type": "code",
      "execution_count": null,
      "metadata": {},
      "outputs": [
        {
          "name": "stdout",
          "output_type": "stream",
          "text": [
            "PCA(copy=True, iterated_power='auto', n_components=4, random_state=None,\n",
            "  svd_solver='auto', tol=0.0, whiten=False)\n"
          ]
        },
        {
          "data": {
            "text/plain": [
              "array([  9.63024476e-01,   3.37267932e-02,   1.93116666e-03,\n",
              "         6.61046399e-04])"
            ]
          },
          "execution_count": null,
          "metadata": {},
          "output_type": "execute_result"
        }
      ],
      "source": [
        "pca = PCA(n_components=4)\n",
        "print(pca.fit(df))\n",
        "pca.explained_variance_ratio_"
      ]
    },
    {
      "cell_type": "markdown",
      "metadata": {},
      "source": [
        "Le premier axe explique l'essentiel de la variance. Les variables n'ont pas \u00e9t\u00e9 normalis\u00e9es car elles \u00e9voluent dans les m\u00eames ordres de grandeur."
      ]
    },
    {
      "cell_type": "code",
      "execution_count": null,
      "metadata": {},
      "outputs": [
        {
          "data": {
            "text/plain": [
              "<matplotlib.text.Text at 0x1590976f198>"
            ]
          },
          "execution_count": null,
          "metadata": {},
          "output_type": "execute_result"
        },
        {
          "data": {
            "image/png": "[encoded data removed]",
            "text/plain": [
              "<matplotlib.figure.Figure at 0x159742b5358>"
            ]
          },
          "metadata": {},
          "output_type": "display_data"
        }
      ],
      "source": [
        "plt.bar(numpy.arange(len(pca.explained_variance_ratio_))+0.5, pca.explained_variance_ratio_)\n",
        "plt.title(\"Variance expliqu\u00e9e\")"
      ]
    },
    {
      "cell_type": "markdown",
      "metadata": {},
      "source": [
        "On affiche les acad\u00e9mies dans le plan des deux premiers axes :"
      ]
    },
    {
      "cell_type": "code",
      "execution_count": null,
      "metadata": {},
      "outputs": [
        {
          "data": {
            "image/png": "[encoded data removed]",
            "text/plain": [
              "<matplotlib.figure.Figure at 0x159742c1e10>"
            ]
          },
          "metadata": {},
          "output_type": "display_data"
        }
      ],
      "source": [
        "X_reduced = pca.transform(df)\n",
        "plt.figure(figsize=(18,6))\n",
        "plt.scatter(X_reduced[:, 0], X_reduced[:, 1])\n",
        "\n",
        "for label, x, y in zip(df.index, X_reduced[:, 0], X_reduced[:, 1]):\n",
        "    plt.annotate(\n",
        "        label, \n",
        "        xy = (x, y), xytext = (-10, 10),\n",
        "        textcoords = 'offset points', ha = 'right', va = 'bottom',\n",
        "        bbox = dict(boxstyle = 'round,pad=0.5', fc = 'yellow', alpha = 0.5),\n",
        "        arrowprops = dict(arrowstyle = '->', connectionstyle = 'arc3,rad=0'))"
      ]
    },
    {
      "cell_type": "markdown",
      "metadata": {},
      "source": [
        "Puis on v\u00e9rifie que deux villes proches ont le m\u00eame profil d'\u00e9volution au cours des ann\u00e9es :"
      ]
    },
    {
      "cell_type": "code",
      "execution_count": null,
      "metadata": {},
      "outputs": [
        {
          "data": {
            "text/plain": [
              "<matplotlib.axes._subplots.AxesSubplot at 0x159743bd358>"
            ]
          },
          "execution_count": null,
          "metadata": {},
          "output_type": "execute_result"
        },
        {
          "data": {
            "image/png": "[encoded data removed]",
            "text/plain": [
              "<matplotlib.figure.Figure at 0x159726a2e48>"
            ]
          },
          "metadata": {},
          "output_type": "display_data"
        }
      ],
      "source": [
        "sub = df.loc[[\"Paris\",\"Bordeaux\", \"Lyon\", \"Nice\", \"La R\u00e9union\", \"Reims\"],:]\n",
        "sub.transpose().plot(figsize =(10,4))"
      ]
    },
    {
      "cell_type": "markdown",
      "metadata": {},
      "source": [
        "L'[ACP version statsmodels](http://statsmodels.sourceforge.net/devel/generated/statsmodels.sandbox.tools.tools_pca.pca.html) produit le m\u00eame type de r\u00e9sultats. Un exemple est disponible ici : [PCA and Biplot using Python](http://okomestudio.net/biboroku/?p=2292)."
      ]
    },
    {
      "cell_type": "markdown",
      "metadata": {},
      "source": [
        "### Exercice 1 : CAH (classification ascendante hi\u00e9rarchique)\n",
        "\n",
        "Le point commun de ces m\u00e9thodes est qu'elles ne sont pas supervis\u00e9es. L'objectif est de r\u00e9duire la complexit\u00e9 des donn\u00e9es. R\u00e9duire le nombre de dimensions pour l'ACP ou segmenter les observations pour les k-means et la CAH. On propose d'utiliser une CAH sur les m\u00eames donn\u00e9es."
      ]
    },
    {
      "cell_type": "markdown",
      "metadata": {},
      "source": [
        "#### version scikit-learn\n",
        "\n",
        "Le module [scikit-learn.cluster](http://scikit-learn.org/stable/modules/clustering.html#hierarchical-clustering) ne propose pas de fonction pour dessiner le [dendrogram](http://en.wikipedia.org/wiki/Dendrogram). Il faudra utiliser celle-ci : [dendrogram](http://docs.scipy.org/doc/scipy/reference/generated/scipy.cluster.hierarchy.dendrogram.html) et sans doute s'inspirer du code suivant."
      ]
    },
    {
      "cell_type": "code",
      "execution_count": null,
      "metadata": {},
      "outputs": [],
      "source": [
        "from sklearn.cluster import AgglomerativeClustering\n",
        "ward = AgglomerativeClustering(linkage='ward', compute_full_tree=True).fit(df)\n",
        "dendro = [ ]\n",
        "for a,b in ward.children_:\n",
        "    dendro.append([a,b,float(len(dendro)+1),len(dendro)+1])"
      ]
    },
    {
      "cell_type": "markdown",
      "metadata": {},
      "source": [
        "#### version fastcluster\n",
        "\n",
        "Pour cela, il faut s'inspirer de l'exemple [Comparison of Python packages for hierarchical clustering](http://nbviewer.ipython.org/github/OxanaSachenkova/hclust-python/blob/master/hclust.ipynb) ou [Hierarchical clustering](http://nbviewer.ipython.org/github/herrfz/dataanalysis/blob/master/week3/hierarchical_clustering.ipynb) si le module ``fastcluster`` n'est pas install\u00e9."
      ]
    },
    {
      "cell_type": "code",
      "execution_count": null,
      "metadata": {},
      "outputs": [],
      "source": []
    },
    {
      "cell_type": "markdown",
      "metadata": {},
      "source": [
        "### Exercice 2 : r\u00e9gression\n",
        "\n",
        "Ce sont trois m\u00e9thodes supervis\u00e9es : on s'en sert pour expliquer pr\u00e9dire le lien entre deux variables $X$ et $Y$ (ou ensemble de variables) ou pr\u00e9dire $Y$ en fonction de $X$. Pour cet exercice, on r\u00e9cup\u00e8re des donn\u00e9es relatives aux salaires [Salaires et revenus d'activit\u00e9s](http://www.insee.fr/fr/themes/detail.asp?ref_id=fd-dads2010&page=fichiers_detail/dads2010/description.htm). La r\u00e9cup\u00e9ration des donn\u00e9es est assez fastidieuse. La premi\u00e8re \u00e9tape consiste \u00e0 t\u00e9l\u00e9charger les donn\u00e9es depuis le site de l'[INSEE](http://www.insee.fr/). La seconde \u00e9tape consiste \u00e0 convertir les donn\u00e9es au format [sqlite3](https://docs.python.org/3.4/library/sqlite3.html). Pour ce fichier, ce travail a d\u00e9j\u00e0 \u00e9t\u00e9 effectu\u00e9 et peut \u00eatre t\u00e9l\u00e9charg\u00e9 depuis mon site. La base comprend 2 millions de lignes."
      ]
    },
    {
      "cell_type": "code",
      "execution_count": null,
      "metadata": {},
      "outputs": [
        {
          "data": {
            "text/plain": [
              "['varmod_salarie.dbf',\n",
              " 'lisezmoi_salaries10.txt',\n",
              " 'salaries10.DBF',\n",
              " 'varlist_salari\u00e9.dbf']"
            ]
          },
          "execution_count": null,
          "metadata": {},
          "output_type": "execute_result"
        }
      ],
      "source": [
        "import pyensae\n",
        "f = pyensae.download_data(\"dads2010_gf_salaries10_dbase.zip\",\n",
        "                          website=\"http://telechargement.insee.fr/fichiersdetail/dads2010/dbase/\")\n",
        "f"
      ]
    },
    {
      "cell_type": "code",
      "execution_count": null,
      "metadata": {},
      "outputs": [
        {
          "name": "stdout",
          "output_type": "stream",
          "text": [
            "convert dbase into sqllite\n",
            "SQL  'drop table if exists salaries10'\n",
            "SQL  'create table salaries (A6 TEXT, A17 TEXT, A38 TEXT, REGR TEXT, DEPR TEXT, REGT TEXT, DEPT TEXT, SEXE TEXT, PCS TEXT, CONT_TRAV TEXT, CONV_COLL TEXT, TYP_EMPLOI TEXT, DUREE REAL, DATDEB REAL, DATFIN REAL, CPFD TEXT, DOMEMPL TEXT, DOMEMPL_EM TEXT, FILT TEXT, AGE REAL, CS TEXT, NB_PER REAL, NB_PER_N REAL, NBHEUR REAL, NBHEUR_TOT REAL, TRALCHT TEXT, TREFF TEXT, TRNETTOT TEXT, POND REAL)'\n",
            "moving line  0  to table salaries\n",
            "moving line  20000  to table salaries\n",
            "moving line  40000  to table salaries\n",
            "moving line  60000  to table salaries\n",
            "moving line  80000  to table salaries\n",
            "moving line  100000  to table salaries\n",
            "moving line  120000  to table salaries\n",
            "moving line  140000  to table salaries\n",
            "moving line  160000  to table salaries\n",
            "moving line  180000  to table salaries\n",
            "moving line  200000  to table salaries\n",
            "moving line  220000  to table salaries\n",
            "moving line  240000  to table salaries\n",
            "moving line  260000  to table salaries\n",
            "moving line  280000  to table salaries\n",
            "moving line  300000  to table salaries\n",
            "moving line  320000  to table salaries\n",
            "moving line  340000  to table salaries\n",
            "moving line  360000  to table salaries\n",
            "moving line  380000  to table salaries\n",
            "moving line  400000  to table salaries\n",
            "moving line  420000  to table salaries\n",
            "moving line  440000  to table salaries\n",
            "moving line  460000  to table salaries\n",
            "moving line  480000  to table salaries\n",
            "moving line  500000  to table salaries\n",
            "moving line  520000  to table salaries\n",
            "moving line  540000  to table salaries\n",
            "moving line  560000  to table salaries\n",
            "moving line  580000  to table salaries\n",
            "moving line  600000  to table salaries\n",
            "moving line  620000  to table salaries\n",
            "moving line  640000  to table salaries\n",
            "moving line  660000  to table salaries\n",
            "moving line  680000  to table salaries\n",
            "moving line  700000  to table salaries\n",
            "moving line  720000  to table salaries\n",
            "moving line  740000  to table salaries\n",
            "moving line  760000  to table salaries\n",
            "moving line  780000  to table salaries\n",
            "moving line  800000  to table salaries\n",
            "moving line  820000  to table salaries\n",
            "moving line  840000  to table salaries\n",
            "moving line  860000  to table salaries\n",
            "moving line  880000  to table salaries\n",
            "moving line  900000  to table salaries\n",
            "moving line  920000  to table salaries\n",
            "moving line  940000  to table salaries\n",
            "moving line  960000  to table salaries\n",
            "moving line  980000  to table salaries\n",
            "moving line  1000000  to table salaries\n",
            "moving line  1020000  to table salaries\n",
            "moving line  1040000  to table salaries\n",
            "moving line  1060000  to table salaries\n",
            "moving line  1080000  to table salaries\n",
            "moving line  1100000  to table salaries\n",
            "moving line  1120000  to table salaries\n",
            "moving line  1140000  to table salaries\n",
            "moving line  1160000  to table salaries\n",
            "moving line  1180000  to table salaries\n",
            "moving line  1200000  to table salaries\n",
            "moving line  1220000  to table salaries\n",
            "moving line  1240000  to table salaries\n",
            "moving line  1260000  to table salaries\n",
            "moving line  1280000  to table salaries\n",
            "moving line  1300000  to table salaries\n",
            "moving line  1320000  to table salaries\n",
            "moving line  1340000  to table salaries\n",
            "moving line  1360000  to table salaries\n",
            "moving line  1380000  to table salaries\n",
            "moving line  1400000  to table salaries\n",
            "moving line  1420000  to table salaries\n",
            "moving line  1440000  to table salaries\n",
            "moving line  1460000  to table salaries\n",
            "moving line  1480000  to table salaries\n",
            "moving line  1500000  to table salaries\n",
            "moving line  1520000  to table salaries\n",
            "moving line  1540000  to table salaries\n",
            "moving line  1560000  to table salaries\n",
            "moving line  1580000  to table salaries\n",
            "moving line  1600000  to table salaries\n",
            "moving line  1620000  to table salaries\n",
            "moving line  1640000  to table salaries\n",
            "moving line  1660000  to table salaries\n",
            "moving line  1680000  to table salaries\n",
            "moving line  1700000  to table salaries\n",
            "moving line  1720000  to table salaries\n",
            "moving line  1740000  to table salaries\n",
            "moving line  1760000  to table salaries\n",
            "moving line  1780000  to table salaries\n",
            "moving line  1800000  to table salaries\n",
            "moving line  1820000  to table salaries\n",
            "moving line  1840000  to table salaries\n",
            "moving line  1860000  to table salaries\n",
            "moving line  1880000  to table salaries\n",
            "moving line  1900000  to table salaries\n",
            "moving line  1920000  to table salaries\n",
            "moving line  1940000  to table salaries\n",
            "moving line  1960000  to table salaries\n",
            "moving line  1980000  to table salaries\n",
            "moving line  2000000  to table salaries\n",
            "moving line  2020000  to table salaries\n",
            "moving line  2040000  to table salaries\n",
            "moving line  2060000  to table salaries\n",
            "moving line  2080000  to table salaries\n",
            "moving line  2100000  to table salaries\n",
            "moving line  2120000  to table salaries\n",
            "moving line  2140000  to table salaries\n",
            "moving line  2160000  to table salaries\n",
            "moving line  2180000  to table salaries\n"
          ]
        }
      ],
      "source": [
        "import pandas\n",
        "try:\n",
        "    from dbfread import DBF\n",
        "    use_dbfread = True\n",
        "except ImportError as e :\n",
        "    use_dbfread = False\n",
        "    \n",
        "if use_dbfread:\n",
        "    import os\n",
        "    for name in os.listdir(\".\"):\n",
        "        if name == \"salaries2010.db3\":\n",
        "            os.remove(name)\n",
        "    print(\"convert dbase into sqllite\")\n",
        "    from pyensae.datasource import dBase2sqllite  # fonction ajout\u00e9e 10/2014\n",
        "    dBase2sqllite(\"salaries2010.db3\", \"varlist_salari\u00e9.dbf\", overwrite_table=\"varlist\")\n",
        "    dBase2sqllite(\"salaries2010.db3\", \"varmod_salarie.dbf\", overwrite_table=\"varmod\")\n",
        "    dBase2sqllite(\"salaries2010.db3\", 'salaries10.dbf', overwrite_table=\"salaries\", fLOG = print)\n",
        "else :\n",
        "    print(\"use of zipped version\")\n",
        "    import pyensae\n",
        "    db3 = pyensae.download_data(\"salaries2010.zip\")\n",
        "    # pour aller plus vite, donn\u00e9e \u00e0 t\u00e9l\u00e9charger au\n",
        "    # http://www.xavierdupre.fr/enseignement/complements/salaries2010.zip"
      ]
    },
    {
      "cell_type": "markdown",
      "metadata": {},
      "source": [
        "Les donn\u00e9es des salaires ne sont pas num\u00e9riques, elles correspondent \u00e0 des intervalles qu'on convertit en prenant le milieu de l'intervalle. Pour le dernier, on prend la borne sup\u00e9rieure."
      ]
    },
    {
      "cell_type": "code",
      "execution_count": null,
      "metadata": {},
      "outputs": [
        {
          "data": {
            "text/html": [
              "<div>\n",
              "<table border=\"1\" class=\"dataframe\">\n",
              "  <thead>\n",
              "    <tr style=\"text-align: right;\">\n",
              "      <th></th>\n",
              "      <th>VARIABLE</th>\n",
              "      <th>MODALITE</th>\n",
              "      <th>MODLIBELLE</th>\n",
              "      <th>montant</th>\n",
              "    </tr>\n",
              "  </thead>\n",
              "  <tbody>\n",
              "    <tr>\n",
              "      <th>1726</th>\n",
              "      <td>TRNETTOT</td>\n",
              "      <td>00</td>\n",
              "      <td>Moins de 200 euros</td>\n",
              "      <td>100.0</td>\n",
              "    </tr>\n",
              "    <tr>\n",
              "      <th>1727</th>\n",
              "      <td>TRNETTOT</td>\n",
              "      <td>01</td>\n",
              "      <td>200 \u00e0 499 euros</td>\n",
              "      <td>349.5</td>\n",
              "    </tr>\n",
              "    <tr>\n",
              "      <th>1728</th>\n",
              "      <td>TRNETTOT</td>\n",
              "      <td>02</td>\n",
              "      <td>500 \u00e0 999 euros</td>\n",
              "      <td>749.5</td>\n",
              "    </tr>\n",
              "    <tr>\n",
              "      <th>1729</th>\n",
              "      <td>TRNETTOT</td>\n",
              "      <td>03</td>\n",
              "      <td>1 000 \u00e0 1 499 euros</td>\n",
              "      <td>1249.5</td>\n",
              "    </tr>\n",
              "    <tr>\n",
              "      <th>1730</th>\n",
              "      <td>TRNETTOT</td>\n",
              "      <td>04</td>\n",
              "      <td>1 500 \u00e0 1 999 euros</td>\n",
              "      <td>1749.5</td>\n",
              "    </tr>\n",
              "  </tbody>\n",
              "</table>\n",
              "</div>"
            ],
            "text/plain": [
              "      VARIABLE MODALITE           MODLIBELLE  montant\n",
              "1726  TRNETTOT       00   Moins de 200 euros    100.0\n",
              "1727  TRNETTOT       01      200 \u00e0 499 euros    349.5\n",
              "1728  TRNETTOT       02      500 \u00e0 999 euros    749.5\n",
              "1729  TRNETTOT       03  1 000 \u00e0 1 499 euros   1249.5\n",
              "1730  TRNETTOT       04  1 500 \u00e0 1 999 euros   1749.5"
            ]
          },
          "execution_count": null,
          "metadata": {},
          "output_type": "execute_result"
        }
      ],
      "source": [
        "import sqlite3, pandas\n",
        "con = sqlite3.connect(\"salaries2010.db3\")\n",
        "df = pandas.io.sql.read_sql(\"select * from varmod\", con)\n",
        "con.close()\n",
        "\n",
        "values = df[ df.VARIABLE == \"TRNETTOT\"].copy()\n",
        "\n",
        "def process_intervalle(s):\n",
        "    if \"euros et plus\" in s : \n",
        "        return float ( s.replace(\"euros et plus\", \"\").replace(\" \",\"\") )\n",
        "    spl = s.split(\"\u00e0\")\n",
        "    if len(spl) == 2 : \n",
        "        s1 = spl[0].replace(\"Moins de\",\"\").replace(\"euros\",\"\").replace(\" \",\"\")\n",
        "        s2 = spl[1].replace(\"Moins de\",\"\").replace(\"euros\",\"\").replace(\" \",\"\")\n",
        "        return (float(s1)+float(s2))/2\n",
        "    else : \n",
        "        s = spl[0].replace(\"Moins de\",\"\").replace(\"euros\",\"\").replace(\" \",\"\")\n",
        "        return float(s)/2\n",
        "\n",
        "values[\"montant\"] = values.apply(lambda r : process_intervalle(r [\"MODLIBELLE\"]), axis = 1)\n",
        "values.head()"
      ]
    },
    {
      "cell_type": "markdown",
      "metadata": {},
      "source": [
        "On cr\u00e9e la base d'apprentissage :"
      ]
    },
    {
      "cell_type": "code",
      "execution_count": null,
      "metadata": {},
      "outputs": [
        {
          "data": {
            "text/html": [
              "<div>\n",
              "<table border=\"1\" class=\"dataframe\">\n",
              "  <thead>\n",
              "    <tr style=\"text-align: right;\">\n",
              "      <th></th>\n",
              "      <th>TRNETTOT</th>\n",
              "      <th>AGE</th>\n",
              "      <th>SEXE</th>\n",
              "      <th>VARIABLE</th>\n",
              "      <th>MODALITE</th>\n",
              "      <th>MODLIBELLE</th>\n",
              "      <th>montant</th>\n",
              "    </tr>\n",
              "  </thead>\n",
              "  <tbody>\n",
              "    <tr>\n",
              "      <th>0</th>\n",
              "      <td>14</td>\n",
              "      <td>50.0</td>\n",
              "      <td>1</td>\n",
              "      <td>TRNETTOT</td>\n",
              "      <td>14</td>\n",
              "      <td>18 000 \u00e0 19 999 euros</td>\n",
              "      <td>18999.5</td>\n",
              "    </tr>\n",
              "    <tr>\n",
              "      <th>1</th>\n",
              "      <td>14</td>\n",
              "      <td>41.0</td>\n",
              "      <td>1</td>\n",
              "      <td>TRNETTOT</td>\n",
              "      <td>14</td>\n",
              "      <td>18 000 \u00e0 19 999 euros</td>\n",
              "      <td>18999.5</td>\n",
              "    </tr>\n",
              "    <tr>\n",
              "      <th>2</th>\n",
              "      <td>14</td>\n",
              "      <td>29.0</td>\n",
              "      <td>1</td>\n",
              "      <td>TRNETTOT</td>\n",
              "      <td>14</td>\n",
              "      <td>18 000 \u00e0 19 999 euros</td>\n",
              "      <td>18999.5</td>\n",
              "    </tr>\n",
              "    <tr>\n",
              "      <th>3</th>\n",
              "      <td>14</td>\n",
              "      <td>30.0</td>\n",
              "      <td>1</td>\n",
              "      <td>TRNETTOT</td>\n",
              "      <td>14</td>\n",
              "      <td>18 000 \u00e0 19 999 euros</td>\n",
              "      <td>18999.5</td>\n",
              "    </tr>\n",
              "    <tr>\n",
              "      <th>4</th>\n",
              "      <td>14</td>\n",
              "      <td>55.0</td>\n",
              "      <td>1</td>\n",
              "      <td>TRNETTOT</td>\n",
              "      <td>14</td>\n",
              "      <td>18 000 \u00e0 19 999 euros</td>\n",
              "      <td>18999.5</td>\n",
              "    </tr>\n",
              "  </tbody>\n",
              "</table>\n",
              "</div>"
            ],
            "text/plain": [
              "  TRNETTOT   AGE SEXE  VARIABLE MODALITE             MODLIBELLE  montant\n",
              "0       14  50.0    1  TRNETTOT       14  18 000 \u00e0 19 999 euros  18999.5\n",
              "1       14  41.0    1  TRNETTOT       14  18 000 \u00e0 19 999 euros  18999.5\n",
              "2       14  29.0    1  TRNETTOT       14  18 000 \u00e0 19 999 euros  18999.5\n",
              "3       14  30.0    1  TRNETTOT       14  18 000 \u00e0 19 999 euros  18999.5\n",
              "4       14  55.0    1  TRNETTOT       14  18 000 \u00e0 19 999 euros  18999.5"
            ]
          },
          "execution_count": null,
          "metadata": {},
          "output_type": "execute_result"
        }
      ],
      "source": [
        "import sqlite3, pandas\n",
        "con = sqlite3.connect(\"salaries2010.db3\")\n",
        "data = pandas.io.sql.read_sql(\"select TRNETTOT,AGE,SEXE from salaries\", con)\n",
        "con.close()\n",
        "\n",
        "salaires = data.merge ( values, left_on = \"TRNETTOT\", right_on=\"MODALITE\" )\n",
        "salaires.head()"
      ]
    },
    {
      "cell_type": "markdown",
      "metadata": {},
      "source": [
        "On r\u00e9cup\u00e8re les variables utiles pour la r\u00e9gression :"
      ]
    },
    {
      "cell_type": "code",
      "execution_count": null,
      "metadata": {},
      "outputs": [
        {
          "data": {
            "text/html": [
              "<div>\n",
              "<table border=\"1\" class=\"dataframe\">\n",
              "  <thead>\n",
              "    <tr style=\"text-align: right;\">\n",
              "      <th></th>\n",
              "      <th>AGE</th>\n",
              "      <th>M</th>\n",
              "      <th>F</th>\n",
              "      <th>montant</th>\n",
              "    </tr>\n",
              "  </thead>\n",
              "  <tbody>\n",
              "    <tr>\n",
              "      <th>0</th>\n",
              "      <td>50.0</td>\n",
              "      <td>1</td>\n",
              "      <td>0</td>\n",
              "      <td>18999.5</td>\n",
              "    </tr>\n",
              "    <tr>\n",
              "      <th>1</th>\n",
              "      <td>41.0</td>\n",
              "      <td>1</td>\n",
              "      <td>0</td>\n",
              "      <td>18999.5</td>\n",
              "    </tr>\n",
              "    <tr>\n",
              "      <th>2</th>\n",
              "      <td>29.0</td>\n",
              "      <td>1</td>\n",
              "      <td>0</td>\n",
              "      <td>18999.5</td>\n",
              "    </tr>\n",
              "    <tr>\n",
              "      <th>3</th>\n",
              "      <td>30.0</td>\n",
              "      <td>1</td>\n",
              "      <td>0</td>\n",
              "      <td>18999.5</td>\n",
              "    </tr>\n",
              "    <tr>\n",
              "      <th>4</th>\n",
              "      <td>55.0</td>\n",
              "      <td>1</td>\n",
              "      <td>0</td>\n",
              "      <td>18999.5</td>\n",
              "    </tr>\n",
              "  </tbody>\n",
              "</table>\n",
              "</div>"
            ],
            "text/plain": [
              "    AGE  M  F  montant\n",
              "0  50.0  1  0  18999.5\n",
              "1  41.0  1  0  18999.5\n",
              "2  29.0  1  0  18999.5\n",
              "3  30.0  1  0  18999.5\n",
              "4  55.0  1  0  18999.5"
            ]
          },
          "execution_count": null,
          "metadata": {},
          "output_type": "execute_result"
        }
      ],
      "source": [
        "salaires[\"M\"] = salaires.apply( lambda r : 1 if r[\"SEXE\"] == \"1\" else 0, axis=1)\n",
        "salaires[\"F\"] = salaires.apply( lambda r : 1 if r[\"SEXE\"] == \"2\" else 0, axis=1)\n",
        "data = salaires[[\"AGE\",\"M\",\"F\",\"montant\"]]\n",
        "data = data [data.M + data.F > 0]\n",
        "data.head()"
      ]
    },
    {
      "cell_type": "markdown",
      "metadata": {},
      "source": [
        "Il ne reste plus qu'\u00e0 faire la r\u00e9gression."
      ]
    },
    {
      "cell_type": "markdown",
      "metadata": {},
      "source": [
        "#### version scikit-learn\n",
        "\n",
        "Vous pouvez vous inspirer de cet [exemple](http://scikit-learn.org/stable/auto_examples/linear_model/plot_ols.html)."
      ]
    },
    {
      "cell_type": "code",
      "execution_count": null,
      "metadata": {},
      "outputs": [],
      "source": []
    },
    {
      "cell_type": "markdown",
      "metadata": {},
      "source": [
        "#### version statsmodels\n",
        "\n",
        "L'exemple avec ce module est [ici](http://statsmodels.sourceforge.net/devel/examples/notebooks/generated/ols.html)."
      ]
    },
    {
      "cell_type": "code",
      "execution_count": null,
      "metadata": {},
      "outputs": [],
      "source": []
    }
  ],
  "metadata": {
    "kernelspec": {
      "display_name": "Python 3",
      "language": "python",
      "name": "python3"
    },
    "language_info": {
      "codemirror_mode": {
        "name": "ipython",
        "version": 3
      },
      "file_extension": ".py",
      "mimetype": "text/x-python",
      "name": "python",
      "nbconvert_exporter": "python",
      "pygments_lexer": "ipython3",
      "version": "3.6.1"
    },
    "widgets": {
      "state": {
        "37694361e5da4eb38daa525f8bb2117c": {
          "views": [
            {
              "cell_index": 9
            }
          ]
        }
      },
      "version": "1.2.0"
    }
  },
  "nbformat": 4,
  "nbformat_minor": 1
}