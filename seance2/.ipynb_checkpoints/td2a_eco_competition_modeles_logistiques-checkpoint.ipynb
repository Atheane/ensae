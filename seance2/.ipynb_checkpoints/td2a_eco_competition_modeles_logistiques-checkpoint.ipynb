{
 "cells": [
  {
   "cell_type": "markdown",
   "metadata": {},
   "source": [
    "# 2A.ml - 2016 - Compétition ENSAE - Premiers modèles\n",
    "\n",
    "Une compétition était proposée dans le cadre du cours *Python pour un Data Scientist* à l'[ENSAE](http://www.ensae.fr/ensae/fr/). Ce notebook facilite la prise en main des données et propose de mettre en oeuvre un modèle logit."
   ]
  },
  {
   "cell_type": "code",
   "execution_count": 2,
   "metadata": {},
   "outputs": [
    {
     "name": "stdout",
     "output_type": "stream",
     "text": [
      "Collecting pyensae\n",
      "  Downloading pyensae-1.1.675-py3-none-any.whl (553kB)\n",
      "\u001b[K    100% |████████████████████████████████| 563kB 1.6MB/s eta 0:00:01\n",
      "\u001b[?25hInstalling collected packages: pyensae\n",
      "Successfully installed pyensae-1.1.675\n"
     ]
    }
   ],
   "source": [
    "! pip install pyensae --no-deps"
   ]
  },
  {
   "cell_type": "code",
   "execution_count": 4,
   "metadata": {},
   "outputs": [
    {
     "name": "stdout",
     "output_type": "stream",
     "text": [
      "Collecting jyquickhelper\n",
      "  Using cached jyquickhelper-0.2.54-py3-none-any.whl\n",
      "Installing collected packages: jyquickhelper\n",
      "Successfully installed jyquickhelper-0.2.54\n"
     ]
    }
   ],
   "source": [
    "! pip install jyquickhelper"
   ]
  },
  {
   "cell_type": "code",
   "execution_count": 5,
   "metadata": {},
   "outputs": [
    {
     "data": {
      "text/html": [
       "<div id=\"my_id_menu_nb\">run previous cell, wait for 2 seconds</div>\n",
       "<script>\n",
       "function repeat_indent_string(n){\n",
       "    var a = \"\" ;\n",
       "    for ( ; n > 0 ; --n) {\n",
       "        a += \"    \";\n",
       "    }\n",
       "    return a;\n",
       "}\n",
       "var update_menu_string = function(begin, lfirst, llast, sformat, send, keep_item) {\n",
       "    var anchors = document.getElementsByClassName(\"section\");\n",
       "    if (anchors.length == 0) {\n",
       "        anchors = document.getElementsByClassName(\"text_cell_render rendered_html\");\n",
       "    }\n",
       "    var i,t;\n",
       "    var text_menu = begin;\n",
       "    var text_memo = \"<pre>\\nlength:\" + anchors.length + \"\\n\";\n",
       "    var ind = \"\";\n",
       "    var memo_level = 1;\n",
       "    var href;\n",
       "    var tags = [];\n",
       "    var main_item = 0;\n",
       "    for (i = 0; i <= llast; i++) {\n",
       "        tags.push(\"h\" + i);\n",
       "    }\n",
       "\n",
       "    for (i = 0; i < anchors.length; i++) {\n",
       "        text_memo += \"**\" + anchors[i].id + \"--\\n\";\n",
       "\n",
       "        var child = null;\n",
       "        for(t = 0; t < tags.length; t++) {\n",
       "            var r = anchors[i].getElementsByTagName(tags[t]);\n",
       "            if (r.length > 0) {\n",
       "child = r[0];\n",
       "break;\n",
       "            }\n",
       "        }\n",
       "        if (child == null){\n",
       "            text_memo += \"null\\n\";\n",
       "            continue;\n",
       "        }\n",
       "        if (anchors[i].hasAttribute(\"id\")) {\n",
       "            // when converted in RST\n",
       "            href = anchors[i].id;\n",
       "            text_memo += \"#1-\" + href;\n",
       "            // passer à child suivant (le chercher)\n",
       "        }\n",
       "        else if (child.hasAttribute(\"id\")) {\n",
       "            // in a notebook\n",
       "            href = child.id;\n",
       "            text_memo += \"#2-\" + href;\n",
       "        }\n",
       "        else {\n",
       "            text_memo += \"#3-\" + \"*\" + \"\\n\";\n",
       "            continue;\n",
       "        }\n",
       "        var title = child.textContent;\n",
       "        var level = parseInt(child.tagName.substring(1,2));\n",
       "\n",
       "        text_memo += \"--\" + level + \"?\" + lfirst + \"--\" + title + \"\\n\";\n",
       "\n",
       "        if ((level < lfirst) || (level > llast)) {\n",
       "            continue ;\n",
       "        }\n",
       "        if (title.endsWith('¶')) {\n",
       "            title = title.substring(0,title.length-1).replace(\"<\", \"&lt;\").replace(\">\", \"&gt;\").replace(\"&\", \"&amp;\")\n",
       "        }\n",
       "\n",
       "        if (title.length == 0) {\n",
       "            continue;\n",
       "        }\n",
       "\n",
       "        while (level < memo_level) {\n",
       "            text_menu += \"</ul>\\n\";\n",
       "            memo_level -= 1;\n",
       "        }\n",
       "        if (level == lfirst) {\n",
       "            main_item += 1;\n",
       "        }\n",
       "        if (keep_item != -1 && main_item != keep_item + 1) {\n",
       "            // alert(main_item + \" - \" + level + \" - \" + keep_item);\n",
       "            continue;\n",
       "        }\n",
       "        while (level > memo_level) {\n",
       "            text_menu += \"<ul>\\n\";\n",
       "            memo_level += 1;\n",
       "        }\n",
       "        text_menu += repeat_indent_string(level-2) + sformat.replace(\"__HREF__\", href).replace(\"__TITLE__\", title);\n",
       "    }\n",
       "    while (1 < memo_level) {\n",
       "        text_menu += \"</ul>\\n\";\n",
       "        memo_level -= 1;\n",
       "    }\n",
       "    text_menu += send;\n",
       "    //text_menu += \"\\n\" + text_memo;\n",
       "    return text_menu;\n",
       "};\n",
       "var update_menu = function() {\n",
       "    var sbegin = \"\";\n",
       "    var sformat = '<li><a href=\"#__HREF__\">__TITLE__</a></li>';\n",
       "    var send = \"\";\n",
       "    var keep_item = -1;\n",
       "    var text_menu = update_menu_string(sbegin, 2, 4, sformat, send, keep_item);\n",
       "    var menu = document.getElementById(\"my_id_menu_nb\");\n",
       "    menu.innerHTML=text_menu;\n",
       "};\n",
       "window.setTimeout(update_menu,2000);\n",
       "            </script>"
      ],
      "text/plain": [
       "<IPython.core.display.HTML object>"
      ]
     },
     "execution_count": 5,
     "metadata": {},
     "output_type": "execute_result"
    }
   ],
   "source": [
    "from jyquickhelper import add_notebook_menu\n",
    "add_notebook_menu()"
   ]
  },
  {
   "cell_type": "markdown",
   "metadata": {},
   "source": [
    "La première étape constiste à mettre en forme les données pour que les fonctions des modules statsmodels et skitlearn fonctionnent comme on le souhaite"
   ]
  },
  {
   "cell_type": "code",
   "execution_count": 7,
   "metadata": {},
   "outputs": [
    {
     "name": "stdout",
     "output_type": "stream",
     "text": [
      "Collecting pyquickhelper\n",
      "  Downloading pyquickhelper-1.5.2215-py3-none-any.whl (515kB)\n",
      "\u001b[K    100% |████████████████████████████████| 522kB 1.3MB/s ta 0:00:011\n",
      "\u001b[?25hRequirement already satisfied: IPython>=5.0.0 in /home/atheane/anaconda3/lib/python3.6/site-packages (from pyquickhelper)\n",
      "Requirement already satisfied: jupyter-client in /home/atheane/anaconda3/lib/python3.6/site-packages (from pyquickhelper)\n",
      "Collecting nbsphinx (from pyquickhelper)\n",
      "  Using cached nbsphinx-0.2.14-py2.py3-none-any.whl\n",
      "Collecting coverage (from pyquickhelper)\n",
      "  Using cached coverage-4.4.1-cp36-cp36m-manylinux1_x86_64.whl\n",
      "Collecting sphinx-gallery (from pyquickhelper)\n",
      "Collecting autopep8 (from pyquickhelper)\n",
      "  Using cached autopep8-1.3.2-py2.py3-none-any.whl\n",
      "Requirement already satisfied: docutils in /home/atheane/anaconda3/lib/python3.6/site-packages (from pyquickhelper)\n",
      "Requirement already satisfied: notebook>=4.2.0 in /home/atheane/anaconda3/lib/python3.6/site-packages (from pyquickhelper)\n",
      "Requirement already satisfied: entrypoints in /home/atheane/anaconda3/lib/python3.6/site-packages (from pyquickhelper)\n",
      "Collecting tqdm (from pyquickhelper)\n",
      "  Downloading tqdm-4.18.0-py2.py3-none-any.whl (48kB)\n",
      "\u001b[K    100% |████████████████████████████████| 51kB 5.6MB/s ta 0:00:011\n",
      "\u001b[?25hRequirement already satisfied: simplegeneric in /home/atheane/anaconda3/lib/python3.6/site-packages (from pyquickhelper)\n",
      "Requirement already satisfied: nbconvert>=4.2.0 in /home/atheane/anaconda3/lib/python3.6/site-packages (from pyquickhelper)\n",
      "Requirement already satisfied: jupyter in /home/atheane/anaconda3/lib/python3.6/site-packages (from pyquickhelper)\n",
      "Requirement already satisfied: babel!=2.0 in /home/atheane/anaconda3/lib/python3.6/site-packages (from pyquickhelper)\n",
      "Requirement already satisfied: pandas>=0.18.1 in /home/atheane/anaconda3/lib/python3.6/site-packages (from pyquickhelper)\n",
      "Requirement already satisfied: pyflakes in /home/atheane/anaconda3/lib/python3.6/site-packages (from pyquickhelper)\n",
      "Requirement already satisfied: jyquickhelper in /home/atheane/anaconda3/lib/python3.6/site-packages (from pyquickhelper)\n",
      "Requirement already satisfied: numpy>=1.11.1 in /home/atheane/anaconda3/lib/python3.6/site-packages (from pyquickhelper)\n",
      "Collecting metakernel (from pyquickhelper)\n",
      "  Using cached metakernel-0.20.7-py2.py3-none-any.whl\n",
      "Collecting unify (from pyquickhelper)\n",
      "Collecting nbpresent (from pyquickhelper)\n",
      "  Using cached nbpresent-3.0.0-py2.py3-none-any.whl\n",
      "Collecting sphinxcontrib-imagesvg (from pyquickhelper)\n",
      "  Using cached sphinxcontrib_imagesvg-0.1-py2.py3-none-any.whl\n",
      "Collecting sphinxcontrib-jsdemo (from pyquickhelper)\n",
      "Collecting jupyter-sphinx (from pyquickhelper)\n",
      "  Using cached jupyter_sphinx-0.1.1-py2.py3-none-any.whl\n",
      "Requirement already satisfied: matplotlib in /home/atheane/anaconda3/lib/python3.6/site-packages (from pyquickhelper)\n",
      "Collecting pydocstyle (from pyquickhelper)\n",
      "  Using cached pydocstyle-2.0.0-py2.py3-none-any.whl\n",
      "Collecting sphinx>=1.6 (from pyquickhelper)\n",
      "  Downloading Sphinx-1.6.4-py2.py3-none-any.whl (1.9MB)\n",
      "\u001b[K    100% |████████████████████████████████| 1.9MB 703kB/s ta 0:00:011\n",
      "\u001b[?25hRequirement already satisfied: jupyter-core in /home/atheane/anaconda3/lib/python3.6/site-packages (from pyquickhelper)\n",
      "Collecting semantic-version (from pyquickhelper)\n",
      "  Using cached semantic_version-2.6.0-py3-none-any.whl\n",
      "Collecting multi-key-dict (from pyquickhelper)\n",
      "Collecting pycodestyle>=2.0.0 (from pyquickhelper)\n",
      "  Using cached pycodestyle-2.3.1-py2.py3-none-any.whl\n",
      "Collecting sphinxjp.themes.revealjs (from pyquickhelper)\n",
      "  Using cached sphinxjp.themes.revealjs-0.3.0-py2.py3-none-any.whl\n",
      "Collecting docformatter (from pyquickhelper)\n",
      "Requirement already satisfied: nbformat in /home/atheane/anaconda3/lib/python3.6/site-packages (from pyquickhelper)\n",
      "Requirement already satisfied: traitlets in /home/atheane/anaconda3/lib/python3.6/site-packages (from nbsphinx->pyquickhelper)\n",
      "Requirement already satisfied: jinja2 in /home/atheane/anaconda3/lib/python3.6/site-packages (from nbsphinx->pyquickhelper)\n",
      "Requirement already satisfied: mistune!=0.6 in /home/atheane/anaconda3/lib/python3.6/site-packages (from nbconvert>=4.2.0->pyquickhelper)\n",
      "Requirement already satisfied: pygments in /home/atheane/anaconda3/lib/python3.6/site-packages (from nbconvert>=4.2.0->pyquickhelper)\n",
      "Requirement already satisfied: bleach in /home/atheane/anaconda3/lib/python3.6/site-packages (from nbconvert>=4.2.0->pyquickhelper)\n",
      "Requirement already satisfied: pandocfilters>=1.4.1 in /home/atheane/anaconda3/lib/python3.6/site-packages (from nbconvert>=4.2.0->pyquickhelper)\n",
      "Requirement already satisfied: testpath in /home/atheane/anaconda3/lib/python3.6/site-packages (from nbconvert>=4.2.0->pyquickhelper)\n",
      "Requirement already satisfied: pytz>=0a in /home/atheane/anaconda3/lib/python3.6/site-packages (from babel!=2.0->pyquickhelper)\n",
      "Requirement already satisfied: python-dateutil>=2 in /home/atheane/anaconda3/lib/python3.6/site-packages (from pandas>=0.18.1->pyquickhelper)\n",
      "Requirement already satisfied: pexpect>=4.2 in /home/atheane/anaconda3/lib/python3.6/site-packages (from metakernel->pyquickhelper)\n",
      "Requirement already satisfied: ipykernel in /home/atheane/anaconda3/lib/python3.6/site-packages (from metakernel->pyquickhelper)\n",
      "Collecting untokenize (from unify->pyquickhelper)\n",
      "Requirement already satisfied: setuptools in /home/atheane/anaconda3/lib/python3.6/site-packages/setuptools-27.2.0-py3.6.egg (from sphinxcontrib-imagesvg->pyquickhelper)\n",
      "Requirement already satisfied: ipywidgets>=6.0.0 in /home/atheane/anaconda3/lib/python3.6/site-packages (from jupyter-sphinx->pyquickhelper)\n",
      "Requirement already satisfied: six>=1.10 in /home/atheane/anaconda3/lib/python3.6/site-packages (from matplotlib->pyquickhelper)\n",
      "Requirement already satisfied: cycler>=0.10 in /home/atheane/anaconda3/lib/python3.6/site-packages (from matplotlib->pyquickhelper)\n",
      "Requirement already satisfied: pyparsing!=2.0.4,!=2.1.2,!=2.1.6,>=1.5.6 in /home/atheane/anaconda3/lib/python3.6/site-packages (from matplotlib->pyquickhelper)\n",
      "Requirement already satisfied: snowballstemmer in /home/atheane/anaconda3/lib/python3.6/site-packages (from pydocstyle->pyquickhelper)\n",
      "Requirement already satisfied: alabaster<0.8,>=0.7 in /home/atheane/anaconda3/lib/python3.6/site-packages (from sphinx>=1.6->pyquickhelper)\n",
      "Collecting sphinxcontrib-websupport (from sphinx>=1.6->pyquickhelper)\n",
      "  Using cached sphinxcontrib_websupport-1.0.1-py2.py3-none-any.whl\n",
      "Requirement already satisfied: imagesize in /home/atheane/anaconda3/lib/python3.6/site-packages (from sphinx>=1.6->pyquickhelper)\n",
      "Requirement already satisfied: requests>=2.0.0 in /home/atheane/anaconda3/lib/python3.6/site-packages (from sphinx>=1.6->pyquickhelper)\n",
      "Requirement already satisfied: MarkupSafe>=0.23 in /home/atheane/anaconda3/lib/python3.6/site-packages (from jinja2->nbsphinx->pyquickhelper)\n",
      "Requirement already satisfied: html5lib!=0.9999,!=0.99999,<0.99999999,>=0.999 in /home/atheane/anaconda3/lib/python3.6/site-packages (from bleach->nbconvert>=4.2.0->pyquickhelper)\n",
      "Installing collected packages: sphinxcontrib-websupport, sphinx, nbsphinx, coverage, sphinx-gallery, pycodestyle, autopep8, tqdm, metakernel, untokenize, unify, nbpresent, sphinxcontrib-imagesvg, sphinxcontrib-jsdemo, jupyter-sphinx, pydocstyle, semantic-version, multi-key-dict, sphinxjp.themes.revealjs, docformatter, pyquickhelper\n",
      "  Found existing installation: Sphinx 1.5.6\n",
      "    Uninstalling Sphinx-1.5.6:\n",
      "      Successfully uninstalled Sphinx-1.5.6\n",
      "Successfully installed autopep8-1.3.2 coverage-4.4.1 docformatter-0.8 jupyter-sphinx-0.1.1 metakernel-0.20.7 multi-key-dict-2.0.3 nbpresent-3.0.0 nbsphinx-0.2.14 pycodestyle-2.3.1 pydocstyle-2.0.0 pyquickhelper-1.5.2215 semantic-version-2.6.0 sphinx-1.6.4 sphinx-gallery-0.1.12 sphinxcontrib-imagesvg-0.1 sphinxcontrib-jsdemo-0.1.4 sphinxcontrib-websupport-1.0.1 sphinxjp.themes.revealjs-0.3.0 tqdm-4.18.0 unify-0.2 untokenize-0.1.1\n"
     ]
    }
   ],
   "source": [
    "! pip install pyquickhelper"
   ]
  },
  {
   "cell_type": "code",
   "execution_count": 8,
   "metadata": {},
   "outputs": [
    {
     "data": {
      "text/plain": [
       "['./ensae_competition_test_X.txt', './ensae_competition_train.txt']"
      ]
     },
     "execution_count": 8,
     "metadata": {},
     "output_type": "execute_result"
    }
   ],
   "source": [
    "from pyensae.datasource import download_data\n",
    "download_data(\"ensae_competition_2016.zip\",\n",
    "              url=\"https://github.com/sdpython/ensae_teaching_cs/raw/master/_doc/competitions/2016_ENSAE_2A/\")"
   ]
  },
  {
   "cell_type": "code",
   "execution_count": 9,
   "metadata": {},
   "outputs": [
    {
     "name": "stderr",
     "output_type": "stream",
     "text": [
      "/home/atheane/anaconda3/lib/python3.6/site-packages/statsmodels/compat/pandas.py:56: FutureWarning: The pandas.core.datetools module is deprecated and will be removed in a future version. Please use the pandas.tseries module instead.\n",
      "  from pandas.core import datetools\n"
     ]
    }
   ],
   "source": [
    "import pandas as pd\n",
    "import statsmodels.api as sm\n",
    "import pylab as pl\n",
    "import numpy as np\n",
    "\n",
    "fichier_train = \"./ensae_competition_train.txt\"\n",
    "fichier_test = \"./ensae_competition_test_X.txt\"\n",
    "\n",
    "df = pd.read_csv(fichier_train, header=[0,1], sep=\"\\t\", index_col=0)"
   ]
  },
  {
   "cell_type": "markdown",
   "metadata": {},
   "source": [
    "## Mise en forme des données pour la régression \n",
    "\n",
    "Pour mieux analyser les données présentes dans la base de données, il faut passer par quelques manipulations.\n",
    "\n",
    "Par exemple, il faut transformer les variables SEX, EDUCATION, MARRIAGE en indictatrices afin qu'elles ne soient pas prise en compte comme des variables continues dans le modèle."
   ]
  },
  {
   "cell_type": "code",
   "execution_count": null,
   "metadata": {
    "collapsed": true
   },
   "outputs": [],
   "source": [
    "#### Gender dummies\n",
    "df['X2'] = df['X2'].applymap(str)\n",
    "gender_dummies = pd.get_dummies(df['X2'] )"
   ]
  },
  {
   "cell_type": "code",
   "execution_count": null,
   "metadata": {
    "collapsed": true
   },
   "outputs": [],
   "source": [
    "### education dummies\n",
    "df['X3'] = df['X3'].applymap(str)\n",
    "educ_dummies = pd.get_dummies(df['X3'] )"
   ]
  },
  {
   "cell_type": "code",
   "execution_count": null,
   "metadata": {
    "collapsed": true
   },
   "outputs": [],
   "source": [
    "#### marriage dummies\n",
    "df['X4'] = df['X4'].applymap(str)\n",
    "mariage_dummies = pd.get_dummies(df['X4'] )"
   ]
  },
  {
   "cell_type": "code",
   "execution_count": null,
   "metadata": {
    "collapsed": true,
    "scrolled": true
   },
   "outputs": [],
   "source": [
    "### On va aussi supprimer les multi index de la table\n",
    "df.columns = df.columns.droplevel(0)"
   ]
  },
  {
   "cell_type": "code",
   "execution_count": null,
   "metadata": {},
   "outputs": [
    {
     "data": {
      "text/html": [
       "<div>\n",
       "<table border=\"1\" class=\"dataframe\">\n",
       "  <thead>\n",
       "    <tr style=\"text-align: right;\">\n",
       "      <th></th>\n",
       "      <th>LIMIT_BAL</th>\n",
       "      <th>SEX</th>\n",
       "      <th>EDUCATION</th>\n",
       "      <th>MARRIAGE</th>\n",
       "      <th>AGE</th>\n",
       "      <th>PAY_0</th>\n",
       "      <th>PAY_2</th>\n",
       "      <th>PAY_3</th>\n",
       "      <th>PAY_4</th>\n",
       "      <th>PAY_5</th>\n",
       "      <th>...</th>\n",
       "      <th>EDUCATION_1</th>\n",
       "      <th>EDUCATION_2</th>\n",
       "      <th>EDUCATION_3</th>\n",
       "      <th>EDUCATION_4</th>\n",
       "      <th>EDUCATION_5</th>\n",
       "      <th>EDUCATION_6</th>\n",
       "      <th>MARRIAGE_0</th>\n",
       "      <th>MARRIAGE_1</th>\n",
       "      <th>MARRIAGE_2</th>\n",
       "      <th>MARRIAGE_3</th>\n",
       "    </tr>\n",
       "  </thead>\n",
       "  <tbody>\n",
       "    <tr>\n",
       "      <th>0</th>\n",
       "      <td>180000</td>\n",
       "      <td>1</td>\n",
       "      <td>2</td>\n",
       "      <td>1</td>\n",
       "      <td>47</td>\n",
       "      <td>0</td>\n",
       "      <td>0</td>\n",
       "      <td>0</td>\n",
       "      <td>0</td>\n",
       "      <td>0</td>\n",
       "      <td>...</td>\n",
       "      <td>0</td>\n",
       "      <td>1</td>\n",
       "      <td>0</td>\n",
       "      <td>0</td>\n",
       "      <td>0</td>\n",
       "      <td>0</td>\n",
       "      <td>0</td>\n",
       "      <td>1</td>\n",
       "      <td>0</td>\n",
       "      <td>0</td>\n",
       "    </tr>\n",
       "    <tr>\n",
       "      <th>1</th>\n",
       "      <td>110000</td>\n",
       "      <td>2</td>\n",
       "      <td>2</td>\n",
       "      <td>1</td>\n",
       "      <td>35</td>\n",
       "      <td>0</td>\n",
       "      <td>0</td>\n",
       "      <td>0</td>\n",
       "      <td>0</td>\n",
       "      <td>0</td>\n",
       "      <td>...</td>\n",
       "      <td>0</td>\n",
       "      <td>1</td>\n",
       "      <td>0</td>\n",
       "      <td>0</td>\n",
       "      <td>0</td>\n",
       "      <td>0</td>\n",
       "      <td>0</td>\n",
       "      <td>1</td>\n",
       "      <td>0</td>\n",
       "      <td>0</td>\n",
       "    </tr>\n",
       "  </tbody>\n",
       "</table>\n",
       "<p>2 rows × 37 columns</p>\n",
       "</div>"
      ],
      "text/plain": [
       "   LIMIT_BAL SEX EDUCATION MARRIAGE  AGE  PAY_0  PAY_2  PAY_3  PAY_4  PAY_5  \\\n",
       "0     180000   1         2        1   47      0      0      0      0      0   \n",
       "1     110000   2         2        1   35      0      0      0      0      0   \n",
       "\n",
       "      ...      EDUCATION_1  EDUCATION_2  EDUCATION_3  EDUCATION_4  \\\n",
       "0     ...                0            1            0            0   \n",
       "1     ...                0            1            0            0   \n",
       "\n",
       "   EDUCATION_5  EDUCATION_6  MARRIAGE_0  MARRIAGE_1  MARRIAGE_2  MARRIAGE_3  \n",
       "0            0            0           0           1           0           0  \n",
       "1            0            0           0           1           0           0  \n",
       "\n",
       "[2 rows x 37 columns]"
      ]
     },
     "execution_count": null,
     "metadata": {},
     "output_type": "execute_result"
    }
   ],
   "source": [
    "#### on aggrège ensuite les 3 tables ensemble\n",
    "data = df.join(gender_dummies).join(educ_dummies).join(mariage_dummies)\n",
    "data.head(n=2)"
   ]
  },
  {
   "cell_type": "markdown",
   "metadata": {},
   "source": [
    "## Régression logistique en utilisant statsmodels \n",
    "\n",
    "Pour notre premier modèle, nous allons voir comment fonctionne le module statsmodels\n",
    "\n",
    "Par défaut, la regression logit n'a pas de beta zéro pour le module statsmodels : il faut donc l'ajouter"
   ]
  },
  {
   "cell_type": "code",
   "execution_count": null,
   "metadata": {},
   "outputs": [
    {
     "data": {
      "text/plain": [
       "Index(['LIMIT_BAL', 'SEX', 'EDUCATION', 'MARRIAGE', 'AGE', 'PAY_0', 'PAY_2',\n",
       "       'PAY_3', 'PAY_4', 'PAY_5', 'PAY_6', 'BILL_AMT1', 'BILL_AMT2',\n",
       "       'BILL_AMT3', 'BILL_AMT4', 'BILL_AMT5', 'BILL_AMT6', 'PAY_AMT1',\n",
       "       'PAY_AMT2', 'PAY_AMT3', 'PAY_AMT4', 'PAY_AMT5', 'PAY_AMT6', 'Y',\n",
       "       'SEX_1', 'SEX_2', 'EDUCATION_0', 'EDUCATION_1', 'EDUCATION_2',\n",
       "       'EDUCATION_3', 'EDUCATION_4', 'EDUCATION_5', 'EDUCATION_6',\n",
       "       'MARRIAGE_0', 'MARRIAGE_1', 'MARRIAGE_2', 'MARRIAGE_3', 'intercept'],\n",
       "      dtype='object')"
      ]
     },
     "execution_count": null,
     "metadata": {},
     "output_type": "execute_result"
    }
   ],
   "source": [
    "# première étape pour ce module, il faut ajouter à la main le beta zéro - l'intercept\n",
    "data['intercept'] = 1.0\n",
    "data.rename(columns = {'default payment next month' : \"Y\"}, inplace = True)\n",
    "data.columns"
   ]
  },
  {
   "cell_type": "code",
   "execution_count": null,
   "metadata": {
    "collapsed": true
   },
   "outputs": [],
   "source": [
    "# variable = ['AGE', 'BILL_AMT1', 'BILL_AMT2', 'BILL_AMT3', 'BILL_AMT4',\n",
    "#       'BILL_AMT5', 'BILL_AMT6', 'LIMIT_BAL', 'PAY_0',\n",
    "#       'PAY_2', 'PAY_3', 'PAY_4', 'PAY_5', 'PAY_6', 'PAY_AMT1', 'PAY_AMT2',\n",
    "#       'PAY_AMT3', 'PAY_AMT4', 'PAY_AMT5', 'PAY_AMT6', 'SEX_1',\n",
    "#       'EDUCATION_0', 'EDUCATION_1', 'EDUCATION_2', 'EDUCATION_3',\n",
    "#       'EDUCATION_4', 'EDUCATION_5', 'MARRIAGE_0', 'MARRIAGE_1',\n",
    "#       'MARRIAGE_2', 'intercept']\n",
    "\n",
    "train_cols = [\"SEX_1\", \"AGE\", \"MARRIAGE_0\", 'PAY_0','intercept']"
   ]
  },
  {
   "cell_type": "code",
   "execution_count": null,
   "metadata": {},
   "outputs": [
    {
     "name": "stdout",
     "output_type": "stream",
     "text": [
      "Optimization terminated successfully.\n",
      "         Current function value: 0.475306\n",
      "         Iterations 6\n",
      "                           Logit Regression Results                           \n",
      "==============================================================================\n",
      "Dep. Variable:                      Y   No. Observations:                22500\n",
      "Model:                          Logit   Df Residuals:                    22495\n",
      "Method:                           MLE   Df Model:                            4\n",
      "Date:                Tue, 15 Nov 2016   Pseudo R-squ.:                  0.1008\n",
      "Time:                        00:40:48   Log-Likelihood:                -10694.\n",
      "converged:                       True   LL-Null:                       -11893.\n",
      "                                        LLR p-value:                     0.000\n",
      "==============================================================================\n",
      "                 coef    std err          z      P>|z|      [0.025      0.975]\n",
      "------------------------------------------------------------------------------\n",
      "SEX_1          0.1093      0.035      3.144      0.002       0.041       0.177\n",
      "AGE            0.0076      0.002      4.202      0.000       0.004       0.011\n",
      "MARRIAGE_0    -0.8095      0.527     -1.536      0.124      -1.842       0.223\n",
      "PAY_0          0.7304      0.016     44.554      0.000       0.698       0.763\n",
      "intercept     -1.7150      0.067    -25.435      0.000      -1.847      -1.583\n",
      "==============================================================================\n"
     ]
    }
   ],
   "source": [
    "logit = sm.Logit(data['Y'], data[train_cols].astype(float))\n",
    "\n",
    "# fit the model\n",
    "result = logit.fit()\n",
    "print(result.summary())"
   ]
  },
  {
   "cell_type": "markdown",
   "metadata": {},
   "source": [
    "## Prédiction sur la base de test\n",
    "\n",
    "On va prédire les probabilités de défaut de paiement sur notre base de test.\n",
    "\n",
    "Il faut commencer par transformer la base de test comme on l'a fait pour la base de train."
   ]
  },
  {
   "cell_type": "code",
   "execution_count": null,
   "metadata": {
    "collapsed": true
   },
   "outputs": [],
   "source": [
    "data_test = pd.read_csv(fichier_test, header=[0,1], sep=\"\\t\", index_col=0)"
   ]
  },
  {
   "cell_type": "code",
   "execution_count": null,
   "metadata": {
    "collapsed": true
   },
   "outputs": [],
   "source": [
    "#### Gender dummies\n",
    "data_test['X2'] = data_test['X2'].applymap(str)\n",
    "gender_dummies_test = pd.get_dummies(data_test['X2'] )"
   ]
  },
  {
   "cell_type": "code",
   "execution_count": null,
   "metadata": {
    "collapsed": true
   },
   "outputs": [],
   "source": [
    "### education dummies\n",
    "data_test['X3'] = data_test['X3'].applymap(str)\n",
    "educ_dummies_test = pd.get_dummies(data_test['X3'] )"
   ]
  },
  {
   "cell_type": "code",
   "execution_count": null,
   "metadata": {
    "collapsed": true
   },
   "outputs": [],
   "source": [
    "#### marriage dummies\n",
    "data_test['X4'] = data_test['X4'].applymap(str)\n",
    "mariage_dummies_test = pd.get_dummies(data_test['X4'] )"
   ]
  },
  {
   "cell_type": "code",
   "execution_count": null,
   "metadata": {
    "collapsed": true,
    "scrolled": true
   },
   "outputs": [],
   "source": [
    "### On va aussi supprimer les multi index de la table\n",
    "data_test.columns = data_test.columns.droplevel(0)"
   ]
  },
  {
   "cell_type": "code",
   "execution_count": null,
   "metadata": {
    "collapsed": true
   },
   "outputs": [],
   "source": [
    "#### on aggrège ensuite les 3 tables ensemble\n",
    "data_test = data_test.join(gender_dummies_test).join(educ_dummies_test).join(mariage_dummies_test)"
   ]
  },
  {
   "cell_type": "code",
   "execution_count": null,
   "metadata": {
    "collapsed": true
   },
   "outputs": [],
   "source": [
    "data_test['intercept'] = 1.0"
   ]
  },
  {
   "cell_type": "code",
   "execution_count": null,
   "metadata": {},
   "outputs": [
    {
     "data": {
      "text/html": [
       "<div>\n",
       "<table border=\"1\" class=\"dataframe\">\n",
       "  <thead>\n",
       "    <tr style=\"text-align: right;\">\n",
       "      <th></th>\n",
       "      <th>SEX_1</th>\n",
       "      <th>AGE</th>\n",
       "      <th>MARRIAGE_0</th>\n",
       "      <th>PAY_0</th>\n",
       "      <th>intercept</th>\n",
       "    </tr>\n",
       "  </thead>\n",
       "  <tbody>\n",
       "    <tr>\n",
       "      <th>0</th>\n",
       "      <td>0</td>\n",
       "      <td>35</td>\n",
       "      <td>0</td>\n",
       "      <td>0</td>\n",
       "      <td>1.0</td>\n",
       "    </tr>\n",
       "    <tr>\n",
       "      <th>1</th>\n",
       "      <td>0</td>\n",
       "      <td>55</td>\n",
       "      <td>0</td>\n",
       "      <td>-1</td>\n",
       "      <td>1.0</td>\n",
       "    </tr>\n",
       "    <tr>\n",
       "      <th>2</th>\n",
       "      <td>1</td>\n",
       "      <td>33</td>\n",
       "      <td>0</td>\n",
       "      <td>0</td>\n",
       "      <td>1.0</td>\n",
       "    </tr>\n",
       "    <tr>\n",
       "      <th>3</th>\n",
       "      <td>1</td>\n",
       "      <td>23</td>\n",
       "      <td>0</td>\n",
       "      <td>0</td>\n",
       "      <td>1.0</td>\n",
       "    </tr>\n",
       "    <tr>\n",
       "      <th>4</th>\n",
       "      <td>1</td>\n",
       "      <td>42</td>\n",
       "      <td>0</td>\n",
       "      <td>-2</td>\n",
       "      <td>1.0</td>\n",
       "    </tr>\n",
       "  </tbody>\n",
       "</table>\n",
       "</div>"
      ],
      "text/plain": [
       "   SEX_1  AGE  MARRIAGE_0  PAY_0  intercept\n",
       "0      0   35           0      0        1.0\n",
       "1      0   55           0     -1        1.0\n",
       "2      1   33           0      0        1.0\n",
       "3      1   23           0      0        1.0\n",
       "4      1   42           0     -2        1.0"
      ]
     },
     "execution_count": null,
     "metadata": {},
     "output_type": "execute_result"
    }
   ],
   "source": [
    "data_test[train_cols].head()"
   ]
  },
  {
   "cell_type": "markdown",
   "metadata": {},
   "source": [
    "Maintenant que la base de test est également transformée, nous allons appliqué les résultats de notre modèle à cette table en utilisant la fonction predict"
   ]
  },
  {
   "cell_type": "code",
   "execution_count": null,
   "metadata": {},
   "outputs": [
    {
     "data": {
      "text/plain": [
       "count    7500.000000\n",
       "mean        0.220305\n",
       "std         0.136834\n",
       "min         0.025511\n",
       "25%         0.114870\n",
       "50%         0.194184\n",
       "75%         0.225708\n",
       "max         0.988777\n",
       "Name: prediction_statsmodel, dtype: float64"
      ]
     },
     "execution_count": null,
     "metadata": {},
     "output_type": "execute_result"
    }
   ],
   "source": [
    "data_test['prediction_statsmodel'] = result.predict(data_test[train_cols])\n",
    "data_test['prediction_statsmodel'].describe()"
   ]
  },
  {
   "cell_type": "markdown",
   "metadata": {},
   "source": [
    "On trouve un taux moyen de défaut de 22%, ce qui est très proche du taux observé dans la base de train"
   ]
  },
  {
   "cell_type": "code",
   "execution_count": null,
   "metadata": {
    "collapsed": true
   },
   "outputs": [],
   "source": [
    "# puis on l'exporte\n",
    "data_test['prediction_statsmodel'].to_csv(\"./answer.csv\", index=False)"
   ]
  },
  {
   "cell_type": "markdown",
   "metadata": {},
   "source": [
    "## Regression logistique en utilisant Scikit-learn\n",
    "\n",
    "A présent, nous allons utiliser le module scikit learn pour estimer le même modèle que précédemment et comparer les résultats.\n",
    "\n",
    "Ici pas besoin d'ajouter une variable égale à 1 (l'intercept) car Scikit learn considère qu'il y a un intercept par défaut."
   ]
  },
  {
   "cell_type": "code",
   "execution_count": null,
   "metadata": {
    "collapsed": true
   },
   "outputs": [],
   "source": [
    "from sklearn import linear_model\n",
    "logistic = linear_model.LogisticRegression()"
   ]
  },
  {
   "cell_type": "code",
   "execution_count": null,
   "metadata": {},
   "outputs": [
    {
     "name": "stdout",
     "output_type": "stream",
     "text": [
      "l'estimation des coefficients [[ 0.10899192  0.00751036 -0.56310513  0.72994068 -0.85555264]] \n",
      "\n",
      "l'intercept :  [-0.85555264]\n"
     ]
    }
   ],
   "source": [
    "print(\"l'estimation des coefficients\", logistic.fit(data[train_cols], data['Y']).coef_, \"\\n\")\n",
    "\n",
    "print(\"l'intercept : \", logistic.fit(data[train_cols], data['Y']).intercept_)"
   ]
  },
  {
   "cell_type": "markdown",
   "metadata": {},
   "source": [
    "A la différence de statsmodels, Scikit-learn ne propose pas une belle table de résultat : seulement les arrays qui contiennent les coefficients\n",
    "\n",
    "Pour le détail des p-value et intervalles de confiance, il faudra les recalculer à la main. \n",
    "\n",
    "\n",
    "Par contre, la fonction de prédiction existe et elle renvoit  la probabilité de Y = 0 et Y = 1 "
   ]
  },
  {
   "cell_type": "code",
   "execution_count": null,
   "metadata": {},
   "outputs": [
    {
     "data": {
      "text/plain": [
       "array([[ 0.80972784,  0.19027216],\n",
       "       [ 0.88370325,  0.11629675],\n",
       "       [ 0.79482709,  0.20517291],\n",
       "       ..., \n",
       "       [ 0.80972784,  0.19027216],\n",
       "       [ 0.88899819,  0.11100181],\n",
       "       [ 0.79667299,  0.20332701]])"
      ]
     },
     "execution_count": null,
     "metadata": {},
     "output_type": "execute_result"
    }
   ],
   "source": [
    "logistic.predict_proba(data_test[train_cols])"
   ]
  },
  {
   "cell_type": "code",
   "execution_count": null,
   "metadata": {},
   "outputs": [
    {
     "data": {
      "text/plain": [
       "array([ 0.77965411,  0.22034589])"
      ]
     },
     "execution_count": null,
     "metadata": {},
     "output_type": "execute_result"
    }
   ],
   "source": [
    "# pour calculer la moyenne du taux de défaut prédit \n",
    "logistic.predict_proba(data_test[train_cols]).mean(axis=0)\n",
    "\n",
    "# on trouve à nouveau 22%"
   ]
  }
 ],
 "metadata": {
  "kernelspec": {
   "display_name": "Python 3",
   "language": "python",
   "name": "python3"
  },
  "language_info": {
   "codemirror_mode": {
    "name": "ipython",
    "version": 3
   },
   "file_extension": ".py",
   "mimetype": "text/x-python",
   "name": "python",
   "nbconvert_exporter": "python",
   "pygments_lexer": "ipython3",
   "version": "3.6.1"
  }
 },
 "nbformat": 4,
 "nbformat_minor": 1
}
